{
 "cells": [
  {
   "cell_type": "markdown",
   "metadata": {},
   "source": [
    "imports ..."
   ]
  },
  {
   "cell_type": "code",
   "execution_count": null,
   "metadata": {},
   "outputs": [],
   "source": [
    "import pandas as pd\n",
    "import numpy as np\n",
    "import matplotlib.pyplot as plt\n",
    "import seaborn as sns\n",
    "import os\n"
   ]
  },
  {
   "cell_type": "markdown",
   "metadata": {},
   "source": [
    "***\n",
    "##  10 Thousand German News Dataset - Topic Classification"
   ]
  },
  {
   "cell_type": "markdown",
   "metadata": {},
   "source": [
    "Wir laden das 10k German News Dataset. Es enthält ca. 10k Online News-Artikel einer österreichischen Tageszeitung.  \n",
    "Die Artikel wurden von (menschlichen) Annotierern in verschiedene thematische Klassen eingeteilt.  \n",
    "Jeder Artikel ist genau einer der folgenden neun Kategorien zugeordnet:  \n",
    "\n",
    "+ 'Etat'\n",
    "+ 'Inland'\n",
    "+ 'International'\n",
    "+ 'Kultur'\n",
    "+ 'Panorama'\n",
    "+ 'Sport'\n",
    "+ 'Web'\n",
    "+ 'Wirtschaft'\n",
    "+ 'Wissenschaft'\n",
    "\n",
    "Mehr Details zum Datenset unter: https://tblock.github.io/10kGNAD/\n",
    "  \n",
    "Zunächst laden wir das Datenset in einen Dataframe \"gnd\""
   ]
  },
  {
   "cell_type": "code",
   "execution_count": null,
   "metadata": {},
   "outputs": [],
   "source": [
    "gnd = pd.read_csv('10kGNAD_train.csv', header=None, sep=';', quotechar=\"'\", names=['label', 'text'])\n",
    "pd.set_option('display.max_colwidth', -1)\n",
    "print(\"Umfang des Datensets:\",gnd.shape)\n",
    "gnd.head(3)"
   ]
  },
  {
   "cell_type": "markdown",
   "metadata": {},
   "source": [
    "Kurze Exploration der Daten"
   ]
  },
  {
   "cell_type": "code",
   "execution_count": null,
   "metadata": {},
   "outputs": [],
   "source": [
    "print(gnd.label.value_counts(normalize=True).round(3))\n",
    "_= gnd.label.value_counts().plot(kind=\"pie\", )\n",
    "plt.show()\n",
    "_= gnd.label.value_counts().plot(kind=\"barh\", )"
   ]
  },
  {
   "cell_type": "markdown",
   "metadata": {},
   "source": [
    "Wir splitten wieder in Training (70%) und Test-Set (30%):"
   ]
  },
  {
   "cell_type": "code",
   "execution_count": null,
   "metadata": {},
   "outputs": [],
   "source": [
    "from sklearn.model_selection import train_test_split\n",
    "df_train, df_test = train_test_split(gnd, test_size=.3, stratify=gnd.label)\n",
    "df_train.shape, df_test.shape"
   ]
  },
  {
   "cell_type": "code",
   "execution_count": null,
   "metadata": {},
   "outputs": [],
   "source": [
    "df_train.label.value_counts(normalize=True).round(3)"
   ]
  },
  {
   "cell_type": "markdown",
   "metadata": {},
   "source": [
    "Wir importieren die notwendigen Classifier & Tools aus Scikit-Learn"
   ]
  },
  {
   "cell_type": "code",
   "execution_count": null,
   "metadata": {},
   "outputs": [],
   "source": [
    "from sklearn.feature_extraction.text import TfidfVectorizer, CountVectorizer, TfidfTransformer\n",
    "from sklearn.svm import LinearSVC\n",
    "from sklearn.linear_model import LogisticRegression\n",
    "from sklearn.pipeline import Pipeline\n",
    "from sklearn.model_selection import train_test_split\n",
    "from sklearn.metrics import accuracy_score, classification_report, confusion_matrix "
   ]
  },
  {
   "cell_type": "markdown",
   "metadata": {},
   "source": [
    "Dann bauen wir eine \"Pipeline\", in der automatisch das Preprocessing vorgenommen wird.  \n",
    "Auch dafür stellt Scikit-Learn mit der Klasse \"Pipeline\" ein sehr nützliches Werkzeug bereit.  "
   ]
  },
  {
   "cell_type": "code",
   "execution_count": null,
   "metadata": {},
   "outputs": [],
   "source": [
    "# classifier pipeline mit Support Vektor Machine als Classifier definieren\n",
    "lsvc_classifier = Pipeline([\n",
    "  ('vect', CountVectorizer()),\n",
    "  ('tfidf', TfidfTransformer(sublinear_tf=True)),                   \n",
    "  ('clf', LinearSVC(dual=False, C=1.6, class_weight=\"balanced\")),\n",
    "])\n",
    "\n",
    "# classifier mit vorgeschalteter Pipeline trainieren:\n",
    "lsvc_classifier.fit(df_train['text'], df_train['label'])  # train the classifier\n",
    "\n",
    "# trainierten classifier auf die Testdaten anwenden, um den Accuracy Score zu ermitteln:\n",
    "predicted = lsvc_classifier.predict(df_test['text'])  # predict the test set \n",
    "print(classification_report(predicted, df_test.label))"
   ]
  },
  {
   "cell_type": "markdown",
   "metadata": {},
   "source": [
    "Zum Vergleich dasselbe nochmal mit einem anderen Classifier: \"Logistische Regression\""
   ]
  },
  {
   "cell_type": "code",
   "execution_count": null,
   "metadata": {},
   "outputs": [],
   "source": [
    "logReg_classifier = Pipeline([\n",
    "  ('vect', CountVectorizer()),\n",
    "  ('tfidf', TfidfTransformer(sublinear_tf=True)),               \n",
    "  ('clf', LogisticRegression(class_weight=\"balanced\", solver='lbfgs', multi_class='auto'),),\n",
    "])\n",
    "\n",
    "logReg_classifier.fit(df_train['text'], df_train['label'])         # train the classifier\n",
    "predicted = logReg_classifier.predict(df_test['text'])             # predict the test set \n",
    "acc = np.mean(predicted == df_test['label'])                       # calculate the accuracy\n",
    "print(classification_report(predicted, df_test.label))"
   ]
  },
  {
   "cell_type": "code",
   "execution_count": null,
   "metadata": {},
   "outputs": [],
   "source": []
  },
  {
   "cell_type": "code",
   "execution_count": null,
   "metadata": {},
   "outputs": [],
   "source": []
  },
  {
   "cell_type": "markdown",
   "metadata": {},
   "source": [
    "# Parkplatz"
   ]
  },
  {
   "cell_type": "code",
   "execution_count": null,
   "metadata": {},
   "outputs": [],
   "source": [
    "# os.chdir(\"F://Data/Data Science Uni/40200/BMW Bank Seminar/Data Sets\")"
   ]
  },
  {
   "cell_type": "code",
   "execution_count": null,
   "metadata": {},
   "outputs": [],
   "source": []
  }
 ],
 "metadata": {
  "kernelspec": {
   "display_name": "Python 3",
   "language": "python",
   "name": "python3"
  },
  "language_info": {
   "codemirror_mode": {
    "name": "ipython",
    "version": 3
   },
   "file_extension": ".py",
   "mimetype": "text/x-python",
   "name": "python",
   "nbconvert_exporter": "python",
   "pygments_lexer": "ipython3",
   "version": "3.7.4"
  }
 },
 "nbformat": 4,
 "nbformat_minor": 4
}
