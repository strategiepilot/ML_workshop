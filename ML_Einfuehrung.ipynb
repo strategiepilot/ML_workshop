{
 "cells": [
  {
   "cell_type": "markdown",
   "metadata": {},
   "source": [
    "Damit fangen wir immer an ...."
   ]
  },
  {
   "cell_type": "code",
   "execution_count": 103,
   "metadata": {},
   "outputs": [],
   "source": [
    "%matplotlib inline\n",
    "\n",
    "# Grundausstattung an Bibliotheken, die wir immer laden\n",
    "import numpy as np                  # Numerische Operationen, Lineare Algebra\n",
    "from scipy.stats import *           # Funktionsbibliothek mit statistischen Funktionen\n",
    "import matplotlib.pyplot as plt     # Visualisierung von Daten/Ergenissen\n",
    "import pandas as pd                 # Bearbeitung von Tabellen (sog. Data Frames)\n",
    "import seaborn as sns               # Erweiterte Visualisierung von Daten/Ergebnissen etc.\n",
    "import warnings                     # Ermöglicht die Deaktivierung von best. Warnmeldungen\n",
    "import random                       # Damit kann man Zufallszahlen generieren\n",
    "import os                           # Ermöglicht Zugriff auf das Dateiablagesystem \n",
    "\n",
    "# Ein paar Einstellungen, die einem das Leben einfacher machen\n",
    "warnings.filterwarnings('ignore')\n",
    "plt.rcParams['figure.figsize'] = [8, 4]\n",
    "from IPython.core.pylabtools import figsize\n",
    "plt.style.use('seaborn-white')\n",
    "sns.set_style('white')\n",
    "sns.set_context('talk')"
   ]
  },
  {
   "cell_type": "markdown",
   "metadata": {
    "toc-hr-collapsed": false
   },
   "source": [
    "#  Einführung Machine Learing\n",
    "\n",
    "2. Daten & Preprocessing\n",
    "   - Daten laden u. explorieren\n",
    "   - Einfaches Preprocessing\n",
    "\n",
    "\n",
    "3. Unsupervised Learning\n",
    "   - Clustering mit Kmeans\n",
    "\n",
    "\n",
    "4. Supervised Learning\n",
    "   - Datenset ...\n",
    "   - Lineare Regression\n",
    "   - Naive Bayes\n",
    "   - Logistische Regression\n",
    "   - Decision Tree / Random Forest\n",
    "   - Multi-Layer-Perzeptron MLP\n",
    "   - Support Vector Machines SVM\n",
    "\n",
    "\n",
    "5. Modellauswahl & -beurteilung\n",
    "   - Bias-Variance Dilemma\n",
    "   - Confusion Matrix\n",
    "   - Accuracy / Precision / Recall"
   ]
  },
  {
   "cell_type": "markdown",
   "metadata": {
    "toc-hr-collapsed": false
   },
   "source": [
    "***\n",
    "## 2. Daten & Preprocessing"
   ]
  },
  {
   "cell_type": "markdown",
   "metadata": {
    "toc-hr-collapsed": true
   },
   "source": [
    "### 2.1 Daten laden & explorieren\n",
    "Zunächst schauen wir uns an, wie man ML Daten in Python gut einlesen, explorieren und vorbereiten kann.  \n",
    "Dazu verwenden wir hauptsächlich die Funktionsbibliothek PANDAS, die wir bereits in der ersten Zelle (s.o.) dieses Notebooks installiert haben."
   ]
  },
  {
   "cell_type": "markdown",
   "metadata": {
    "toc-hr-collapsed": true
   },
   "source": [
    "#### Erste Schritte\n",
    "Wir laden ein Datenset mit 261 PKW Modellen, die mit jeweils 8 Merkmalen beschrieben werden.  \n",
    "Die Daten sind im Urzustand noch nicht in dem Format, dass wir für ML brauchen.  \n",
    "Darum kümmern wir uns jetzt ..."
   ]
  },
  {
   "cell_type": "code",
   "execution_count": 174,
   "metadata": {},
   "outputs": [
    {
     "data": {
      "text/html": [
       "<div>\n",
       "<style scoped>\n",
       "    .dataframe tbody tr th:only-of-type {\n",
       "        vertical-align: middle;\n",
       "    }\n",
       "\n",
       "    .dataframe tbody tr th {\n",
       "        vertical-align: top;\n",
       "    }\n",
       "\n",
       "    .dataframe thead th {\n",
       "        text-align: right;\n",
       "    }\n",
       "</style>\n",
       "<table border=\"1\" class=\"dataframe\">\n",
       "  <thead>\n",
       "    <tr style=\"text-align: right;\">\n",
       "      <th></th>\n",
       "      <th>mpg</th>\n",
       "      <th>cylinders</th>\n",
       "      <th>cubicinches</th>\n",
       "      <th>hp</th>\n",
       "      <th>weightlbs</th>\n",
       "      <th>time-to-60</th>\n",
       "      <th>year</th>\n",
       "      <th>country</th>\n",
       "    </tr>\n",
       "  </thead>\n",
       "  <tbody>\n",
       "    <tr>\n",
       "      <td>0</td>\n",
       "      <td>14.0</td>\n",
       "      <td>8</td>\n",
       "      <td>350.0</td>\n",
       "      <td>165</td>\n",
       "      <td>4209.0</td>\n",
       "      <td>12</td>\n",
       "      <td>1972</td>\n",
       "      <td>US</td>\n",
       "    </tr>\n",
       "    <tr>\n",
       "      <td>1</td>\n",
       "      <td>31.9</td>\n",
       "      <td>4</td>\n",
       "      <td>89.0</td>\n",
       "      <td>71</td>\n",
       "      <td>1925.0</td>\n",
       "      <td>14</td>\n",
       "      <td>1980</td>\n",
       "      <td>Europe</td>\n",
       "    </tr>\n",
       "    <tr>\n",
       "      <td>2</td>\n",
       "      <td>17.0</td>\n",
       "      <td>8</td>\n",
       "      <td>302.0</td>\n",
       "      <td>140</td>\n",
       "      <td>3449.0</td>\n",
       "      <td>11</td>\n",
       "      <td>1971</td>\n",
       "      <td>US</td>\n",
       "    </tr>\n",
       "    <tr>\n",
       "      <td>3</td>\n",
       "      <td>15.0</td>\n",
       "      <td>8</td>\n",
       "      <td>400.0</td>\n",
       "      <td>150</td>\n",
       "      <td>3761.0</td>\n",
       "      <td>10</td>\n",
       "      <td>1971</td>\n",
       "      <td>US</td>\n",
       "    </tr>\n",
       "    <tr>\n",
       "      <td>4</td>\n",
       "      <td>30.5</td>\n",
       "      <td>4</td>\n",
       "      <td>98.0</td>\n",
       "      <td>63</td>\n",
       "      <td>2051.0</td>\n",
       "      <td>17</td>\n",
       "      <td>1978</td>\n",
       "      <td>US</td>\n",
       "    </tr>\n",
       "  </tbody>\n",
       "</table>\n",
       "</div>"
      ],
      "text/plain": [
       "    mpg  cylinders  cubicinches   hp  weightlbs  time-to-60  year country\n",
       "0  14.0          8        350.0  165     4209.0          12  1972      US\n",
       "1  31.9          4         89.0   71     1925.0          14  1980  Europe\n",
       "2  17.0          8        302.0  140     3449.0          11  1971      US\n",
       "3  15.0          8        400.0  150     3761.0          10  1971      US\n",
       "4  30.5          4         98.0   63     2051.0          17  1978      US"
      ]
     },
     "execution_count": 174,
     "metadata": {},
     "output_type": "execute_result"
    }
   ],
   "source": [
    "# Einlesen des Datensets (liegt als csv-Datei im lokalen Verzeichnis) in einen Pandas DataFrame (df)\n",
    "\n",
    "os.chdir(\"F://Data/Data Science Uni/40200/BMW Bank Seminar/Data Sets\")\n",
    "\n",
    "cars = pd.read_csv(\"cars.csv\", sep=\",\", decimal=\".\")     # Einlesen der.csv Datei vom Verzeichnis und in den Dataframe \"cars\" schreiben\n",
    "# cars = cars.iloc[:,1:]\n",
    "cars.head()                                              # .head()  zeigt die ersten 5 Datensätze/Zeilen des Dataframes an "
   ]
  },
  {
   "cell_type": "code",
   "execution_count": 105,
   "metadata": {},
   "outputs": [
    {
     "data": {
      "text/plain": [
       "(261, 8)"
      ]
     },
     "execution_count": 105,
     "metadata": {},
     "output_type": "execute_result"
    }
   ],
   "source": [
    "# Umfang unseres df bestimmen:  Anzahl Datensätze (Zeilen), Anzahl Features (Spalten)\n",
    "cars.shape"
   ]
  },
  {
   "cell_type": "code",
   "execution_count": 106,
   "metadata": {},
   "outputs": [
    {
     "name": "stdout",
     "output_type": "stream",
     "text": [
      "<class 'pandas.core.frame.DataFrame'>\n",
      "RangeIndex: 261 entries, 0 to 260\n",
      "Data columns (total 8 columns):\n",
      "mpg            261 non-null float64\n",
      "cylinders      261 non-null int64\n",
      "cubicinches    259 non-null float64\n",
      "hp             261 non-null int64\n",
      "weightlbs      258 non-null float64\n",
      "time-to-60     261 non-null int64\n",
      "year           261 non-null int64\n",
      "country        257 non-null object\n",
      "dtypes: float64(3), int64(4), object(1)\n",
      "memory usage: 16.4+ KB\n"
     ]
    }
   ],
   "source": [
    "# Anzeigen der Mermale / Features / Spalten, ihrer Datentypen und Anzahl von fehlenden Werten\n",
    "cars.info()"
   ]
  },
  {
   "cell_type": "code",
   "execution_count": 107,
   "metadata": {},
   "outputs": [
    {
     "data": {
      "text/plain": [
       "mpg              23.144828\n",
       "cylinders         5.590038\n",
       "cubicinches     200.918919\n",
       "hp              106.360153\n",
       "weightlbs      3009.833333\n",
       "time-to-60       15.547893\n",
       "year           1976.819923\n",
       "dtype: float64"
      ]
     },
     "execution_count": 107,
     "metadata": {},
     "output_type": "execute_result"
    }
   ],
   "source": [
    "# Mittelwerte aller Merkmale ermitteln:\n",
    "cars.mean()\n",
    "\n",
    "# funktioniert auch mit ...\n",
    "# .median()\n",
    "# .std()\n",
    "# .var()\n",
    "# .min()\n",
    "# .max()\n"
   ]
  },
  {
   "cell_type": "code",
   "execution_count": 108,
   "metadata": {},
   "outputs": [
    {
     "data": {
      "text/plain": [
       "23.144827586206898"
      ]
     },
     "execution_count": 108,
     "metadata": {},
     "output_type": "execute_result"
    }
   ],
   "source": [
    "# Oder wenn man nur die Werte eines bestimmten Merkmals ermitteln möchte:\n",
    "cars.mpg.mean()"
   ]
  },
  {
   "cell_type": "code",
   "execution_count": 109,
   "metadata": {},
   "outputs": [
    {
     "data": {
      "text/html": [
       "<div>\n",
       "<style scoped>\n",
       "    .dataframe tbody tr th:only-of-type {\n",
       "        vertical-align: middle;\n",
       "    }\n",
       "\n",
       "    .dataframe tbody tr th {\n",
       "        vertical-align: top;\n",
       "    }\n",
       "\n",
       "    .dataframe thead th {\n",
       "        text-align: right;\n",
       "    }\n",
       "</style>\n",
       "<table border=\"1\" class=\"dataframe\">\n",
       "  <thead>\n",
       "    <tr style=\"text-align: right;\">\n",
       "      <th></th>\n",
       "      <th>mpg</th>\n",
       "      <th>cylinders</th>\n",
       "      <th>cubicinches</th>\n",
       "      <th>hp</th>\n",
       "      <th>weightlbs</th>\n",
       "      <th>time-to-60</th>\n",
       "      <th>year</th>\n",
       "    </tr>\n",
       "  </thead>\n",
       "  <tbody>\n",
       "    <tr>\n",
       "      <td>count</td>\n",
       "      <td>261.000000</td>\n",
       "      <td>261.000000</td>\n",
       "      <td>259.000000</td>\n",
       "      <td>261.000000</td>\n",
       "      <td>258.000000</td>\n",
       "      <td>261.000000</td>\n",
       "      <td>261.000000</td>\n",
       "    </tr>\n",
       "    <tr>\n",
       "      <td>mean</td>\n",
       "      <td>23.144828</td>\n",
       "      <td>5.590038</td>\n",
       "      <td>200.918919</td>\n",
       "      <td>106.360153</td>\n",
       "      <td>3009.833333</td>\n",
       "      <td>15.547893</td>\n",
       "      <td>1976.819923</td>\n",
       "    </tr>\n",
       "    <tr>\n",
       "      <td>std</td>\n",
       "      <td>7.823570</td>\n",
       "      <td>1.733310</td>\n",
       "      <td>109.258305</td>\n",
       "      <td>40.499959</td>\n",
       "      <td>854.039019</td>\n",
       "      <td>2.910625</td>\n",
       "      <td>3.637696</td>\n",
       "    </tr>\n",
       "    <tr>\n",
       "      <td>min</td>\n",
       "      <td>10.000000</td>\n",
       "      <td>3.000000</td>\n",
       "      <td>68.000000</td>\n",
       "      <td>46.000000</td>\n",
       "      <td>1613.000000</td>\n",
       "      <td>8.000000</td>\n",
       "      <td>1971.000000</td>\n",
       "    </tr>\n",
       "    <tr>\n",
       "      <td>25%</td>\n",
       "      <td>16.900000</td>\n",
       "      <td>4.000000</td>\n",
       "      <td>99.500000</td>\n",
       "      <td>75.000000</td>\n",
       "      <td>2248.000000</td>\n",
       "      <td>14.000000</td>\n",
       "      <td>1974.000000</td>\n",
       "    </tr>\n",
       "    <tr>\n",
       "      <td>50%</td>\n",
       "      <td>22.000000</td>\n",
       "      <td>6.000000</td>\n",
       "      <td>156.000000</td>\n",
       "      <td>95.000000</td>\n",
       "      <td>2867.500000</td>\n",
       "      <td>16.000000</td>\n",
       "      <td>1977.000000</td>\n",
       "    </tr>\n",
       "    <tr>\n",
       "      <td>75%</td>\n",
       "      <td>28.800000</td>\n",
       "      <td>8.000000</td>\n",
       "      <td>303.000000</td>\n",
       "      <td>138.000000</td>\n",
       "      <td>3670.000000</td>\n",
       "      <td>17.000000</td>\n",
       "      <td>1980.000000</td>\n",
       "    </tr>\n",
       "    <tr>\n",
       "      <td>max</td>\n",
       "      <td>46.600000</td>\n",
       "      <td>8.000000</td>\n",
       "      <td>455.000000</td>\n",
       "      <td>230.000000</td>\n",
       "      <td>4997.000000</td>\n",
       "      <td>25.000000</td>\n",
       "      <td>1983.000000</td>\n",
       "    </tr>\n",
       "  </tbody>\n",
       "</table>\n",
       "</div>"
      ],
      "text/plain": [
       "              mpg   cylinders  cubicinches          hp    weightlbs  \\\n",
       "count  261.000000  261.000000   259.000000  261.000000   258.000000   \n",
       "mean    23.144828    5.590038   200.918919  106.360153  3009.833333   \n",
       "std      7.823570    1.733310   109.258305   40.499959   854.039019   \n",
       "min     10.000000    3.000000    68.000000   46.000000  1613.000000   \n",
       "25%     16.900000    4.000000    99.500000   75.000000  2248.000000   \n",
       "50%     22.000000    6.000000   156.000000   95.000000  2867.500000   \n",
       "75%     28.800000    8.000000   303.000000  138.000000  3670.000000   \n",
       "max     46.600000    8.000000   455.000000  230.000000  4997.000000   \n",
       "\n",
       "       time-to-60         year  \n",
       "count  261.000000   261.000000  \n",
       "mean    15.547893  1976.819923  \n",
       "std      2.910625     3.637696  \n",
       "min      8.000000  1971.000000  \n",
       "25%     14.000000  1974.000000  \n",
       "50%     16.000000  1977.000000  \n",
       "75%     17.000000  1980.000000  \n",
       "max     25.000000  1983.000000  "
      ]
     },
     "execution_count": 109,
     "metadata": {},
     "output_type": "execute_result"
    }
   ],
   "source": [
    "# Noch einfacher ... eine komplette Beschreibung der Verteilungsparameter des Datensets\n",
    "# Funktioniert aber nur für numerische Feature (hier z.B. nicht für das Merkmal \"colour\")\n",
    "cars.describe()"
   ]
  },
  {
   "cell_type": "markdown",
   "metadata": {
    "toc-hr-collapsed": true
   },
   "source": [
    "#### Visuelle Exploration der Daten"
   ]
  },
  {
   "cell_type": "code",
   "execution_count": 110,
   "metadata": {},
   "outputs": [
    {
     "data": {
      "image/png": "[encoded data removed]",
      "text/plain": [
       "<Figure size 1440x720 with 9 Axes>"
      ]
     },
     "metadata": {},
     "output_type": "display_data"
    }
   ],
   "source": [
    "# Visualisierung der numerischen Daten als Histogramm\n",
    "figsize(20,10)          # stellt die Größe der Abbildung ein (Horizontale, Vertikale)\n",
    "_= cars.hist(bins=50,)     # erzeugt ein Histogramm mit 50er Intervallschritten, einstellbar über bins=xx"
   ]
  },
  {
   "cell_type": "code",
   "execution_count": 111,
   "metadata": {},
   "outputs": [
    {
     "data": {
      "image/png": "[encoded data removed]",
      "text/plain": [
       "<Figure size 720x720 with 20 Axes>"
      ]
     },
     "metadata": {},
     "output_type": "display_data"
    }
   ],
   "source": [
    "# Advanced Visualisierung: Zeichnet die paarweise Verteilung für ausgewählte Feature\n",
    "_= sns.pairplot(cars, vars=[\"mpg\",\"cylinders\",\"hp\",\"time-to-60\"], )"
   ]
  },
  {
   "cell_type": "markdown",
   "metadata": {
    "toc-hr-collapsed": true
   },
   "source": [
    "### 2.2 Wichtige Preprocessing Schritte\n",
    "Leider sind Rohdaten in der Realität selten (oder nie) in einem für ML Algorithmen geigneten Zustand,  \n",
    "so dass ein PreProcessing und Vorbereiten der Daten erforderlich ist.\n",
    "Die gängigsten Arbeitsschritte sind ...\n",
    "\n",
    "+ Fehlende Werte ersetzen oder bereinigen\n",
    "+ Kategorielle Daten encoden (umwandeln)\n",
    "+ Daten standardisieren / skalieren\n"
   ]
  },
  {
   "cell_type": "markdown",
   "metadata": {
    "toc-hr-collapsed": true
   },
   "source": [
    "#### *Fehlende Werte*\n",
    "... heißen in Python meistens \"NA\" und leider funktionieren viele ML Algorithmen nicht mit NA Werten im Datenset.  \n",
    "Welche Strategien kann man anwenden:\n",
    "\n",
    "+ Löschen von einzelnen Datensätzen mit NA Werten\n",
    "+ Löschen von einzelnen Merkmalen (Feature) mit NA Werten\n",
    "+ NA Werte durch Schätzwerte ersetzen => Mittelwert, Median, Modus, Max-Wert, Min-Wert, individueller Wert"
   ]
  },
  {
   "cell_type": "code",
   "execution_count": 112,
   "metadata": {},
   "outputs": [
    {
     "data": {
      "text/plain": [
       "mpg            0\n",
       "cylinders      0\n",
       "cubicinches    2\n",
       "hp             0\n",
       "weightlbs      3\n",
       "time-to-60     0\n",
       "year           0\n",
       "country        4\n",
       "dtype: int64"
      ]
     },
     "execution_count": 112,
     "metadata": {},
     "output_type": "execute_result"
    }
   ],
   "source": [
    "# Welche Merkmale haben NA und wieviele davon?\n",
    "cars.isna().sum()\n",
    "\n",
    "# oder prozentual:  \n",
    "# cars.isna().mean()"
   ]
  },
  {
   "cell_type": "code",
   "execution_count": 113,
   "metadata": {},
   "outputs": [],
   "source": [
    "# Da uns prozentual nur wenige Werte fehlen, können wir sie bedenkenlos mit dem jeweiligen Mittelwert oder Median des Merkmals ersetzen\n",
    "cars = cars.fillna( cars.mean() )   # alternativ mit .median()"
   ]
  },
  {
   "cell_type": "code",
   "execution_count": 114,
   "metadata": {},
   "outputs": [],
   "source": [
    "# Sind jetzt alle fehlenden Werte ersetzt worden?\n",
    "# mtcars.isna().sum()"
   ]
  },
  {
   "cell_type": "code",
   "execution_count": 115,
   "metadata": {},
   "outputs": [],
   "source": [
    "# OK, dann kümmern wir uns noch um das nicht-numerische Merkaml \"country\"\n",
    "cars.country = cars.country.fillna(\"MISSING\")"
   ]
  },
  {
   "cell_type": "code",
   "execution_count": 116,
   "metadata": {},
   "outputs": [
    {
     "data": {
      "text/plain": [
       "US.        160\n",
       "Japan.      50\n",
       "Europe.     47\n",
       "MISSING      4\n",
       "Name: country, dtype: int64"
      ]
     },
     "execution_count": 116,
     "metadata": {},
     "output_type": "execute_result"
    }
   ],
   "source": [
    "# Werfen wir nochmal einen Blick auf die Verteilung des Merkmals \"country\"\n",
    "cars.country.value_counts()"
   ]
  },
  {
   "cell_type": "markdown",
   "metadata": {
    "jupyter": {
     "outputs_hidden": true
    },
    "toc-hr-collapsed": true
   },
   "source": [
    "#### *Kategorielle Daten umwandeln*\n",
    "Sehr viele ML Algorithmen (fast alle in der Bibliothek Scikit-Learn) können nur numerische Daten verarbeiten.  \n",
    "In der Praxis sind kategorielle Merkmale aber häufig alphanumerisch: Farbe, Geschlecht, Hersteller, Modell, ...  \n",
    "Wenn man diese Merkmale als Feature nutzen möchte, muss man sie in eine numerische Form encoden:\n",
    "  \n",
    "Häufig verwendet wird das sog. \"Label Encoding\" und das sog. \"One Hot Encoding\".  \n",
    "\n",
    "OH Encoding hat ggü. Label Encoding einen entscheidenden Vorteil: \n",
    "Label Encoding stellt eine häufig nicht real existierende Logik bzw. Rangfolge zwischen den Merkmalen her:  \n",
    "Label Encoding unseres Merkmals Country führt zu: (0, US), (1, Europe), (2, Japan). Ist Japan > Europe > US ??    \n",
    "Beim OH Encoding werden die Merkmale transformiert, ohne dass eine ungewollte Rangfolge der Ausprägungen ensteht:"
   ]
  },
  {
   "cell_type": "code",
   "execution_count": 117,
   "metadata": {},
   "outputs": [
    {
     "data": {
      "text/html": [
       "<div>\n",
       "<style scoped>\n",
       "    .dataframe tbody tr th:only-of-type {\n",
       "        vertical-align: middle;\n",
       "    }\n",
       "\n",
       "    .dataframe tbody tr th {\n",
       "        vertical-align: top;\n",
       "    }\n",
       "\n",
       "    .dataframe thead th {\n",
       "        text-align: right;\n",
       "    }\n",
       "</style>\n",
       "<table border=\"1\" class=\"dataframe\">\n",
       "  <thead>\n",
       "    <tr style=\"text-align: right;\">\n",
       "      <th></th>\n",
       "      <th>mpg</th>\n",
       "      <th>cylinders</th>\n",
       "      <th>cubicinches</th>\n",
       "      <th>hp</th>\n",
       "      <th>weightlbs</th>\n",
       "      <th>time-to-60</th>\n",
       "      <th>year</th>\n",
       "      <th>country_Europe.</th>\n",
       "      <th>country_Japan.</th>\n",
       "      <th>country_MISSING</th>\n",
       "      <th>country_US.</th>\n",
       "    </tr>\n",
       "  </thead>\n",
       "  <tbody>\n",
       "    <tr>\n",
       "      <td>0</td>\n",
       "      <td>14.0</td>\n",
       "      <td>8</td>\n",
       "      <td>350.0</td>\n",
       "      <td>165</td>\n",
       "      <td>4209.0</td>\n",
       "      <td>12</td>\n",
       "      <td>1972</td>\n",
       "      <td>0</td>\n",
       "      <td>0</td>\n",
       "      <td>0</td>\n",
       "      <td>1</td>\n",
       "    </tr>\n",
       "    <tr>\n",
       "      <td>1</td>\n",
       "      <td>31.9</td>\n",
       "      <td>4</td>\n",
       "      <td>89.0</td>\n",
       "      <td>71</td>\n",
       "      <td>1925.0</td>\n",
       "      <td>14</td>\n",
       "      <td>1980</td>\n",
       "      <td>1</td>\n",
       "      <td>0</td>\n",
       "      <td>0</td>\n",
       "      <td>0</td>\n",
       "    </tr>\n",
       "    <tr>\n",
       "      <td>2</td>\n",
       "      <td>17.0</td>\n",
       "      <td>8</td>\n",
       "      <td>302.0</td>\n",
       "      <td>140</td>\n",
       "      <td>3449.0</td>\n",
       "      <td>11</td>\n",
       "      <td>1971</td>\n",
       "      <td>0</td>\n",
       "      <td>0</td>\n",
       "      <td>0</td>\n",
       "      <td>1</td>\n",
       "    </tr>\n",
       "    <tr>\n",
       "      <td>3</td>\n",
       "      <td>15.0</td>\n",
       "      <td>8</td>\n",
       "      <td>400.0</td>\n",
       "      <td>150</td>\n",
       "      <td>3761.0</td>\n",
       "      <td>10</td>\n",
       "      <td>1971</td>\n",
       "      <td>0</td>\n",
       "      <td>0</td>\n",
       "      <td>0</td>\n",
       "      <td>1</td>\n",
       "    </tr>\n",
       "    <tr>\n",
       "      <td>4</td>\n",
       "      <td>30.5</td>\n",
       "      <td>4</td>\n",
       "      <td>98.0</td>\n",
       "      <td>63</td>\n",
       "      <td>2051.0</td>\n",
       "      <td>17</td>\n",
       "      <td>1978</td>\n",
       "      <td>0</td>\n",
       "      <td>0</td>\n",
       "      <td>0</td>\n",
       "      <td>1</td>\n",
       "    </tr>\n",
       "  </tbody>\n",
       "</table>\n",
       "</div>"
      ],
      "text/plain": [
       "    mpg  cylinders  cubicinches   hp  weightlbs  time-to-60  year  \\\n",
       "0  14.0          8        350.0  165     4209.0          12  1972   \n",
       "1  31.9          4         89.0   71     1925.0          14  1980   \n",
       "2  17.0          8        302.0  140     3449.0          11  1971   \n",
       "3  15.0          8        400.0  150     3761.0          10  1971   \n",
       "4  30.5          4         98.0   63     2051.0          17  1978   \n",
       "\n",
       "   country_Europe.  country_Japan.  country_MISSING  country_US.  \n",
       "0                0               0                0            1  \n",
       "1                1               0                0            0  \n",
       "2                0               0                0            1  \n",
       "3                0               0                0            1  \n",
       "4                0               0                0            1  "
      ]
     },
     "execution_count": 117,
     "metadata": {},
     "output_type": "execute_result"
    }
   ],
   "source": [
    "# Was machen wir mit dem Feature \"Colour\"?\n",
    "# Bevor wir es transformieren, speichern wir eine separate Kopie des Merkmals, die wir später noch benötigen\n",
    "cars_target = cars.country.copy()\n",
    "\n",
    "# Jetzt transformieren wir cars mit \"One Hot Encoding\"\n",
    "cars = pd.get_dummies(cars, )\n",
    "cars.head()"
   ]
  },
  {
   "cell_type": "markdown",
   "metadata": {
    "toc-hr-collapsed": true
   },
   "source": [
    "#### Daten normalisieren/standardisieren\n",
    "Sehr viele Algorithmen nutzen mathematische Distanzmaße wie z.B. den Abstand eines Datenpunktes vom Mittelwert.  \n",
    "Wenn die einzelnen Feature in ihren Ausprägungen unterschiedlich stark skalieren (z.B. Anzahl Zylinder und PS)  \n",
    "dann \"verzerren\" diese unterschiedlichen Skalen die Ergebnisse des Algorithmus.\n",
    "\n",
    "Lösungsstrategie: Einheitliche Skalierung der Daten, d.h. man standardisiert sie."
   ]
  },
  {
   "cell_type": "code",
   "execution_count": 91,
   "metadata": {},
   "outputs": [
    {
     "data": {
      "text/html": [
       "<div>\n",
       "<style scoped>\n",
       "    .dataframe tbody tr th:only-of-type {\n",
       "        vertical-align: middle;\n",
       "    }\n",
       "\n",
       "    .dataframe tbody tr th {\n",
       "        vertical-align: top;\n",
       "    }\n",
       "\n",
       "    .dataframe thead th {\n",
       "        text-align: right;\n",
       "    }\n",
       "</style>\n",
       "<table border=\"1\" class=\"dataframe\">\n",
       "  <thead>\n",
       "    <tr style=\"text-align: right;\">\n",
       "      <th></th>\n",
       "      <th>mpg</th>\n",
       "      <th>cylinders</th>\n",
       "      <th>cubicinches</th>\n",
       "      <th>hp</th>\n",
       "      <th>weightlbs</th>\n",
       "      <th>time-to-60</th>\n",
       "    </tr>\n",
       "  </thead>\n",
       "  <tbody>\n",
       "    <tr>\n",
       "      <td>count</td>\n",
       "      <td>261.000000</td>\n",
       "      <td>261.000000</td>\n",
       "      <td>261.000000</td>\n",
       "      <td>261.000000</td>\n",
       "      <td>261.000000</td>\n",
       "      <td>261.000000</td>\n",
       "    </tr>\n",
       "    <tr>\n",
       "      <td>mean</td>\n",
       "      <td>23.144828</td>\n",
       "      <td>5.590038</td>\n",
       "      <td>200.918919</td>\n",
       "      <td>106.360153</td>\n",
       "      <td>3009.833333</td>\n",
       "      <td>15.547893</td>\n",
       "    </tr>\n",
       "    <tr>\n",
       "      <td>std</td>\n",
       "      <td>7.823570</td>\n",
       "      <td>1.733310</td>\n",
       "      <td>108.837269</td>\n",
       "      <td>40.499959</td>\n",
       "      <td>849.097575</td>\n",
       "      <td>2.910625</td>\n",
       "    </tr>\n",
       "    <tr>\n",
       "      <td>min</td>\n",
       "      <td>10.000000</td>\n",
       "      <td>3.000000</td>\n",
       "      <td>68.000000</td>\n",
       "      <td>46.000000</td>\n",
       "      <td>1613.000000</td>\n",
       "      <td>8.000000</td>\n",
       "    </tr>\n",
       "    <tr>\n",
       "      <td>25%</td>\n",
       "      <td>16.900000</td>\n",
       "      <td>4.000000</td>\n",
       "      <td>101.000000</td>\n",
       "      <td>75.000000</td>\n",
       "      <td>2254.000000</td>\n",
       "      <td>14.000000</td>\n",
       "    </tr>\n",
       "    <tr>\n",
       "      <td>50%</td>\n",
       "      <td>22.000000</td>\n",
       "      <td>6.000000</td>\n",
       "      <td>156.000000</td>\n",
       "      <td>95.000000</td>\n",
       "      <td>2904.000000</td>\n",
       "      <td>16.000000</td>\n",
       "    </tr>\n",
       "    <tr>\n",
       "      <td>75%</td>\n",
       "      <td>28.800000</td>\n",
       "      <td>8.000000</td>\n",
       "      <td>302.000000</td>\n",
       "      <td>138.000000</td>\n",
       "      <td>3664.000000</td>\n",
       "      <td>17.000000</td>\n",
       "    </tr>\n",
       "    <tr>\n",
       "      <td>max</td>\n",
       "      <td>46.600000</td>\n",
       "      <td>8.000000</td>\n",
       "      <td>455.000000</td>\n",
       "      <td>230.000000</td>\n",
       "      <td>4997.000000</td>\n",
       "      <td>25.000000</td>\n",
       "    </tr>\n",
       "  </tbody>\n",
       "</table>\n",
       "</div>"
      ],
      "text/plain": [
       "              mpg   cylinders  cubicinches          hp    weightlbs  \\\n",
       "count  261.000000  261.000000   261.000000  261.000000   261.000000   \n",
       "mean    23.144828    5.590038   200.918919  106.360153  3009.833333   \n",
       "std      7.823570    1.733310   108.837269   40.499959   849.097575   \n",
       "min     10.000000    3.000000    68.000000   46.000000  1613.000000   \n",
       "25%     16.900000    4.000000   101.000000   75.000000  2254.000000   \n",
       "50%     22.000000    6.000000   156.000000   95.000000  2904.000000   \n",
       "75%     28.800000    8.000000   302.000000  138.000000  3664.000000   \n",
       "max     46.600000    8.000000   455.000000  230.000000  4997.000000   \n",
       "\n",
       "       time-to-60  \n",
       "count  261.000000  \n",
       "mean    15.547893  \n",
       "std      2.910625  \n",
       "min      8.000000  \n",
       "25%     14.000000  \n",
       "50%     16.000000  \n",
       "75%     17.000000  \n",
       "max     25.000000  "
      ]
     },
     "execution_count": 91,
     "metadata": {},
     "output_type": "execute_result"
    }
   ],
   "source": [
    "# Ein Blick auf die statistischen Eckwerte (Lageparameter) unserer numerischen Feature\n",
    "feat_num = ['mpg', 'cylinders', 'cubicinches', 'hp', 'weightlbs', 'time-to-60']   # Vereinfacht die Adressierung\n",
    "cars.loc[:, feat_num].describe()"
   ]
  },
  {
   "cell_type": "markdown",
   "metadata": {},
   "source": [
    "Wir standardisieren unsere Daten mit der sog. Z-Score Methode (Normalisierung)  \n",
    "Die Funktionsbibliothek Scikit-Learn (ML Methoden) bietet dafür eine geeignete Methode an."
   ]
  },
  {
   "cell_type": "code",
   "execution_count": 101,
   "metadata": {},
   "outputs": [
    {
     "name": "stdout",
     "output_type": "stream",
     "text": [
      "    mpg  cylinders  cubicinches   hp  weightlbs  time-to-60\n",
      "0  14.0          8        350.0  165     4209.0          12\n",
      "[[-1.17112732  1.39305285  1.37239295  1.45068065  1.41499703 -1.22128734]]\n",
      "--------------------------------------------------------------------------------\n",
      "\n",
      " [-1.17112732  1.39305285  1.37239295  1.45068065  1.41499703 -1.22128734]\n",
      "\n",
      " [ 1.12122635 -0.91910482 -1.03028992 -0.87476849 -1.28008557 -0.53282946]\n",
      "\n",
      " [-0.78693397  1.39305285  0.93052024  0.83221013  0.51820947 -1.56551627]\n",
      "\n",
      " [-1.04306287  1.39305285  1.83267702  1.07959834  0.88636436 -1.90974521]\n",
      "\n",
      " [ 0.94193612 -0.91910482 -0.94743878 -1.07267905 -1.13140763  0.49985734]\n"
     ]
    }
   ],
   "source": [
    "from sklearn.preprocessing import StandardScaler\n",
    "X = cars.copy()                        # jetzt wandeln wir unseren Dataframe in eine Datenmatrix X um\n",
    "X = X.loc[:,feat_num]                  # wir skalieren nur die ersten 5 Feature (nicht das Jahr und die Länder)\n",
    "scaler = StandardScaler().fit(X)       # Trainiert den Scaler auf die Datenmatrix\n",
    "X = scaler.transform(X)                # Transformiert Datenmatrix X\n",
    "print(cars.loc[:0,feat_num])           # Ausgabe der ersten Zeile des Cars Datensets\n",
    "print(X[:1])                           # Ausgabe der ersten Zeile der transformierten Matrix X\n",
    "print(80*\"-\")\n",
    "for i in X[:5]: print(\"\\n\",i)          # Pretty Printing der ersten 5 transformierten Datensätze\n"
   ]
  },
  {
   "cell_type": "markdown",
   "metadata": {
    "toc-hr-collapsed": false
   },
   "source": [
    "***\n",
    "## 3. ML Algorithmen in Action\n",
    "Bislang haben wir die Daten nur exploriert ... jetzt steigen wir richtig ins ML ein ..."
   ]
  },
  {
   "cell_type": "markdown",
   "metadata": {
    "toc-hr-collapsed": false
   },
   "source": [
    "### 3.1 Unsupervised Learning: Clustering mit k-Means\n",
    "Wir arbeiten mit unserem cars Datenset weiter.  \n",
    "Wir unterstellen die Herkunftsregion \"country\" wäre uns nicht bekannt ...  \n",
    "und versuchen diese jetzt fehlende Information über k-Means zu finden:"
   ]
  },
  {
   "cell_type": "code",
   "execution_count": 120,
   "metadata": {
    "collapsed": true,
    "jupyter": {
     "outputs_hidden": true
    }
   },
   "outputs": [
    {
     "data": {
      "text/html": [
       "<div>\n",
       "<style scoped>\n",
       "    .dataframe tbody tr th:only-of-type {\n",
       "        vertical-align: middle;\n",
       "    }\n",
       "\n",
       "    .dataframe tbody tr th {\n",
       "        vertical-align: top;\n",
       "    }\n",
       "\n",
       "    .dataframe thead th {\n",
       "        text-align: right;\n",
       "    }\n",
       "</style>\n",
       "<table border=\"1\" class=\"dataframe\">\n",
       "  <thead>\n",
       "    <tr style=\"text-align: right;\">\n",
       "      <th></th>\n",
       "      <th>mpg</th>\n",
       "      <th>cylinders</th>\n",
       "      <th>cubicinches</th>\n",
       "      <th>hp</th>\n",
       "      <th>weightlbs</th>\n",
       "      <th>time-to-60</th>\n",
       "    </tr>\n",
       "  </thead>\n",
       "  <tbody>\n",
       "    <tr>\n",
       "      <td>251</td>\n",
       "      <td>24.0</td>\n",
       "      <td>4</td>\n",
       "      <td>121.0</td>\n",
       "      <td>110</td>\n",
       "      <td>2660.0</td>\n",
       "      <td>14</td>\n",
       "    </tr>\n",
       "    <tr>\n",
       "      <td>174</td>\n",
       "      <td>21.0</td>\n",
       "      <td>4</td>\n",
       "      <td>122.0</td>\n",
       "      <td>86</td>\n",
       "      <td>2226.0</td>\n",
       "      <td>17</td>\n",
       "    </tr>\n",
       "    <tr>\n",
       "      <td>83</td>\n",
       "      <td>23.0</td>\n",
       "      <td>4</td>\n",
       "      <td>115.0</td>\n",
       "      <td>95</td>\n",
       "      <td>2694.0</td>\n",
       "      <td>15</td>\n",
       "    </tr>\n",
       "    <tr>\n",
       "      <td>25</td>\n",
       "      <td>33.0</td>\n",
       "      <td>4</td>\n",
       "      <td>91.0</td>\n",
       "      <td>53</td>\n",
       "      <td>1795.0</td>\n",
       "      <td>17</td>\n",
       "    </tr>\n",
       "    <tr>\n",
       "      <td>148</td>\n",
       "      <td>15.0</td>\n",
       "      <td>8</td>\n",
       "      <td>350.0</td>\n",
       "      <td>165</td>\n",
       "      <td>3693.0</td>\n",
       "      <td>12</td>\n",
       "    </tr>\n",
       "  </tbody>\n",
       "</table>\n",
       "</div>"
      ],
      "text/plain": [
       "      mpg  cylinders  cubicinches   hp  weightlbs  time-to-60\n",
       "251  24.0          4        121.0  110     2660.0          14\n",
       "174  21.0          4        122.0   86     2226.0          17\n",
       "83   23.0          4        115.0   95     2694.0          15\n",
       "25   33.0          4         91.0   53     1795.0          17\n",
       "148  15.0          8        350.0  165     3693.0          12"
      ]
     },
     "execution_count": 120,
     "metadata": {},
     "output_type": "execute_result"
    }
   ],
   "source": [
    "cars.loc[:,feat_num].sample(5)"
   ]
  },
  {
   "cell_type": "markdown",
   "metadata": {},
   "source": [
    "Jetzt wenden wir den K-Means Algorithmus an, um die Daten zu clustern"
   ]
  },
  {
   "cell_type": "code",
   "execution_count": 121,
   "metadata": {},
   "outputs": [],
   "source": [
    "from sklearn.cluster import KMeans    # zunächst muss der Algorithmus importiert werden\n",
    "\n",
    "X = cars.loc[:,feat_num].copy()       # Datenmatrix X mit unseren Features\n",
    "\n",
    "# scaler = StandardScaler().fit(X)       # Trainiert den Scaler auf die Datenmatrix\n",
    "# X = scaler.transform(X)  \n",
    "\n",
    "km = KMeans(n_clusters=3).fit(X)      # Wendet k-Means auf X an, mit Vorgabe 3 Cluster"
   ]
  },
  {
   "cell_type": "markdown",
   "metadata": {},
   "source": [
    "Mal sehen wie gut k-Means funktioniert auf diesem Datenset.  \n",
    "In der Realität würden wir natürlich die \"richtigen\" Zuordnungen nicht kennen ..."
   ]
  },
  {
   "cell_type": "code",
   "execution_count": 127,
   "metadata": {},
   "outputs": [
    {
     "name": "stdout",
     "output_type": "stream",
     "text": [
      "Gruppierung durch k-Means Algo:\n",
      " 1    127\n",
      "2     73\n",
      "0     61\n",
      "dtype: int64\n",
      "\n",
      "Reale Zuordnung im Datenset\n",
      " US.        160\n",
      "Japan.      50\n",
      "Europe.     47\n",
      "MISSING      4\n",
      "Name: country, dtype: int64\n"
     ]
    }
   ],
   "source": [
    "print(\"Gruppierung durch k-Means Algo:\\n\", pd.Series(km.labels_).value_counts())\n",
    "print()\n",
    "print(\"Reale Zuordnung im Datenset\\n\", cars_target.value_counts())\n",
    "# km.labels_  "
   ]
  },
  {
   "cell_type": "markdown",
   "metadata": {},
   "source": [
    "Wir visualisieren die k-Means Ergebnisse zum besseren Verständnis"
   ]
  },
  {
   "cell_type": "code",
   "execution_count": 136,
   "metadata": {},
   "outputs": [
    {
     "data": {
      "text/plain": [
       "[(0, 'mpg'),\n",
       " (1, 'cylinders'),\n",
       " (2, 'cubicinches'),\n",
       " (3, 'hp'),\n",
       " (4, 'weightlbs'),\n",
       " (5, 'time-to-60')]"
      ]
     },
     "execution_count": 136,
     "metadata": {},
     "output_type": "execute_result"
    }
   ],
   "source": [
    "list(enumerate(cars.columns[:6]))"
   ]
  },
  {
   "cell_type": "code",
   "execution_count": 172,
   "metadata": {
    "collapsed": true,
    "jupyter": {
     "outputs_hidden": true,
     "source_hidden": true
    }
   },
   "outputs": [
    {
     "data": {
      "image/png": "[encoded data removed]",
      "text/plain": [
       "<Figure size 720x504 with 1 Axes>"
      ]
     },
     "metadata": {},
     "output_type": "display_data"
    }
   ],
   "source": [
    "# Visualisierung der Zuordnungen\n",
    "figsize(10,7)\n",
    "\n",
    "# Hier können wir die Merkmale für das Plotting auswählen\n",
    "i,j = 0,5 \n",
    "\n",
    "plt.scatter(X[:,i], X[:,j], c=km.labels_, cmap=\"viridis\")\n",
    "plt.scatter(km.cluster_centers_[:,i], km.cluster_centers_[:,j], c='k', marker='*', s=300, ) # Scatterplot mit Centroids\n",
    "plt.title(f\"k-Means Clustering mit Feature {cars.columns[i]} & {cars.columns[j]}\", fontsize=15)\n",
    "plt.xlabel(cars.columns[i]); plt.ylabel(cars.columns[j]); \n",
    "plt.show()"
   ]
  },
  {
   "cell_type": "markdown",
   "metadata": {},
   "source": [
    "Wenn wir mit der Qualität unseres Modells zufrieden wären (ohne Kenntnis der Echtdaten schwierig!).  \n",
    "Könnten wir es nun verwenden, um weitere NEUE Datensätze zu beurteilen:"
   ]
  },
  {
   "cell_type": "code",
   "execution_count": 173,
   "metadata": {},
   "outputs": [
    {
     "data": {
      "text/plain": [
       "array([1, 2, 1, 1, 1, 1])"
      ]
     },
     "execution_count": 173,
     "metadata": {},
     "output_type": "execute_result"
    }
   ],
   "source": [
    "pkw_new = [\n",
    "    [31.4,4,85,65,2500,19,],\n",
    "    [16,8,304,150,4200,12,],\n",
    "    [24,4,113,95,2000,16,],\n",
    "    [24,4,107,90,2750,15,],\n",
    "    [37.2,4,86,65,2019,16,],\n",
    "    [21.5,4,121,110,2600,13,]] \n",
    "\n",
    "# Unser trainiertes Modell erwartet natürlich skalierte Daten!\n",
    "pkw_new_trafo = scaler.transform(pkw_new)\n",
    "\n",
    "km.predict(pkw_new_trafo)"
   ]
  },
  {
   "cell_type": "markdown",
   "metadata": {
    "toc-hr-collapsed": true
   },
   "source": [
    "### 3.2 Supervised Learning: Lineare Regression\n",
    "Das Boston Housing Dataset basiert auf U.S. Cencus Daten und beschreibt anhand von 14 Merkmalen 506 Bezirken der Boston Metropolitan Area.  \n",
    "Uns interessiert vor allem der durchschnittliche Preis eines eigentümerbewohnten Hauses in 1.000 USD.  \n",
    "Das entsprechende Feature in unserem Datensatz ist \"MEDV\" (das ist unser y).\n",
    "Welche unabhängigen Variablen (Prediktoren) liefern welchen Beitrag zur Erklärung des MEDV?"
   ]
  },
  {
   "cell_type": "code",
   "execution_count": null,
   "metadata": {},
   "outputs": [],
   "source": [
    "from sklearn.datasets import load_boston\n",
    "\n",
    "boston = load_boston()\n",
    "df = pd.DataFrame(boston.data, columns = boston.feature_names)\n",
    "df[\"MEDV\"] = boston.target\n",
    "\n",
    "print(df.shape)\n",
    "df.sample(5)"
   ]
  },
  {
   "cell_type": "markdown",
   "metadata": {},
   "source": [
    "Wir erstellen uns eine Datenmatrix X (ohne MEDV) und einen Target-Vektor y (MEDV).  \n",
    "Dann trainieren wir ein lineares Regressionsmodell auf X und y."
   ]
  },
  {
   "cell_type": "code",
   "execution_count": null,
   "metadata": {},
   "outputs": [],
   "source": [
    "from sklearn.linear_model import LinearRegression\n",
    "X,y = load_boston(return_X_y=True)\n",
    "\n",
    "lr = LinearRegression().fit(X,y)\n",
    "score = lr.score(X,y)\n",
    "\n",
    "print(f\"Anteil der erklärbaren Varianz, R² = {score:.2f}\")\n",
    "print()\n",
    "for i in enumerate(zip(df.columns,lr.coef_)): print(i)"
   ]
  },
  {
   "cell_type": "code",
   "execution_count": null,
   "metadata": {},
   "outputs": [],
   "source": [
    "# Betrachtung der einzelnen Variablen im Zusammenhang mit MEDV\n",
    "# Entspricht der univariaten Regression\n",
    "for i in range(len(df.columns)-1):\n",
    "# for i in range(6):        # wir nehmen nur die ersten 5 Variablen\n",
    "    \n",
    "    figsize(6,2)\n",
    "    X = df.iloc[:,i].values[:,np.newaxis]\n",
    "    y = df.iloc[:,-1].values[:,np.newaxis]\n",
    "    lr2 = LinearRegression().fit(X,y)\n",
    "    plt.scatter(X, y, color='b', s=1)\n",
    "    plt.plot(X, lr2.predict(X), color='g', lw=2)\n",
    "    plt.title(f\"Zusammenhang MEDV und {df.columns.to_list()[i]}: R² = {lr2.score(X,y):.2f}\", fontsize=12)\n",
    "    plt.show()"
   ]
  },
  {
   "cell_type": "code",
   "execution_count": null,
   "metadata": {},
   "outputs": [],
   "source": []
  },
  {
   "cell_type": "code",
   "execution_count": null,
   "metadata": {},
   "outputs": [],
   "source": []
  },
  {
   "cell_type": "code",
   "execution_count": null,
   "metadata": {},
   "outputs": [],
   "source": []
  },
  {
   "cell_type": "markdown",
   "metadata": {
    "toc-hr-collapsed": true
   },
   "source": [
    "### 3.3 Supervised Learning: Classification"
   ]
  },
  {
   "cell_type": "markdown",
   "metadata": {},
   "source": [
    "#### 3.3.1 Naive Bayes"
   ]
  },
  {
   "cell_type": "markdown",
   "metadata": {},
   "source": [
    "#### Home Credit Default Risk Competition"
   ]
  },
  {
   "cell_type": "code",
   "execution_count": null,
   "metadata": {},
   "outputs": [],
   "source": [
    "os.chdir(\"F://Data/Data Science Uni/40200/BMW Bank Seminar/Data Sets\")\n",
    "os.listdir()"
   ]
  },
  {
   "cell_type": "code",
   "execution_count": null,
   "metadata": {},
   "outputs": [],
   "source": [
    "for i in obj_cols:\n",
    "    anz = hc[i].nunique()\n",
    "    print(i, anz)"
   ]
  },
  {
   "cell_type": "code",
   "execution_count": null,
   "metadata": {},
   "outputs": [],
   "source": [
    "# Rausfinden, wieviele NA-Werte jede Spalte enthält ...\n",
    "na_cols_v = [(X[col].isna().mean().round(4), col) for col in X.columns if float(X[col].isna().sum()) > 0.0]\n",
    "sorted(na_cols_v, reverse=True)"
   ]
  },
  {
   "cell_type": "code",
   "execution_count": null,
   "metadata": {},
   "outputs": [],
   "source": []
  },
  {
   "cell_type": "code",
   "execution_count": null,
   "metadata": {},
   "outputs": [],
   "source": [
    "hc = pd.read_csv(\"home_credit_small.csv\")\n",
    "X = hc.drop(\"TARGET\", axis=1)\n",
    "y = hc.TARGET\n",
    "print(X.shape, y.shape, hc.shape)\n",
    "print(hc.TARGET.value_counts(normalize=True))\n",
    "\n",
    "obj_cols = [col for col in X if X.loc[:,col].dtype == \"object\"]\n",
    "X = X.drop(obj_cols, axis=1)\n",
    "na_cols = [col for col in X.columns if float(X[col].isna().sum()) > 0.0] # Liste mit allen Spalten, die NA enthalten\n",
    "X = X.drop(na_cols, axis=1)\n",
    "print(X.shape)\n"
   ]
  },
  {
   "cell_type": "code",
   "execution_count": null,
   "metadata": {},
   "outputs": [],
   "source": [
    "from sklearn.model_selection import train_test_split\n",
    "X_train, X_test, y_train, y_test = train_test_split(X, y, test_size=0.3, shuffle=True, stratify=y, random_state=42)\n",
    "print(f' Trainingsset: {X_train.shape, y_train.shape} / Test Set: {X_test.shape, y_test.shape}')"
   ]
  },
  {
   "cell_type": "code",
   "execution_count": null,
   "metadata": {},
   "outputs": [],
   "source": []
  },
  {
   "cell_type": "code",
   "execution_count": null,
   "metadata": {},
   "outputs": [],
   "source": [
    "# %%timeit\n",
    "from sklearn.naive_bayes import GaussianNB\n",
    "from sklearn.svm import SVC\n",
    "# clf1 = GaussianNB().fit(X_train, y_train)\n",
    "clf1 = SVC(class_weight=\"balanced\").fit(X_train, y_train)\n",
    "t_names = [\"No Default\", \"Default\"]\n",
    "y_true = y_test\n",
    "y_pred = clf1.predict(X_test)\n"
   ]
  },
  {
   "cell_type": "code",
   "execution_count": null,
   "metadata": {},
   "outputs": [],
   "source": [
    "print(classification_report(y_true, y_pred, target_names=t_names))"
   ]
  },
  {
   "cell_type": "code",
   "execution_count": null,
   "metadata": {},
   "outputs": [],
   "source": [
    "from sklearn.metrics import classification_report\n",
    "print(classification_report(y_true, y_pred, target_names=t_names))"
   ]
  },
  {
   "cell_type": "markdown",
   "metadata": {},
   "source": [
    "#### 3.3.2 Logistische Regression"
   ]
  },
  {
   "cell_type": "markdown",
   "metadata": {},
   "source": [
    "#### 3.3.3 Decision Tree / Random Forest"
   ]
  },
  {
   "cell_type": "markdown",
   "metadata": {},
   "source": [
    "#### 3.3.4 Neuronales Netz: MLP Multi-Layer-Perzeptron"
   ]
  },
  {
   "cell_type": "code",
   "execution_count": null,
   "metadata": {},
   "outputs": [],
   "source": []
  },
  {
   "cell_type": "code",
   "execution_count": null,
   "metadata": {},
   "outputs": [],
   "source": []
  },
  {
   "cell_type": "markdown",
   "metadata": {},
   "source": [
    "***\n",
    "## 4. Evaluation und Auswahl von Modellen "
   ]
  },
  {
   "cell_type": "code",
   "execution_count": null,
   "metadata": {},
   "outputs": [],
   "source": []
  },
  {
   "cell_type": "markdown",
   "metadata": {
    "toc-hr-collapsed": true
   },
   "source": [
    "# Parkplatz"
   ]
  },
  {
   "cell_type": "code",
   "execution_count": null,
   "metadata": {},
   "outputs": [],
   "source": []
  },
  {
   "cell_type": "code",
   "execution_count": null,
   "metadata": {},
   "outputs": [],
   "source": [
    "## Home Credit Datenset verkleinern auf 30k Datensätze (10%)\n",
    "hc = pd.read_csv(\"application_train.csv\") \n",
    "X = hc.iloc[:,2:].copy()\n",
    "y = hc.iloc[:,1].copy()\n",
    "\n",
    "from sklearn.model_selection import train_test_split\n",
    "X_train, X_test, y_train, y_test = train_test_split(X, y, test_size=0.9, shuffle=True, stratify=y, random_state=42)\n",
    "\n",
    "print(f' Trainingsset: {X_train.shape, y_train.shape}  / Test Set: {X_test.shape, y_test.shape}')\n",
    "print(y_train.value_counts(normalize=True))\n",
    "\n",
    "X_train.index.name = \"idx\"\n",
    "y_train.index.name = \"idx\"\n",
    "X2 = X_train.merge(y_train, on=\"idx\")\n",
    "X2.shape\n"
   ]
  },
  {
   "cell_type": "code",
   "execution_count": null,
   "metadata": {},
   "outputs": [],
   "source": [
    "X2.to_csv(\"home_credit_small.csv\")"
   ]
  },
  {
   "cell_type": "code",
   "execution_count": null,
   "metadata": {},
   "outputs": [],
   "source": [
    "mtcars = pd.read_csv(\"mtcars.csv\", index_col=0, sep=\";\", decimal=\",\")\n",
    "mtcars = mtcars.fillna(mtcars.mean())\n",
    "mtcars.colour = mtcars.colour.fillna(\"MISSING\")"
   ]
  },
  {
   "cell_type": "code",
   "execution_count": null,
   "metadata": {},
   "outputs": [],
   "source": [
    "# Standardize data (0 mean, 1 stdev)\n",
    "from sklearn.preprocessing import StandardScaler\n",
    "import pandas\n",
    "import numpy\n",
    "url = \"https://raw.githubusercontent.com/jbrownlee/Datasets/master/pima-indians-diabetes.csv\"\n",
    "names = ['preg', 'plas', 'pres', 'skin', 'test', 'mass', 'pedi', 'age', 'klass']\n",
    "dataframe = pandas.read_csv(url, names=names, )\n",
    "dataframe.index.name=\"idx\"\n",
    "array = dataframe.values\n",
    "print(dataframe.shape)\n",
    "# separate array into input and output components\n",
    "X = array[:,0:8]\n",
    "Y = array[:,8]\n",
    "scaler = StandardScaler().fit(X)\n",
    "rescaledX = scaler.transform(X)\n",
    "# summarize transformed data\n",
    "numpy.set_printoptions(precision=3)\n",
    "print(rescaledX[0:5,:])\n",
    "\n",
    "df = pd.DataFrame(rescaledX, columns=names[:8])\n",
    "df.index.name=\"idx\"\n",
    "df = df.merge(dataframe.klass, on=\"idx\" )\n",
    "print(df.shape)\n",
    "df\n"
   ]
  },
  {
   "cell_type": "code",
   "execution_count": null,
   "metadata": {},
   "outputs": [],
   "source": [
    "dataframe.klass"
   ]
  },
  {
   "cell_type": "markdown",
   "metadata": {},
   "source": [
    "Variablen im Boston Housing Dataset:\n",
    "+ CRIM - per capita crime rate by town\n",
    "+ ZN - proportion of residential land zoned for lots over 25,000 sq.ft.\n",
    "+ INDUS - proportion of non-retail business acres per town.\n",
    "+ CHAS - Charles River dummy variable (1 if tract bounds river; 0 otherwise)\n",
    "+ NOX - nitric oxides concentration (parts per 10 million)\n",
    "+ RM - average number of rooms per dwelling\n",
    "+ AGE - proportion of owner-occupied units built prior to 1940\n",
    "+ DIS - weighted distances to five Boston employment centres\n",
    "+ RAD - index of accessibility to radial highways\n",
    "+ TAX - full-value property-tax rate per USD 10,000\n",
    "+ PTRATIO - pupil-teacher ratio by town\n",
    "+ B - 1000(Bk - 0.63)^2 where Bk is the proportion of blacks by town\n",
    "+ LSTAT - % lower status of the population\n",
    "+ MEDV - Median value of owner-occupied homes in USD 1000's"
   ]
  },
  {
   "cell_type": "code",
   "execution_count": null,
   "metadata": {},
   "outputs": [],
   "source": []
  },
  {
   "cell_type": "code",
   "execution_count": null,
   "metadata": {},
   "outputs": [],
   "source": [
    "from sklearn.model_selection import train_test_split\n",
    "X_train, X_test_total, y_train, y_test_total = train_test_split(X, y, test_size=0.4, shuffle=True, stratify=y, random_state=42)\n",
    "X_val, X_test, y_val, y_test = train_test_split(X_test_total, y_test_total, test_size=0.5, shuffle=True, stratify=y_test_total, random_state=42)\n",
    "print(f' Trainingsset: {X_train.shape, y_train.shape} / Validation Set: {X_val.shape, y_val.shape}  / Test Set: {X_test.shape, y_test.shape}')"
   ]
  },
  {
   "cell_type": "code",
   "execution_count": null,
   "metadata": {},
   "outputs": [],
   "source": [
    "# Confusion Matix plotten\n",
    "def Plot_confMatrix(y_real, y_pred, title='Titel'):\n",
    "    '''\n",
    "    Erstellen einer Confusion Matrix Grafik\n",
    "    im Abgleich von Label y_real und Prognose y_pred\n",
    "    '''\n",
    "    from sklearn.metrics import confusion_matrix\n",
    "    mat = confusion_matrix(y_real, y_pred)\n",
    "    sns.set(font_scale=1.4)\n",
    "    sns.heatmap(mat, square=True, annot=True, fmt='d',  cmap='Blues', cbar=True, )\n",
    "    plt.xlabel('Prediction')\n",
    "    plt.ylabel('True value')\n",
    "    plt.title(title);\n",
    "    return plt.show()   "
   ]
  },
  {
   "cell_type": "code",
   "execution_count": null,
   "metadata": {},
   "outputs": [],
   "source": [
    "from sklearn.metrics import confusion_matrix"
   ]
  },
  {
   "cell_type": "code",
   "execution_count": null,
   "metadata": {},
   "outputs": [],
   "source": [
    "## Home Credit Datenset verkleinern auf 30k Datensätze (10%)\n",
    "hc = pd.read_csv(\"application_train.csv\") \n",
    "X = hc.iloc[:,2:].copy()\n",
    "y = hc.iloc[:,1].copy()\n",
    "\n",
    "from sklearn.model_selection import train_test_split\n",
    "X_train, X_test, y_train, y_test = train_test_split(X, y, test_size=0.9, shuffle=True, stratify=y, random_state=42)\n",
    "\n",
    "print(f' Trainingsset: {X_train.shape, y_train.shape}  / Test Set: {X_test.shape, y_test.shape}')\n",
    "print(y_train.value_counts(normalize=True))\n",
    "\n",
    "X.index.name = \"idx\"\n",
    "y.index.name = \"idx\"\n",
    "X2 = X.merge(y, on=\"idx\")\n",
    "\n"
   ]
  },
  {
   "cell_type": "code",
   "execution_count": null,
   "metadata": {},
   "outputs": [],
   "source": []
  },
  {
   "cell_type": "code",
   "execution_count": null,
   "metadata": {},
   "outputs": [],
   "source": [
    "from sklearn.tree import DecisionTreeClassifier, export_graphviz\n",
    "from sklearn.metrics import accuracy_score, confusion_matrix, classification_report, roc_auc_score, roc_curve\n",
    "\n",
    "model = 'Baseline Decision Tree'\n",
    "t_names = ['Manuelle Entscheidung', 'Systementscheidung']\n",
    "\n",
    "estimator = DecisionTreeClassifier(max_depth=5)\n",
    "estimator.fit(X_train, y_train)\n",
    "\n",
    "ytrue = y_val\n",
    "ypred = estimator.predict(X_val)\n",
    "ppred = estimator.predict_proba(X_val)\n",
    "ppred_1 = ppred[:, 1]\n",
    "ppred_0 = ppred[:, 0]\n",
    "\n",
    "accuracy = accuracy_score(ytrue, ypred)\n",
    "roc_auc = roc_auc_score(ytrue, ppred_1)\n",
    "print(f'Accuracy Score: {accuracy:.4f}, AUC: {roc_auc:.4f}')\n",
    "print(classification_report(ytrue, ypred, target_names=t_names))\n",
    "\n",
    "# Feature Importance aus Model in Dataframe FI schreiben\n",
    "fi_data = {'Feature': list(X_train.columns), 'F_Importance': estimator.feature_importances_}\n",
    "FI = pd.DataFrame(data=fi_data)\n",
    "FI = FI.sort_values('F_Importance', ascending=False)[:15]\n",
    "FI"
   ]
  },
  {
   "cell_type": "code",
   "execution_count": null,
   "metadata": {},
   "outputs": [],
   "source": []
  },
  {
   "cell_type": "code",
   "execution_count": null,
   "metadata": {},
   "outputs": [],
   "source": [
    "os.chdir(\"F://Data/Data Science Uni/40200/BMW Bank Seminar/Data Sets\")\n",
    "os.listdir()"
   ]
  },
  {
   "cell_type": "code",
   "execution_count": null,
   "metadata": {},
   "outputs": [],
   "source": [
    "cars.columns"
   ]
  },
  {
   "cell_type": "code",
   "execution_count": null,
   "metadata": {},
   "outputs": [],
   "source": [
    "cols = [c.strip() for c in cars.columns]"
   ]
  },
  {
   "cell_type": "code",
   "execution_count": null,
   "metadata": {},
   "outputs": [],
   "source": []
  },
  {
   "cell_type": "code",
   "execution_count": null,
   "metadata": {},
   "outputs": [],
   "source": [
    "cars.info()"
   ]
  },
  {
   "cell_type": "code",
   "execution_count": null,
   "metadata": {},
   "outputs": [],
   "source": []
  },
  {
   "cell_type": "code",
   "execution_count": null,
   "metadata": {},
   "outputs": [],
   "source": [
    "cars.describe()"
   ]
  },
  {
   "cell_type": "code",
   "execution_count": null,
   "metadata": {},
   "outputs": [],
   "source": [
    "os.chdir(\"F://Data/Data Science Uni/40200/BMW Bank Seminar/Data Sets\")\n",
    "os.listdir()\n",
    "\n",
    "cars = pd.read_csv(\"cars.csv\", sep=\",\", decimal=\".\")\n",
    "\n",
    "# Leerstellen in Bezeichnungen entfernen und falsche Datentypen korrigieren\n",
    "cols = [c.strip() for c in cars.columns]\n",
    "cars.columns = cols\n",
    "cars.country = cars.country.str.strip()\n",
    "cars.cubicinches = cars.cubicinches.str.strip()\n",
    "cars.weightlbs = cars.weightlbs.str.strip()\n",
    "cars.cubicinches = pd.to_numeric(cars.cubicinches)\n",
    "cars.weightlbs = pd.to_numeric(cars.weightlbs)\n",
    "\n",
    "# Spalten mit NA-Werten identifizieren und mit Mittelwert imputieren\n",
    "cols_nan = [c for c in cars.columns if any(cars[c].isna())]\n",
    "cars[cols_nan] = cars[cols_nan].fillna(cars[cols_nan].mean())\n",
    "\n",
    "# Neue Spalte \"country_code\": Country (Datentyp Text) in numerisches Format encoden\n",
    "from sklearn.preprocessing import LabelEncoder\n",
    "le = LabelEncoder()\n",
    "cars[\"country_code\"] = pd.Series(le.fit_transform(cars.country))\n",
    "\n",
    "print(list(enumerate(le.classes_)))\n",
    "cars.head()\n"
   ]
  },
  {
   "cell_type": "code",
   "execution_count": null,
   "metadata": {},
   "outputs": [],
   "source": []
  },
  {
   "cell_type": "code",
   "execution_count": null,
   "metadata": {},
   "outputs": [],
   "source": [
    "sns.pairplot(cars, size=2)"
   ]
  },
  {
   "cell_type": "code",
   "execution_count": null,
   "metadata": {},
   "outputs": [],
   "source": [
    "\n",
    "# k-Means Algorithmus anwenden\n",
    "from sklearn.cluster import KMeans\n",
    "\n",
    "X = cars.drop([\"country\", \"country_code\"], axis=1)\n",
    "y = cars.country_code\n",
    "\n",
    "km = KMeans(n_clusters=3).fit(X)           # Wendet k-Means auf X an, mit Vorgabe 3 Cluster\n",
    "km.labels_                                 # k-Means hat für jeden Datenpunkt eine Zuordnung vorgenommen"
   ]
  },
  {
   "cell_type": "code",
   "execution_count": null,
   "metadata": {},
   "outputs": [],
   "source": [
    "# Visualisierung der Zuordnungen\n",
    "figsize(12,8)\n",
    "print(list(enumerate(X.columns)))\n",
    "\n",
    "i,j = 0,6\n",
    "\n",
    "plt.scatter(X.iloc[:,i], X.iloc[:,j], c=km.labels_, cmap=\"rainbow\")\n",
    "plt.scatter(km.cluster_centers_[:,i], km.cluster_centers_[:,j], c='k', marker='*', s=300, ) # Scatterplot mit Centroids\n",
    "plt.show()"
   ]
  },
  {
   "cell_type": "markdown",
   "metadata": {},
   "source": [
    "Da wir das Modell jetzt trainiert haben, können wir es verwenden, um NEUE Datensätze zu beurteilen:"
   ]
  },
  {
   "cell_type": "code",
   "execution_count": null,
   "metadata": {},
   "outputs": [],
   "source": [
    "# Wir pflücken drei neue Schwertlilien, vermessen Ihre Blätter... \n",
    "iris_New = np.array([[5, 2.4, 6.2, 1.8],\n",
    "                     [3, 3, 4, 3],\n",
    "                     [4.2, 7, 4, 1.2]])\n",
    "\n",
    "#  und nutzen jetzt unser trainiertes Modell km zur Einordnung\n",
    "km.predict(iris_New)"
   ]
  },
  {
   "cell_type": "code",
   "execution_count": null,
   "metadata": {},
   "outputs": [],
   "source": []
  }
 ],
 "metadata": {
  "kernelspec": {
   "display_name": "Python 3",
   "language": "python",
   "name": "python3"
  },
  "language_info": {
   "codemirror_mode": {
    "name": "ipython",
    "version": 3
   },
   "file_extension": ".py",
   "mimetype": "text/x-python",
   "name": "python",
   "nbconvert_exporter": "python",
   "pygments_lexer": "ipython3",
   "version": "3.7.4"
  },
  "toc-autonumbering": false,
  "toc-showcode": false,
  "toc-showmarkdowntxt": false
 },
 "nbformat": 4,
 "nbformat_minor": 4
}
