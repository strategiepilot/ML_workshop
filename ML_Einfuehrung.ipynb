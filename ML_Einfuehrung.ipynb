{
 "cells": [
  {
   "cell_type": "markdown",
   "metadata": {},
   "source": [
    "# Einführung & Grundlagen Machine Learning (ML)  \n",
    "\n",
    "    18. & 19. März 2020, München    \n",
    "    Autor: Andreas Barth, barth@strategiepilot\n",
    "***"
   ]
  },
  {
   "cell_type": "markdown",
   "metadata": {},
   "source": [
    "Willkommen in **Ihrem persönlichen Jupyter-Notebook**.\n",
    "  \n",
    "Sie können in diesem Notebook alle Beispiele live nachvollziehen, aber auch eigene Varianten ausprobieren.  \n",
    "In der Menüleiste finden sich die wichtigsten Funktionen für \"Maus\"-User.  \n",
    "Hier noch einige sehr hilfreiche Tastatur-Kürzel für effizientes Arbeiten mit der Tastatur:\n",
    "\n",
    "* **Ausführen/Run** einer Zelle mit ... [SHIFT+ENTER]\n",
    "* Eine neue leere Zelle **über** einer Zelle einfügen mit ... [a] \n",
    "* Eine neue leere Zelle **unter** einer Zelle einfügen mit ... [b]\n",
    "* Eine Zelle **löschen/entfernen** !!VORSICHT!! mit ... [dd]\n",
    "* Eine Zelle in **Markdown-Format** umwandeln mit ... [m]\n",
    "* Eine Zelle in **Coding-Format** umwandeln mit ... [y]"
   ]
  },
  {
   "cell_type": "code",
   "execution_count": null,
   "metadata": {
    "collapsed": true,
    "jupyter": {
     "outputs_hidden": true
    }
   },
   "outputs": [],
   "source": []
  },
  {
   "cell_type": "code",
   "execution_count": null,
   "metadata": {
    "collapsed": true,
    "jupyter": {
     "outputs_hidden": true,
     "source_hidden": true
    }
   },
   "outputs": [],
   "source": []
  },
  {
   "cell_type": "code",
   "execution_count": null,
   "metadata": {
    "collapsed": true,
    "jupyter": {
     "outputs_hidden": true,
     "source_hidden": true
    }
   },
   "outputs": [],
   "source": []
  },
  {
   "cell_type": "code",
   "execution_count": null,
   "metadata": {
    "collapsed": true,
    "jupyter": {
     "outputs_hidden": true,
     "source_hidden": true
    }
   },
   "outputs": [],
   "source": []
  },
  {
   "cell_type": "code",
   "execution_count": 1,
   "metadata": {
    "jupyter": {
     "source_hidden": true
    }
   },
   "outputs": [],
   "source": [
    "a = 3\n",
    "b = 8\n",
    "c = a+b\n",
    "d = a*b\n",
    "e = d/c"
   ]
  },
  {
   "cell_type": "code",
   "execution_count": 2,
   "metadata": {
    "jupyter": {
     "source_hidden": true
    }
   },
   "outputs": [
    {
     "data": {
      "text/plain": [
       "'Guten Morgen'"
      ]
     },
     "execution_count": 2,
     "metadata": {},
     "output_type": "execute_result"
    }
   ],
   "source": [
    "txt = \"Guten Morgen\"\n",
    "txt"
   ]
  },
  {
   "cell_type": "code",
   "execution_count": null,
   "metadata": {
    "collapsed": true,
    "jupyter": {
     "outputs_hidden": true,
     "source_hidden": true
    }
   },
   "outputs": [],
   "source": []
  },
  {
   "cell_type": "markdown",
   "metadata": {},
   "source": [
    "Diesen Code müssen wir am Anfang IMMER ausführen:"
   ]
  },
  {
   "cell_type": "code",
   "execution_count": 3,
   "metadata": {},
   "outputs": [],
   "source": [
    "%matplotlib inline\n",
    "\n",
    "# Grundausstattung an Bibliotheken, die wir immer laden\n",
    "import numpy as np                  # Numerische Operationen, Lineare Algebra\n",
    "from scipy.stats import *           # Funktionsbibliothek mit statistischen Funktionen\n",
    "import matplotlib.pyplot as plt     # Funktionsbilio<thek zur Visualisierung von Daten/Ergebnissen\n",
    "import pandas as pd                 # Bearbeitung von tabellarischen Daten (sog. Data Frames)\n",
    "import seaborn as sns               # Erweiterte Visualisierung von Daten/Ergebnissen etc.\n",
    "import warnings                     # Ermöglicht die Deaktivierung von best. Warnmeldungen\n",
    "import random                       # Damit kann man Zufallszahlen generieren\n",
    "import os                           # Ermöglicht Zugriff auf das Dateiablagesystem \n",
    "import datetime as dt               # Funktionsbiliothek zum Arbeiten mit Zeitreihen Daten\n",
    "import pickle                       # Ermöglicht das Abspeichern von Objekten (z.B. trainierten Modellen)\n",
    "\n",
    "# Ein paar Einstellungen, die einem das Leben einfacher machen\n",
    "warnings.filterwarnings('ignore')\n",
    "plt.rcParams['figure.figsize'] = [8, 4]\n",
    "from IPython.core.pylabtools import figsize\n",
    "plt.style.use('seaborn-white')\n",
    "# sns.set_style('white')\n",
    "# sns.set_context('talk')\n"
   ]
  },
  {
   "cell_type": "code",
   "execution_count": 63,
   "metadata": {},
   "outputs": [],
   "source": [
    "# os.chdir(\"F://Data/Data Science Uni/40200/BMW Bank Seminar/Data Sets\")"
   ]
  },
  {
   "cell_type": "markdown",
   "metadata": {
    "toc-hr-collapsed": false
   },
   "source": [
    "***\n",
    "#  Inhalt\n",
    "\n",
    "2. Daten & Preprocessing\n",
    "   - Daten laden u. explorieren\n",
    "   - Einfaches Preprocessing\n",
    "\n",
    "\n",
    "3. Unsupervised Learning\n",
    "   - Clustering mit Kmeans\n",
    "\n",
    "\n",
    "4. Supervised Learning: Lineare Modelle\n",
    "   - Datenset: BMW Pricing Challenge\n",
    "   - Lineare Regression\n",
    "\n",
    "\n",
    "5. Supervised Learning: Classification\n",
    "   - Datenset: \"Give me some Credit\"\n",
    "   - Ein erstes Modell: Decision Tree\n",
    "   - Modellauswahl & -beurteilung verschiedener Modelle \n",
    "\n",
    "\n",
    "6. Exkurs: NLP Natural Language Processing & Text Mining"
   ]
  },
  {
   "cell_type": "markdown",
   "metadata": {
    "toc-hr-collapsed": true
   },
   "source": [
    "***\n",
    "## 2. Daten & Preprocessing"
   ]
  },
  {
   "cell_type": "markdown",
   "metadata": {
    "toc-hr-collapsed": false
   },
   "source": [
    "### 2.1 Daten laden & explorieren\n",
    "Zunächst schauen wir uns an, wie man Daten in Python gut einlesen, explorieren und für ML vorbereiten kann.  \n",
    "Wenn man mit tabellarischen Daten arbeiten möchte bietet sich insbesondere die Funktionsbibliothek PANDAS an.  \n",
    "Da wir sie bereits standardmässig (s.o. bei imports) aufgerufen haben, steht sie uns sofort zur Verfügung."
   ]
  },
  {
   "cell_type": "markdown",
   "metadata": {
    "toc-hr-collapsed": true
   },
   "source": [
    "Wir laden ein Datenset mit 261 PKW Modellen, die mit jeweils 8 Merkmalen beschrieben werden.  \n",
    "Im Urzustand sind die Daten so noch nicht in dem Format, dass wir für ML brauchen.  \n",
    "Darum kümmern wir uns jetzt ..."
   ]
  },
  {
   "cell_type": "code",
   "execution_count": 5,
   "metadata": {
    "jupyter": {
     "source_hidden": true
    }
   },
   "outputs": [
    {
     "data": {
      "text/html": [
       "<div>\n",
       "<style scoped>\n",
       "    .dataframe tbody tr th:only-of-type {\n",
       "        vertical-align: middle;\n",
       "    }\n",
       "\n",
       "    .dataframe tbody tr th {\n",
       "        vertical-align: top;\n",
       "    }\n",
       "\n",
       "    .dataframe thead th {\n",
       "        text-align: right;\n",
       "    }\n",
       "</style>\n",
       "<table border=\"1\" class=\"dataframe\">\n",
       "  <thead>\n",
       "    <tr style=\"text-align: right;\">\n",
       "      <th></th>\n",
       "      <th>mpg</th>\n",
       "      <th>cylinders</th>\n",
       "      <th>cubicinches</th>\n",
       "      <th>hp</th>\n",
       "      <th>weightlbs</th>\n",
       "      <th>time-to-60</th>\n",
       "      <th>year</th>\n",
       "      <th>country</th>\n",
       "    </tr>\n",
       "  </thead>\n",
       "  <tbody>\n",
       "    <tr>\n",
       "      <td>0</td>\n",
       "      <td>14.0</td>\n",
       "      <td>8</td>\n",
       "      <td>350.0</td>\n",
       "      <td>165</td>\n",
       "      <td>4209.0</td>\n",
       "      <td>12</td>\n",
       "      <td>1972</td>\n",
       "      <td>US</td>\n",
       "    </tr>\n",
       "    <tr>\n",
       "      <td>1</td>\n",
       "      <td>31.9</td>\n",
       "      <td>4</td>\n",
       "      <td>89.0</td>\n",
       "      <td>71</td>\n",
       "      <td>1925.0</td>\n",
       "      <td>14</td>\n",
       "      <td>1980</td>\n",
       "      <td>Europe</td>\n",
       "    </tr>\n",
       "    <tr>\n",
       "      <td>2</td>\n",
       "      <td>17.0</td>\n",
       "      <td>8</td>\n",
       "      <td>302.0</td>\n",
       "      <td>140</td>\n",
       "      <td>3449.0</td>\n",
       "      <td>11</td>\n",
       "      <td>1971</td>\n",
       "      <td>US</td>\n",
       "    </tr>\n",
       "    <tr>\n",
       "      <td>3</td>\n",
       "      <td>15.0</td>\n",
       "      <td>8</td>\n",
       "      <td>400.0</td>\n",
       "      <td>150</td>\n",
       "      <td>3761.0</td>\n",
       "      <td>10</td>\n",
       "      <td>1971</td>\n",
       "      <td>US</td>\n",
       "    </tr>\n",
       "    <tr>\n",
       "      <td>4</td>\n",
       "      <td>30.5</td>\n",
       "      <td>4</td>\n",
       "      <td>98.0</td>\n",
       "      <td>63</td>\n",
       "      <td>2051.0</td>\n",
       "      <td>17</td>\n",
       "      <td>1978</td>\n",
       "      <td>US</td>\n",
       "    </tr>\n",
       "  </tbody>\n",
       "</table>\n",
       "</div>"
      ],
      "text/plain": [
       "    mpg  cylinders  cubicinches   hp  weightlbs  time-to-60  year country\n",
       "0  14.0          8        350.0  165     4209.0          12  1972      US\n",
       "1  31.9          4         89.0   71     1925.0          14  1980  Europe\n",
       "2  17.0          8        302.0  140     3449.0          11  1971      US\n",
       "3  15.0          8        400.0  150     3761.0          10  1971      US\n",
       "4  30.5          4         98.0   63     2051.0          17  1978      US"
      ]
     },
     "execution_count": 5,
     "metadata": {},
     "output_type": "execute_result"
    }
   ],
   "source": [
    "cars = pd.read_csv(\"cars.csv\", sep=\",\", decimal=\".\")     # Einlesen der.csv Datei vom Verzeichnis und in den Dataframe \"cars\" schreiben\n",
    "cars.head()                                              # .head()  zeigt die ersten 5 Datensätze/Zeilen des Dataframes an "
   ]
  },
  {
   "cell_type": "markdown",
   "metadata": {},
   "source": [
    "Umfang unseres df bestimmen:  Anzahl Datensätze (Zeilen), Anzahl Features (Spalten)"
   ]
  },
  {
   "cell_type": "code",
   "execution_count": 6,
   "metadata": {
    "jupyter": {
     "source_hidden": true
    }
   },
   "outputs": [
    {
     "data": {
      "text/plain": [
       "(261, 8)"
      ]
     },
     "execution_count": 6,
     "metadata": {},
     "output_type": "execute_result"
    }
   ],
   "source": [
    "cars.shape"
   ]
  },
  {
   "cell_type": "markdown",
   "metadata": {},
   "source": [
    "Anzeigen der Mermale / Features / Spalten, ihrer Datentypen und Anzahl von fehlenden Werten"
   ]
  },
  {
   "cell_type": "code",
   "execution_count": 7,
   "metadata": {
    "jupyter": {
     "source_hidden": true
    }
   },
   "outputs": [
    {
     "name": "stdout",
     "output_type": "stream",
     "text": [
      "<class 'pandas.core.frame.DataFrame'>\n",
      "RangeIndex: 261 entries, 0 to 260\n",
      "Data columns (total 8 columns):\n",
      "mpg            261 non-null float64\n",
      "cylinders      261 non-null int64\n",
      "cubicinches    259 non-null float64\n",
      "hp             261 non-null int64\n",
      "weightlbs      258 non-null float64\n",
      "time-to-60     261 non-null int64\n",
      "year           261 non-null int64\n",
      "country        257 non-null object\n",
      "dtypes: float64(3), int64(4), object(1)\n",
      "memory usage: 16.4+ KB\n"
     ]
    }
   ],
   "source": [
    "cars.info()"
   ]
  },
  {
   "cell_type": "markdown",
   "metadata": {},
   "source": [
    "Mittelwerte aller Merkmale ermitteln mit .mean()  \n",
    "Das funktioniert aber auch mit ...    \n",
    ".median()  \n",
    ".std()  \n",
    ".var()  \n",
    ".min()  \n",
    ".max()  "
   ]
  },
  {
   "cell_type": "code",
   "execution_count": 8,
   "metadata": {
    "jupyter": {
     "source_hidden": true
    }
   },
   "outputs": [
    {
     "data": {
      "text/plain": [
       "mpg              23.144828\n",
       "cylinders         5.590038\n",
       "cubicinches     200.918919\n",
       "hp              106.360153\n",
       "weightlbs      3009.833333\n",
       "time-to-60       15.547893\n",
       "year           1976.819923\n",
       "dtype: float64"
      ]
     },
     "execution_count": 8,
     "metadata": {},
     "output_type": "execute_result"
    }
   ],
   "source": [
    "cars.mean()"
   ]
  },
  {
   "cell_type": "markdown",
   "metadata": {},
   "source": [
    "Oder wenn man nur die Werte eines bestimmten Merkmals ermitteln möchte:"
   ]
  },
  {
   "cell_type": "code",
   "execution_count": 9,
   "metadata": {
    "jupyter": {
     "source_hidden": true
    }
   },
   "outputs": [
    {
     "data": {
      "text/plain": [
       "200.9189189189189"
      ]
     },
     "execution_count": 9,
     "metadata": {},
     "output_type": "execute_result"
    }
   ],
   "source": [
    "cars.cubicinches.mean()"
   ]
  },
  {
   "cell_type": "markdown",
   "metadata": {},
   "source": [
    "Noch einfacher ... eine komplette Beschreibung der Verteilungsparameter aller numerischen Merkmale unseres Datensets"
   ]
  },
  {
   "cell_type": "code",
   "execution_count": 10,
   "metadata": {
    "jupyter": {
     "source_hidden": true
    }
   },
   "outputs": [
    {
     "data": {
      "text/html": [
       "<div>\n",
       "<style scoped>\n",
       "    .dataframe tbody tr th:only-of-type {\n",
       "        vertical-align: middle;\n",
       "    }\n",
       "\n",
       "    .dataframe tbody tr th {\n",
       "        vertical-align: top;\n",
       "    }\n",
       "\n",
       "    .dataframe thead th {\n",
       "        text-align: right;\n",
       "    }\n",
       "</style>\n",
       "<table border=\"1\" class=\"dataframe\">\n",
       "  <thead>\n",
       "    <tr style=\"text-align: right;\">\n",
       "      <th></th>\n",
       "      <th>count</th>\n",
       "      <th>mean</th>\n",
       "      <th>std</th>\n",
       "      <th>min</th>\n",
       "      <th>25%</th>\n",
       "      <th>50%</th>\n",
       "      <th>75%</th>\n",
       "      <th>max</th>\n",
       "    </tr>\n",
       "  </thead>\n",
       "  <tbody>\n",
       "    <tr>\n",
       "      <td>mpg</td>\n",
       "      <td>261.0</td>\n",
       "      <td>23.144828</td>\n",
       "      <td>7.823570</td>\n",
       "      <td>10.0</td>\n",
       "      <td>16.9</td>\n",
       "      <td>22.0</td>\n",
       "      <td>28.8</td>\n",
       "      <td>46.6</td>\n",
       "    </tr>\n",
       "    <tr>\n",
       "      <td>cylinders</td>\n",
       "      <td>261.0</td>\n",
       "      <td>5.590038</td>\n",
       "      <td>1.733310</td>\n",
       "      <td>3.0</td>\n",
       "      <td>4.0</td>\n",
       "      <td>6.0</td>\n",
       "      <td>8.0</td>\n",
       "      <td>8.0</td>\n",
       "    </tr>\n",
       "    <tr>\n",
       "      <td>cubicinches</td>\n",
       "      <td>259.0</td>\n",
       "      <td>200.918919</td>\n",
       "      <td>109.258305</td>\n",
       "      <td>68.0</td>\n",
       "      <td>99.5</td>\n",
       "      <td>156.0</td>\n",
       "      <td>303.0</td>\n",
       "      <td>455.0</td>\n",
       "    </tr>\n",
       "    <tr>\n",
       "      <td>hp</td>\n",
       "      <td>261.0</td>\n",
       "      <td>106.360153</td>\n",
       "      <td>40.499959</td>\n",
       "      <td>46.0</td>\n",
       "      <td>75.0</td>\n",
       "      <td>95.0</td>\n",
       "      <td>138.0</td>\n",
       "      <td>230.0</td>\n",
       "    </tr>\n",
       "    <tr>\n",
       "      <td>weightlbs</td>\n",
       "      <td>258.0</td>\n",
       "      <td>3009.833333</td>\n",
       "      <td>854.039019</td>\n",
       "      <td>1613.0</td>\n",
       "      <td>2248.0</td>\n",
       "      <td>2867.5</td>\n",
       "      <td>3670.0</td>\n",
       "      <td>4997.0</td>\n",
       "    </tr>\n",
       "    <tr>\n",
       "      <td>time-to-60</td>\n",
       "      <td>261.0</td>\n",
       "      <td>15.547893</td>\n",
       "      <td>2.910625</td>\n",
       "      <td>8.0</td>\n",
       "      <td>14.0</td>\n",
       "      <td>16.0</td>\n",
       "      <td>17.0</td>\n",
       "      <td>25.0</td>\n",
       "    </tr>\n",
       "    <tr>\n",
       "      <td>year</td>\n",
       "      <td>261.0</td>\n",
       "      <td>1976.819923</td>\n",
       "      <td>3.637696</td>\n",
       "      <td>1971.0</td>\n",
       "      <td>1974.0</td>\n",
       "      <td>1977.0</td>\n",
       "      <td>1980.0</td>\n",
       "      <td>1983.0</td>\n",
       "    </tr>\n",
       "  </tbody>\n",
       "</table>\n",
       "</div>"
      ],
      "text/plain": [
       "             count         mean         std     min     25%     50%     75%  \\\n",
       "mpg          261.0    23.144828    7.823570    10.0    16.9    22.0    28.8   \n",
       "cylinders    261.0     5.590038    1.733310     3.0     4.0     6.0     8.0   \n",
       "cubicinches  259.0   200.918919  109.258305    68.0    99.5   156.0   303.0   \n",
       "hp           261.0   106.360153   40.499959    46.0    75.0    95.0   138.0   \n",
       "weightlbs    258.0  3009.833333  854.039019  1613.0  2248.0  2867.5  3670.0   \n",
       "time-to-60   261.0    15.547893    2.910625     8.0    14.0    16.0    17.0   \n",
       "year         261.0  1976.819923    3.637696  1971.0  1974.0  1977.0  1980.0   \n",
       "\n",
       "                max  \n",
       "mpg            46.6  \n",
       "cylinders       8.0  \n",
       "cubicinches   455.0  \n",
       "hp            230.0  \n",
       "weightlbs    4997.0  \n",
       "time-to-60     25.0  \n",
       "year         1983.0  "
      ]
     },
     "execution_count": 10,
     "metadata": {},
     "output_type": "execute_result"
    }
   ],
   "source": [
    "cars.describe().T"
   ]
  },
  {
   "cell_type": "markdown",
   "metadata": {
    "toc-hr-collapsed": true
   },
   "source": [
    "Visuelle Exploration der Daten geht auch:"
   ]
  },
  {
   "cell_type": "markdown",
   "metadata": {},
   "source": [
    "(a) Histogramm"
   ]
  },
  {
   "cell_type": "code",
   "execution_count": 11,
   "metadata": {
    "jupyter": {
     "source_hidden": true
    }
   },
   "outputs": [
    {
     "data": {
      "image/png": "[encoded data removed]",
      "text/plain": [
       "<Figure size 1440x720 with 9 Axes>"
      ]
     },
     "metadata": {
      "needs_background": "light"
     },
     "output_type": "display_data"
    }
   ],
   "source": [
    "figsize(20,10)             # stellt die Größe der Abbildung ein (Horizontale, Vertikale)\n",
    "_= cars.hist(bins=30,)     # erzeugt ein Histogramm mit 30er Intervallschritten, einstellbar über bins=xx"
   ]
  },
  {
   "cell_type": "markdown",
   "metadata": {},
   "source": [
    "(b) Countplot"
   ]
  },
  {
   "cell_type": "code",
   "execution_count": 12,
   "metadata": {
    "jupyter": {
     "source_hidden": true
    }
   },
   "outputs": [
    {
     "data": {
      "image/png": "[encoded data removed]",
      "text/plain": [
       "<Figure size 360x144 with 1 Axes>"
      ]
     },
     "metadata": {
      "needs_background": "light"
     },
     "output_type": "display_data"
    }
   ],
   "source": [
    "# Visualidierung Anzahl Modelle nach \"Country\"\n",
    "figsize(5,2)  \n",
    "_= sns.countplot(x=cars.country, data=cars, )"
   ]
  },
  {
   "cell_type": "markdown",
   "metadata": {},
   "source": [
    "(c) Boxplot"
   ]
  },
  {
   "cell_type": "code",
   "execution_count": 13,
   "metadata": {
    "jupyter": {
     "source_hidden": true
    }
   },
   "outputs": [
    {
     "data": {
      "image/png": "[encoded data removed]",
      "text/plain": [
       "<Figure size 360x288 with 1 Axes>"
      ]
     },
     "metadata": {
      "needs_background": "light"
     },
     "output_type": "display_data"
    }
   ],
   "source": [
    "# Visualidierung Boxplot: Verteilung der Kubikinches nach \"Country\"\n",
    "figsize(5,4)  \n",
    "_= sns.boxplot(x=cars.country, y=cars.cubicinches, data=cars)"
   ]
  },
  {
   "cell_type": "markdown",
   "metadata": {},
   "source": [
    "(d) Violinplot"
   ]
  },
  {
   "cell_type": "code",
   "execution_count": 14,
   "metadata": {
    "jupyter": {
     "source_hidden": true
    }
   },
   "outputs": [
    {
     "data": {
      "image/png": "[encoded data removed]",
      "text/plain": [
       "<Figure size 360x288 with 1 Axes>"
      ]
     },
     "metadata": {
      "needs_background": "light"
     },
     "output_type": "display_data"
    }
   ],
   "source": [
    "# Visualidierung Violinplot: Verteilung der Kubikinches nach \"Country\"\n",
    "figsize(5,4)  \n",
    "_= sns.violinplot(x=cars.country, y=cars.cubicinches, data=cars)"
   ]
  },
  {
   "cell_type": "markdown",
   "metadata": {},
   "source": [
    "(e) Etwas advancend: Paarweise Verteilung ausgewählter Feature"
   ]
  },
  {
   "cell_type": "code",
   "execution_count": 15,
   "metadata": {
    "jupyter": {
     "source_hidden": true
    }
   },
   "outputs": [
    {
     "data": {
      "image/png": "[encoded data removed]",
      "text/plain": [
       "<Figure size 864x864 with 20 Axes>"
      ]
     },
     "metadata": {
      "needs_background": "light"
     },
     "output_type": "display_data"
    }
   ],
   "source": [
    "figsize(20,20)\n",
    "_= sns.pairplot(data=cars, vars=[\"mpg\",\"cylinders\",\"hp\",\"time-to-60\"], size=3)  # hue=cars.country"
   ]
  },
  {
   "cell_type": "markdown",
   "metadata": {
    "toc-hr-collapsed": true
   },
   "source": [
    "### 2.2 Wichtige Preprocessing Schritte\n",
    "Leider sind Rohdaten in der Realität selten (oder nie) in einem für ML Algorithmen geigneten Zustand,  \n",
    "so dass ein PreProcessing und Vorbereiten der Daten erforderlich ist.\n",
    "Die gängigsten Arbeitsschritte sind ...\n",
    "\n",
    "+ Fehlende Werte ersetzen oder bereinigen\n",
    "+ Kategorielle Daten encoden (umwandeln)\n",
    "+ Numerische Merkmale standardisieren / skalieren\n"
   ]
  },
  {
   "cell_type": "markdown",
   "metadata": {
    "toc-hr-collapsed": true
   },
   "source": [
    "#### *Fehlende Werte*\n",
    "... heißen in Python meistens \"NA\" (oder nan). Viele ML Algorithmen funktioneren nicht mit NA Werten im Datenset.  \n",
    "Welche Strategien kann man anwenden?  \n",
    "+ Löschen von einzelnen Datensätzen mit NA Werten\n",
    "+ Löschen von einzelnen Merkmalen (Feature) mit NA Werten\n",
    "+ NA Werte durch Schätzwerte ersetzen => Mittelwert, Median, Modus, Max-Wert, Min-Wert, individueller Wert, Regressionsmodell lernen\n",
    "\n",
    "Wie sieht es in unserem Datenset aus?  \n",
    "Welche Merkmale haben NA und wieviele davon?"
   ]
  },
  {
   "cell_type": "code",
   "execution_count": 16,
   "metadata": {
    "jupyter": {
     "source_hidden": true
    }
   },
   "outputs": [
    {
     "data": {
      "text/plain": [
       "mpg            0\n",
       "cylinders      0\n",
       "cubicinches    2\n",
       "hp             0\n",
       "weightlbs      3\n",
       "time-to-60     0\n",
       "year           0\n",
       "country        4\n",
       "dtype: int64"
      ]
     },
     "execution_count": 16,
     "metadata": {},
     "output_type": "execute_result"
    }
   ],
   "source": [
    "cars.isna().sum()\n",
    "# oder prozentual:  \n",
    "# cars.isna().mean()"
   ]
  },
  {
   "cell_type": "markdown",
   "metadata": {},
   "source": [
    "Da uns prozentual nur wenige Werte fehlen, können wir sie bedenkenlos mit dem jeweiligen Mittelwert oder Median des Merkmals ersetzen"
   ]
  },
  {
   "cell_type": "code",
   "execution_count": 17,
   "metadata": {
    "jupyter": {
     "source_hidden": true
    }
   },
   "outputs": [],
   "source": [
    "cars = cars.fillna(cars.mean())   # alternativ mit .median()"
   ]
  },
  {
   "cell_type": "markdown",
   "metadata": {},
   "source": [
    "Sind jetzt alle fehlenden Werte ersetzt worden?"
   ]
  },
  {
   "cell_type": "code",
   "execution_count": 18,
   "metadata": {
    "jupyter": {
     "source_hidden": true
    }
   },
   "outputs": [],
   "source": [
    "# OK, dann kümmern wir uns noch um das nicht-numerische Merkaml \"country\"\n",
    "cars.country = cars.country.fillna(\"MISSING\")"
   ]
  },
  {
   "cell_type": "markdown",
   "metadata": {},
   "source": [
    "Verteilung des Merkmals \"country\""
   ]
  },
  {
   "cell_type": "code",
   "execution_count": 19,
   "metadata": {
    "jupyter": {
     "source_hidden": true
    }
   },
   "outputs": [
    {
     "data": {
      "text/plain": [
       "US         160\n",
       "Japan       50\n",
       "Europe      47\n",
       "MISSING      4\n",
       "Name: country, dtype: int64"
      ]
     },
     "execution_count": 19,
     "metadata": {},
     "output_type": "execute_result"
    }
   ],
   "source": [
    "cars.country.value_counts()"
   ]
  },
  {
   "cell_type": "markdown",
   "metadata": {
    "jupyter": {
     "outputs_hidden": true
    },
    "toc-hr-collapsed": true
   },
   "source": [
    "#### *Kategorielle alphanumerische Daten umwandeln*\n",
    "Sehr viele ML Algorithmen (fast alle in der Bibliothek Scikit-Learn) können nur numerische Daten verarbeiten.  \n",
    "In der Praxis sind kategorielle Merkmale aber häufig alphanumerisch: Farbe, Geschlecht, Hersteller, Modell, Land ...  \n",
    "Wenn man diese Merkmale als Feature nutzen möchte, muss man sie in eine numerische Form encoden:\n",
    "  \n",
    "Zwei gängige Methoden dafür sind \"Label Encoding\" und \"One Hot Encoding\".  \n",
    "\n",
    "OH Encoding hat ggü. Label Encoding einen entscheidenden Vorteil:  \n",
    "Label Encoding stellt eine (häufig nicht real existierende) Logik bzw. Rangfolge zwischen den Merkmalen her:  \n",
    "Label Encoding unseres Merkmals Country führt zu: (0, US), (1, Europe), (2, Japan). Ist Japan > Europe > US ??    \n",
    "Beim OH Encoding hingegen werden die Merkmale transformiert, ohne dass eine ungewollte Rangfolge der Ausprägungen ensteht.\n",
    "\n",
    "Wir transformieren also unser Feature \"colour\" mit dem OH-Encoder:"
   ]
  },
  {
   "cell_type": "code",
   "execution_count": 20,
   "metadata": {
    "jupyter": {
     "source_hidden": true
    }
   },
   "outputs": [
    {
     "data": {
      "text/html": [
       "<div>\n",
       "<style scoped>\n",
       "    .dataframe tbody tr th:only-of-type {\n",
       "        vertical-align: middle;\n",
       "    }\n",
       "\n",
       "    .dataframe tbody tr th {\n",
       "        vertical-align: top;\n",
       "    }\n",
       "\n",
       "    .dataframe thead th {\n",
       "        text-align: right;\n",
       "    }\n",
       "</style>\n",
       "<table border=\"1\" class=\"dataframe\">\n",
       "  <thead>\n",
       "    <tr style=\"text-align: right;\">\n",
       "      <th></th>\n",
       "      <th>mpg</th>\n",
       "      <th>cylinders</th>\n",
       "      <th>cubicinches</th>\n",
       "      <th>hp</th>\n",
       "      <th>weightlbs</th>\n",
       "      <th>time-to-60</th>\n",
       "      <th>year</th>\n",
       "      <th>country_Europe</th>\n",
       "      <th>country_Japan</th>\n",
       "      <th>country_MISSING</th>\n",
       "      <th>country_US</th>\n",
       "    </tr>\n",
       "  </thead>\n",
       "  <tbody>\n",
       "    <tr>\n",
       "      <td>42</td>\n",
       "      <td>18.5</td>\n",
       "      <td>6</td>\n",
       "      <td>250.0</td>\n",
       "      <td>110</td>\n",
       "      <td>3645.0</td>\n",
       "      <td>16</td>\n",
       "      <td>1977</td>\n",
       "      <td>0</td>\n",
       "      <td>0</td>\n",
       "      <td>0</td>\n",
       "      <td>1</td>\n",
       "    </tr>\n",
       "    <tr>\n",
       "      <td>209</td>\n",
       "      <td>25.4</td>\n",
       "      <td>6</td>\n",
       "      <td>168.0</td>\n",
       "      <td>116</td>\n",
       "      <td>2900.0</td>\n",
       "      <td>13</td>\n",
       "      <td>1982</td>\n",
       "      <td>0</td>\n",
       "      <td>1</td>\n",
       "      <td>0</td>\n",
       "      <td>0</td>\n",
       "    </tr>\n",
       "    <tr>\n",
       "      <td>256</td>\n",
       "      <td>17.0</td>\n",
       "      <td>8</td>\n",
       "      <td>305.0</td>\n",
       "      <td>130</td>\n",
       "      <td>3840.0</td>\n",
       "      <td>15</td>\n",
       "      <td>1980</td>\n",
       "      <td>0</td>\n",
       "      <td>0</td>\n",
       "      <td>0</td>\n",
       "      <td>1</td>\n",
       "    </tr>\n",
       "    <tr>\n",
       "      <td>216</td>\n",
       "      <td>37.0</td>\n",
       "      <td>4</td>\n",
       "      <td>85.0</td>\n",
       "      <td>65</td>\n",
       "      <td>1975.0</td>\n",
       "      <td>19</td>\n",
       "      <td>1982</td>\n",
       "      <td>0</td>\n",
       "      <td>1</td>\n",
       "      <td>0</td>\n",
       "      <td>0</td>\n",
       "    </tr>\n",
       "  </tbody>\n",
       "</table>\n",
       "</div>"
      ],
      "text/plain": [
       "      mpg  cylinders  cubicinches   hp  weightlbs  time-to-60  year  \\\n",
       "42   18.5          6        250.0  110     3645.0          16  1977   \n",
       "209  25.4          6        168.0  116     2900.0          13  1982   \n",
       "256  17.0          8        305.0  130     3840.0          15  1980   \n",
       "216  37.0          4         85.0   65     1975.0          19  1982   \n",
       "\n",
       "     country_Europe  country_Japan  country_MISSING  country_US  \n",
       "42                0              0                0           1  \n",
       "209               0              1                0           0  \n",
       "256               0              0                0           1  \n",
       "216               0              1                0           0  "
      ]
     },
     "execution_count": 20,
     "metadata": {},
     "output_type": "execute_result"
    }
   ],
   "source": [
    "cars_target = cars.country.copy()          # Brauchen wir später noch ...\n",
    "\n",
    "# Jetzt transformieren wir cars mit \"One Hot Encoding\"\n",
    "cars = pd.get_dummies(cars, )\n",
    "cars.sample(4)"
   ]
  },
  {
   "cell_type": "markdown",
   "metadata": {
    "toc-hr-collapsed": true
   },
   "source": [
    "#### *Daten normalisieren/standardisieren*\n",
    "Sehr viele Algorithmen nutzen mathematische Distanzmaße wie z.B. den Abstand eines Datenpunktes vom Mittelwert.  \n",
    "Wenn die einzelnen Feature in ihren Ausprägungen unterschiedlich stark skalieren (z.B. Anzahl Zylinder und PS)  \n",
    "dann \"verzerren\" diese unterschiedlichen Skalen die Ergebnisse des Algorithmus.\n",
    "\n",
    "Lösungsstrategie: Einheitliche Skalierung der Daten, d.h. man standardisiert sie.  \n",
    "Schauen wir uns die statistischen Eckwerte (Lageparameter) unserer numerischen Feature an:"
   ]
  },
  {
   "cell_type": "code",
   "execution_count": 21,
   "metadata": {
    "jupyter": {
     "source_hidden": true
    }
   },
   "outputs": [
    {
     "data": {
      "text/html": [
       "<div>\n",
       "<style scoped>\n",
       "    .dataframe tbody tr th:only-of-type {\n",
       "        vertical-align: middle;\n",
       "    }\n",
       "\n",
       "    .dataframe tbody tr th {\n",
       "        vertical-align: top;\n",
       "    }\n",
       "\n",
       "    .dataframe thead th {\n",
       "        text-align: right;\n",
       "    }\n",
       "</style>\n",
       "<table border=\"1\" class=\"dataframe\">\n",
       "  <thead>\n",
       "    <tr style=\"text-align: right;\">\n",
       "      <th></th>\n",
       "      <th>mpg</th>\n",
       "      <th>cylinders</th>\n",
       "      <th>cubicinches</th>\n",
       "      <th>hp</th>\n",
       "      <th>weightlbs</th>\n",
       "      <th>time-to-60</th>\n",
       "    </tr>\n",
       "  </thead>\n",
       "  <tbody>\n",
       "    <tr>\n",
       "      <td>mean</td>\n",
       "      <td>23.144828</td>\n",
       "      <td>5.590038</td>\n",
       "      <td>200.918919</td>\n",
       "      <td>106.360153</td>\n",
       "      <td>3009.833333</td>\n",
       "      <td>15.547893</td>\n",
       "    </tr>\n",
       "    <tr>\n",
       "      <td>std</td>\n",
       "      <td>7.823570</td>\n",
       "      <td>1.733310</td>\n",
       "      <td>108.837269</td>\n",
       "      <td>40.499959</td>\n",
       "      <td>849.097575</td>\n",
       "      <td>2.910625</td>\n",
       "    </tr>\n",
       "  </tbody>\n",
       "</table>\n",
       "</div>"
      ],
      "text/plain": [
       "            mpg  cylinders  cubicinches          hp    weightlbs  time-to-60\n",
       "mean  23.144828   5.590038   200.918919  106.360153  3009.833333   15.547893\n",
       "std    7.823570   1.733310   108.837269   40.499959   849.097575    2.910625"
      ]
     },
     "execution_count": 21,
     "metadata": {},
     "output_type": "execute_result"
    }
   ],
   "source": [
    "feat_num = ['mpg', 'cylinders', 'cubicinches', 'hp', 'weightlbs', 'time-to-60']   # Liste feat_num := Vereinfacht die Adressierung\n",
    "cars.loc[:, feat_num].describe()[1:3]"
   ]
  },
  {
   "cell_type": "markdown",
   "metadata": {},
   "source": [
    "Wir standardisieren unsere Daten mit der sog. Z-Score Methode (Normalisierung)  \n",
    "Die Funktionsbibliothek Scikit-Learn (ML Methoden) bietet dafür eine geeignete Methode an."
   ]
  },
  {
   "cell_type": "code",
   "execution_count": 22,
   "metadata": {
    "jupyter": {
     "source_hidden": true
    }
   },
   "outputs": [
    {
     "name": "stdout",
     "output_type": "stream",
     "text": [
      "    mpg  cylinders  cubicinches   hp  weightlbs  time-to-60\n",
      "0  14.0          8        350.0  165     4209.0          12\n",
      "[[-1.17112732  1.39305285  1.37239295  1.45068065  1.41499703 -1.22128734]]\n",
      "--------------------------------------------------------------------------------\n",
      "\n",
      " [-1.17112732  1.39305285  1.37239295  1.45068065  1.41499703 -1.22128734]\n",
      "\n",
      " [ 1.12122635 -0.91910482 -1.03028992 -0.87476849 -1.28008557 -0.53282946]\n",
      "\n",
      " [-0.78693397  1.39305285  0.93052024  0.83221013  0.51820947 -1.56551627]\n",
      "\n",
      " [-1.04306287  1.39305285  1.83267702  1.07959834  0.88636436 -1.90974521]\n",
      "\n",
      " [ 0.94193612 -0.91910482 -0.94743878 -1.07267905 -1.13140763  0.49985734]\n"
     ]
    }
   ],
   "source": [
    "from sklearn.preprocessing import StandardScaler    # importieren des Tools aus scikit-learn\n",
    "\n",
    "X = cars.copy()                        # jetzt wandeln wir unseren Dataframe in eine Datenmatrix X um\n",
    "X = X[feat_num]                        # wir skalieren nur die ersten 6 Feature (nicht das Jahr und die Länder)\n",
    "\n",
    "scaler = StandardScaler().fit(X)       # Trainiert den Scaler auf die Datenmatrix\n",
    "X = scaler.transform(X)                # Transformiert Datenmatrix X\n",
    "\n",
    "print(cars.loc[:0,feat_num])           # Ausgabe der ersten Zeile des Cars Datensets\n",
    "print(X[:1])                           # Ausgabe der ersten Zeile der transformierten Matrix X\n",
    "print(80*\"-\")\n",
    "for i in X[:5]: print(\"\\n\",i)          # Pretty Printing der ersten 5 transformierten Datensätze\n"
   ]
  },
  {
   "cell_type": "markdown",
   "metadata": {},
   "source": [
    "***\n",
    "Nach der Exploration und Vorbereitung unserer Daten wenden wir uns jetzt dem ML zu:"
   ]
  },
  {
   "cell_type": "markdown",
   "metadata": {
    "toc-hr-collapsed": false
   },
   "source": [
    "## 3. Unsupervised Learning: Clustering mit k-Means\n",
    "Wir arbeiten mit unseren cars Daten weiter. Beim **\"unsupervised\" Learning\"** wird ein Modell **ohne ein vorhandenes Label (Lernsignal)** trainiert.  \n",
    "D.h. in unserem Beispiel, dass wir simulieren die Informtion der Herkunft \"country\" nicht zu besitzen.  \n",
    "Dafür erstellen wir eine Datenmatrix X des cars-Datenset OHNE das Feature \"country\".  \n",
    "Wir versuchen das Herkunftsland (Region) über k-Means zu bestimmen:"
   ]
  },
  {
   "cell_type": "code",
   "execution_count": 23,
   "metadata": {
    "jupyter": {
     "source_hidden": true
    }
   },
   "outputs": [
    {
     "data": {
      "text/html": [
       "<div>\n",
       "<style scoped>\n",
       "    .dataframe tbody tr th:only-of-type {\n",
       "        vertical-align: middle;\n",
       "    }\n",
       "\n",
       "    .dataframe tbody tr th {\n",
       "        vertical-align: top;\n",
       "    }\n",
       "\n",
       "    .dataframe thead th {\n",
       "        text-align: right;\n",
       "    }\n",
       "</style>\n",
       "<table border=\"1\" class=\"dataframe\">\n",
       "  <thead>\n",
       "    <tr style=\"text-align: right;\">\n",
       "      <th></th>\n",
       "      <th>mpg</th>\n",
       "      <th>cylinders</th>\n",
       "      <th>cubicinches</th>\n",
       "      <th>hp</th>\n",
       "      <th>weightlbs</th>\n",
       "      <th>time-to-60</th>\n",
       "    </tr>\n",
       "  </thead>\n",
       "  <tbody>\n",
       "    <tr>\n",
       "      <td>135</td>\n",
       "      <td>16.0</td>\n",
       "      <td>8</td>\n",
       "      <td>318.0</td>\n",
       "      <td>150</td>\n",
       "      <td>4190.0</td>\n",
       "      <td>13</td>\n",
       "    </tr>\n",
       "    <tr>\n",
       "      <td>83</td>\n",
       "      <td>23.0</td>\n",
       "      <td>4</td>\n",
       "      <td>115.0</td>\n",
       "      <td>95</td>\n",
       "      <td>2694.0</td>\n",
       "      <td>15</td>\n",
       "    </tr>\n",
       "    <tr>\n",
       "      <td>51</td>\n",
       "      <td>27.2</td>\n",
       "      <td>4</td>\n",
       "      <td>141.0</td>\n",
       "      <td>71</td>\n",
       "      <td>3190.0</td>\n",
       "      <td>25</td>\n",
       "    </tr>\n",
       "  </tbody>\n",
       "</table>\n",
       "</div>"
      ],
      "text/plain": [
       "      mpg  cylinders  cubicinches   hp  weightlbs  time-to-60\n",
       "135  16.0          8        318.0  150     4190.0          13\n",
       "83   23.0          4        115.0   95     2694.0          15\n",
       "51   27.2          4        141.0   71     3190.0          25"
      ]
     },
     "execution_count": 23,
     "metadata": {},
     "output_type": "execute_result"
    }
   ],
   "source": [
    "X = cars[feat_num].copy()  # Datenmatrix X mit unseren Features\n",
    "X.sample(3)"
   ]
  },
  {
   "cell_type": "markdown",
   "metadata": {},
   "source": [
    "Jetzt wenden wir den K-Means Algorithmus an, um die Daten zu clustern.  \n",
    "Bei K-Means muss man die Anzahl der \"vermuteten\" Cluster dem Algorithmus vorgeben:"
   ]
  },
  {
   "cell_type": "code",
   "execution_count": 24,
   "metadata": {
    "jupyter": {
     "source_hidden": true
    }
   },
   "outputs": [],
   "source": [
    "X = cars[feat_num].copy()                  # Datenmatrix X mit unseren Features\n",
    "from sklearn.cluster import KMeans         # Import des Algorithmus\n",
    "# X = StandardScaler().fit_transform(X)    # Standardisiert die Datenmatrix - lassen wir erstmal weg\n",
    "km = KMeans(n_clusters=3).fit(X)           # Wendet k-Means auf X an, mit Vorgabe 3 Cluster"
   ]
  },
  {
   "cell_type": "markdown",
   "metadata": {},
   "source": [
    "Mal sehen wie gut k-Means auf unserem Datenset funktioniert.  \n",
    "In realita würden wir natürlich die \"richtige\" Verteilung nicht kennen ..."
   ]
  },
  {
   "cell_type": "code",
   "execution_count": 25,
   "metadata": {
    "jupyter": {
     "source_hidden": true
    }
   },
   "outputs": [
    {
     "name": "stdout",
     "output_type": "stream",
     "text": [
      "Gruppierung durch k-Means Algo:\n",
      " 1    118\n",
      "2     81\n",
      "0     62\n",
      "dtype: int64\n",
      "\n",
      "Reale Verteilung im Datenset\n",
      " US         160\n",
      "Japan       50\n",
      "Europe      47\n",
      "MISSING      4\n",
      "Name: country, dtype: int64\n"
     ]
    }
   ],
   "source": [
    "print(\"Gruppierung durch k-Means Algo:\\n\", pd.Series(km.labels_).value_counts())\n",
    "print()\n",
    "print(\"Reale Verteilung im Datenset\\n\", cars_target.value_counts())\n",
    "# km.labels_  "
   ]
  },
  {
   "cell_type": "markdown",
   "metadata": {},
   "source": [
    "Wir visualisieren die k-Means Ergebnisse zum besseren Verständnis.  \n",
    "Diese Merkmale stehen uns zur Verfügung:"
   ]
  },
  {
   "cell_type": "code",
   "execution_count": 26,
   "metadata": {
    "jupyter": {
     "source_hidden": true
    }
   },
   "outputs": [
    {
     "data": {
      "text/plain": [
       "[(0, 'mpg'),\n",
       " (1, 'cylinders'),\n",
       " (2, 'cubicinches'),\n",
       " (3, 'hp'),\n",
       " (4, 'weightlbs'),\n",
       " (5, 'time-to-60')]"
      ]
     },
     "execution_count": 26,
     "metadata": {},
     "output_type": "execute_result"
    }
   ],
   "source": [
    "list(enumerate(cars[feat_num].columns))"
   ]
  },
  {
   "cell_type": "code",
   "execution_count": 27,
   "metadata": {
    "jupyter": {
     "source_hidden": true
    }
   },
   "outputs": [
    {
     "data": {
      "image/png": "[encoded data removed]",
      "text/plain": [
       "<Figure size 720x504 with 1 Axes>"
      ]
     },
     "metadata": {
      "needs_background": "light"
     },
     "output_type": "display_data"
    }
   ],
   "source": [
    "# Visualisierung der Zuordnungen\n",
    "figsize(10,7)\n",
    "\n",
    "# Hier können wir die Merkmale für das Plotting auswählen\n",
    "x,y = 0,2         # x = Merkmal X-Achse, y = Merkmal Y-Achse \n",
    "\n",
    "plt.scatter(X.iloc[:,x], X.iloc[:,y], c=km.labels_,  cmap=\"viridis\")\n",
    "plt.scatter(km.cluster_centers_[:,x], km.cluster_centers_[:,y], c='tomato', marker='*', s=300, ) # Scatterplot mit Centroids\n",
    "plt.title(f\"k-Means Clustering mit Feature {cars.columns[x]} & {cars.columns[y]}\", fontsize=15)\n",
    "plt.xlabel(cars.columns[x]); plt.ylabel(cars.columns[y]); plt.show()"
   ]
  },
  {
   "cell_type": "code",
   "execution_count": 28,
   "metadata": {
    "jupyter": {
     "source_hidden": true
    }
   },
   "outputs": [
    {
     "data": {
      "text/html": [
       "<div>\n",
       "<style scoped>\n",
       "    .dataframe tbody tr th:only-of-type {\n",
       "        vertical-align: middle;\n",
       "    }\n",
       "\n",
       "    .dataframe tbody tr th {\n",
       "        vertical-align: top;\n",
       "    }\n",
       "\n",
       "    .dataframe thead th {\n",
       "        text-align: right;\n",
       "    }\n",
       "</style>\n",
       "<table border=\"1\" class=\"dataframe\">\n",
       "  <thead>\n",
       "    <tr style=\"text-align: right;\">\n",
       "      <th></th>\n",
       "      <th>mpg</th>\n",
       "      <th>cylinders</th>\n",
       "      <th>cubicinches</th>\n",
       "      <th>hp</th>\n",
       "      <th>weightlbs</th>\n",
       "      <th>time-to-60</th>\n",
       "      <th>year</th>\n",
       "      <th>country_Europe</th>\n",
       "      <th>country_Japan</th>\n",
       "      <th>country_MISSING</th>\n",
       "      <th>country_US</th>\n",
       "    </tr>\n",
       "  </thead>\n",
       "  <tbody>\n",
       "    <tr>\n",
       "      <td>63</td>\n",
       "      <td>46.6</td>\n",
       "      <td>4</td>\n",
       "      <td>86.0</td>\n",
       "      <td>65</td>\n",
       "      <td>2110.0</td>\n",
       "      <td>18</td>\n",
       "      <td>1981</td>\n",
       "      <td>0</td>\n",
       "      <td>1</td>\n",
       "      <td>0</td>\n",
       "      <td>0</td>\n",
       "    </tr>\n",
       "    <tr>\n",
       "      <td>247</td>\n",
       "      <td>44.3</td>\n",
       "      <td>4</td>\n",
       "      <td>90.0</td>\n",
       "      <td>48</td>\n",
       "      <td>2085.0</td>\n",
       "      <td>22</td>\n",
       "      <td>1981</td>\n",
       "      <td>1</td>\n",
       "      <td>0</td>\n",
       "      <td>0</td>\n",
       "      <td>0</td>\n",
       "    </tr>\n",
       "    <tr>\n",
       "      <td>235</td>\n",
       "      <td>44.0</td>\n",
       "      <td>4</td>\n",
       "      <td>97.0</td>\n",
       "      <td>52</td>\n",
       "      <td>2130.0</td>\n",
       "      <td>25</td>\n",
       "      <td>1983</td>\n",
       "      <td>1</td>\n",
       "      <td>0</td>\n",
       "      <td>0</td>\n",
       "      <td>0</td>\n",
       "    </tr>\n",
       "    <tr>\n",
       "      <td>106</td>\n",
       "      <td>43.4</td>\n",
       "      <td>4</td>\n",
       "      <td>90.0</td>\n",
       "      <td>48</td>\n",
       "      <td>2335.0</td>\n",
       "      <td>24</td>\n",
       "      <td>1981</td>\n",
       "      <td>1</td>\n",
       "      <td>0</td>\n",
       "      <td>0</td>\n",
       "      <td>0</td>\n",
       "    </tr>\n",
       "    <tr>\n",
       "      <td>197</td>\n",
       "      <td>43.1</td>\n",
       "      <td>4</td>\n",
       "      <td>90.0</td>\n",
       "      <td>48</td>\n",
       "      <td>1985.0</td>\n",
       "      <td>22</td>\n",
       "      <td>1979</td>\n",
       "      <td>1</td>\n",
       "      <td>0</td>\n",
       "      <td>0</td>\n",
       "      <td>0</td>\n",
       "    </tr>\n",
       "    <tr>\n",
       "      <td>195</td>\n",
       "      <td>41.5</td>\n",
       "      <td>4</td>\n",
       "      <td>98.0</td>\n",
       "      <td>76</td>\n",
       "      <td>2144.0</td>\n",
       "      <td>15</td>\n",
       "      <td>1981</td>\n",
       "      <td>1</td>\n",
       "      <td>0</td>\n",
       "      <td>0</td>\n",
       "      <td>0</td>\n",
       "    </tr>\n",
       "    <tr>\n",
       "      <td>206</td>\n",
       "      <td>40.8</td>\n",
       "      <td>4</td>\n",
       "      <td>85.0</td>\n",
       "      <td>65</td>\n",
       "      <td>2110.0</td>\n",
       "      <td>19</td>\n",
       "      <td>1981</td>\n",
       "      <td>0</td>\n",
       "      <td>1</td>\n",
       "      <td>0</td>\n",
       "      <td>0</td>\n",
       "    </tr>\n",
       "    <tr>\n",
       "      <td>212</td>\n",
       "      <td>39.1</td>\n",
       "      <td>4</td>\n",
       "      <td>79.0</td>\n",
       "      <td>58</td>\n",
       "      <td>1755.0</td>\n",
       "      <td>17</td>\n",
       "      <td>1982</td>\n",
       "      <td>0</td>\n",
       "      <td>1</td>\n",
       "      <td>0</td>\n",
       "      <td>0</td>\n",
       "    </tr>\n",
       "    <tr>\n",
       "      <td>238</td>\n",
       "      <td>39.0</td>\n",
       "      <td>4</td>\n",
       "      <td>86.0</td>\n",
       "      <td>64</td>\n",
       "      <td>1875.0</td>\n",
       "      <td>16</td>\n",
       "      <td>1982</td>\n",
       "      <td>0</td>\n",
       "      <td>0</td>\n",
       "      <td>0</td>\n",
       "      <td>1</td>\n",
       "    </tr>\n",
       "    <tr>\n",
       "      <td>24</td>\n",
       "      <td>38.1</td>\n",
       "      <td>4</td>\n",
       "      <td>89.0</td>\n",
       "      <td>60</td>\n",
       "      <td>1968.0</td>\n",
       "      <td>19</td>\n",
       "      <td>1981</td>\n",
       "      <td>0</td>\n",
       "      <td>1</td>\n",
       "      <td>0</td>\n",
       "      <td>0</td>\n",
       "    </tr>\n",
       "  </tbody>\n",
       "</table>\n",
       "</div>"
      ],
      "text/plain": [
       "      mpg  cylinders  cubicinches  hp  weightlbs  time-to-60  year  \\\n",
       "63   46.6          4         86.0  65     2110.0          18  1981   \n",
       "247  44.3          4         90.0  48     2085.0          22  1981   \n",
       "235  44.0          4         97.0  52     2130.0          25  1983   \n",
       "106  43.4          4         90.0  48     2335.0          24  1981   \n",
       "197  43.1          4         90.0  48     1985.0          22  1979   \n",
       "195  41.5          4         98.0  76     2144.0          15  1981   \n",
       "206  40.8          4         85.0  65     2110.0          19  1981   \n",
       "212  39.1          4         79.0  58     1755.0          17  1982   \n",
       "238  39.0          4         86.0  64     1875.0          16  1982   \n",
       "24   38.1          4         89.0  60     1968.0          19  1981   \n",
       "\n",
       "     country_Europe  country_Japan  country_MISSING  country_US  \n",
       "63                0              1                0           0  \n",
       "247               1              0                0           0  \n",
       "235               1              0                0           0  \n",
       "106               1              0                0           0  \n",
       "197               1              0                0           0  \n",
       "195               1              0                0           0  \n",
       "206               0              1                0           0  \n",
       "212               0              1                0           0  \n",
       "238               0              0                0           1  \n",
       "24                0              1                0           0  "
      ]
     },
     "execution_count": 28,
     "metadata": {},
     "output_type": "execute_result"
    }
   ],
   "source": [
    "cars[cars.mpg>35].sort_values(\"mpg\", ascending=False)[:10]"
   ]
  },
  {
   "cell_type": "markdown",
   "metadata": {},
   "source": [
    "Wenn wir mit der Qualität unseres Modells zufrieden wären (ohne Kenntnis der Echtdaten schwierig!).  \n",
    "Könnten wir es nun verwenden, um weitere NEUE Datensätze zu beurteilen:"
   ]
  },
  {
   "cell_type": "code",
   "execution_count": 29,
   "metadata": {
    "jupyter": {
     "source_hidden": true
    }
   },
   "outputs": [
    {
     "data": {
      "text/plain": [
       "array([1, 0, 1, 2, 1, 1])"
      ]
     },
     "execution_count": 29,
     "metadata": {},
     "output_type": "execute_result"
    }
   ],
   "source": [
    "pkw_new = [\n",
    "    [31.4,4,85,65,2500,19,],\n",
    "    [16,8,304,150,4200,12,],\n",
    "    [24,4,113,95,2000,16,],\n",
    "    [24,4,107,90,2750,15,],\n",
    "    [37.2,4,86,65,2019,16,],\n",
    "    [21.5,4,121,110,2600,13,]] \n",
    "\n",
    "# Wenn wir auf normalisierten Daten trainiert haben, müssen wir die Daten jetzt auch normalisieren:\n",
    "# pkw_new = scaler.transform(pkw_new)\n",
    "\n",
    "km.predict(pkw_new)"
   ]
  },
  {
   "cell_type": "markdown",
   "metadata": {
    "toc-hr-collapsed": true
   },
   "source": []
  },
  {
   "cell_type": "markdown",
   "metadata": {
    "toc-hr-collapsed": false
   },
   "source": [
    "***\n",
    "## 4. Supervised Learning: Regression\n",
    "Reminder: Supervised Learning, d.h. Modelle werden **immer anhand der vorhandenen Lerninformation (Target Variable)** trainiert."
   ]
  },
  {
   "cell_type": "markdown",
   "metadata": {
    "toc-hr-collapsed": false
   },
   "source": [
    "### 4.1 Datenset: BMW-PRICING CHALLENGE\n",
    "\n",
    "Dafür bearbeiten wir jetzt ein praxisnäheres Beispiel: Das BMW-Pricing Challenge Datenset auf der Plattform KAGGLE  \n",
    "\n",
    "https://www.kaggle.com/danielkyrka/bmw-pricing-challenge \n",
    "\n",
    "Die Autoren dieses Datensets schreiben dazu:\n",
    "\n",
    "* With this challenge we hope to [...] gain some insight in what the main factors are that drive the value of a used car.  \n",
    "* The data provided consists of almost 5000 real BMW cars that were sold via a b2b auction in 2018.\n",
    "* The price shown in the table is the highest bid that was reached during the auction.\n",
    "* We have also extracted 8 criteria based on the equipment of car that we think might have a good impact on the value of a used car.\n",
    "* These criteria have been labeled feature1 to feature 8 and are shown in the data below."
   ]
  },
  {
   "cell_type": "code",
   "execution_count": 30,
   "metadata": {
    "jupyter": {
     "source_hidden": true
    }
   },
   "outputs": [
    {
     "data": {
      "text/html": [
       "<div>\n",
       "<style scoped>\n",
       "    .dataframe tbody tr th:only-of-type {\n",
       "        vertical-align: middle;\n",
       "    }\n",
       "\n",
       "    .dataframe tbody tr th {\n",
       "        vertical-align: top;\n",
       "    }\n",
       "\n",
       "    .dataframe thead th {\n",
       "        text-align: right;\n",
       "    }\n",
       "</style>\n",
       "<table border=\"1\" class=\"dataframe\">\n",
       "  <thead>\n",
       "    <tr style=\"text-align: right;\">\n",
       "      <th></th>\n",
       "      <th>maker_key</th>\n",
       "      <th>model_key</th>\n",
       "      <th>mileage</th>\n",
       "      <th>engine_power</th>\n",
       "      <th>registration_date</th>\n",
       "      <th>fuel</th>\n",
       "      <th>paint_color</th>\n",
       "      <th>car_type</th>\n",
       "      <th>feature_1</th>\n",
       "      <th>feature_2</th>\n",
       "      <th>feature_3</th>\n",
       "      <th>feature_4</th>\n",
       "      <th>feature_5</th>\n",
       "      <th>feature_6</th>\n",
       "      <th>feature_7</th>\n",
       "      <th>feature_8</th>\n",
       "      <th>price</th>\n",
       "      <th>sold_at</th>\n",
       "    </tr>\n",
       "  </thead>\n",
       "  <tbody>\n",
       "    <tr>\n",
       "      <td>2190</td>\n",
       "      <td>BMW</td>\n",
       "      <td>116</td>\n",
       "      <td>85173</td>\n",
       "      <td>85</td>\n",
       "      <td>2012-09-01</td>\n",
       "      <td>diesel</td>\n",
       "      <td>blue</td>\n",
       "      <td>hatchback</td>\n",
       "      <td>True</td>\n",
       "      <td>True</td>\n",
       "      <td>True</td>\n",
       "      <td>False</td>\n",
       "      <td>False</td>\n",
       "      <td>False</td>\n",
       "      <td>True</td>\n",
       "      <td>False</td>\n",
       "      <td>11100</td>\n",
       "      <td>2018-05-01</td>\n",
       "    </tr>\n",
       "    <tr>\n",
       "      <td>2202</td>\n",
       "      <td>BMW</td>\n",
       "      <td>318 Gran Turismo</td>\n",
       "      <td>176050</td>\n",
       "      <td>100</td>\n",
       "      <td>2014-02-01</td>\n",
       "      <td>diesel</td>\n",
       "      <td>black</td>\n",
       "      <td>hatchback</td>\n",
       "      <td>False</td>\n",
       "      <td>True</td>\n",
       "      <td>False</td>\n",
       "      <td>False</td>\n",
       "      <td>False</td>\n",
       "      <td>True</td>\n",
       "      <td>True</td>\n",
       "      <td>True</td>\n",
       "      <td>15900</td>\n",
       "      <td>2018-05-01</td>\n",
       "    </tr>\n",
       "    <tr>\n",
       "      <td>3401</td>\n",
       "      <td>BMW</td>\n",
       "      <td>320</td>\n",
       "      <td>178308</td>\n",
       "      <td>120</td>\n",
       "      <td>2013-01-01</td>\n",
       "      <td>diesel</td>\n",
       "      <td>blue</td>\n",
       "      <td>sedan</td>\n",
       "      <td>False</td>\n",
       "      <td>True</td>\n",
       "      <td>False</td>\n",
       "      <td>False</td>\n",
       "      <td>True</td>\n",
       "      <td>False</td>\n",
       "      <td>True</td>\n",
       "      <td>False</td>\n",
       "      <td>12400</td>\n",
       "      <td>2018-07-01</td>\n",
       "    </tr>\n",
       "  </tbody>\n",
       "</table>\n",
       "</div>"
      ],
      "text/plain": [
       "     maker_key         model_key  mileage  engine_power registration_date  \\\n",
       "2190       BMW               116    85173            85        2012-09-01   \n",
       "2202       BMW  318 Gran Turismo   176050           100        2014-02-01   \n",
       "3401       BMW               320   178308           120        2013-01-01   \n",
       "\n",
       "        fuel paint_color   car_type  feature_1  feature_2  feature_3  \\\n",
       "2190  diesel        blue  hatchback       True       True       True   \n",
       "2202  diesel       black  hatchback      False       True      False   \n",
       "3401  diesel        blue      sedan      False       True      False   \n",
       "\n",
       "      feature_4  feature_5  feature_6  feature_7  feature_8  price     sold_at  \n",
       "2190      False      False      False       True      False  11100  2018-05-01  \n",
       "2202      False      False       True       True       True  15900  2018-05-01  \n",
       "3401      False       True      False       True      False  12400  2018-07-01  "
      ]
     },
     "execution_count": 30,
     "metadata": {},
     "output_type": "execute_result"
    }
   ],
   "source": [
    "# Zunächst laden wir die Rohdaten wieder aus unserem Verzeichnis\n",
    "bmw = pd.read_csv(\"bmw_pricing_challenge.csv\")\n",
    "bmw.sample(3)"
   ]
  },
  {
   "cell_type": "code",
   "execution_count": 31,
   "metadata": {
    "jupyter": {
     "source_hidden": true
    }
   },
   "outputs": [
    {
     "name": "stdout",
     "output_type": "stream",
     "text": [
      "<class 'pandas.core.frame.DataFrame'>\n",
      "RangeIndex: 4843 entries, 0 to 4842\n",
      "Data columns (total 18 columns):\n",
      "maker_key            4843 non-null object\n",
      "model_key            4843 non-null object\n",
      "mileage              4843 non-null int64\n",
      "engine_power         4843 non-null int64\n",
      "registration_date    4843 non-null object\n",
      "fuel                 4843 non-null object\n",
      "paint_color          4843 non-null object\n",
      "car_type             4843 non-null object\n",
      "feature_1            4843 non-null bool\n",
      "feature_2            4843 non-null bool\n",
      "feature_3            4843 non-null bool\n",
      "feature_4            4843 non-null bool\n",
      "feature_5            4843 non-null bool\n",
      "feature_6            4843 non-null bool\n",
      "feature_7            4843 non-null bool\n",
      "feature_8            4843 non-null bool\n",
      "price                4843 non-null int64\n",
      "sold_at              4843 non-null object\n",
      "dtypes: bool(8), int64(3), object(7)\n",
      "memory usage: 416.3+ KB\n"
     ]
    }
   ],
   "source": [
    "bmw.info()"
   ]
  },
  {
   "cell_type": "markdown",
   "metadata": {},
   "source": [
    "*Summary:*\n",
    "* Keine NA Werte\n",
    "* 5 Kategorielle Merkmale (Datentyp: \"Object\")\n",
    "* 3 Numerische Merkmale (Ganzzahlig: Datentyp \"Integer\")\n",
    "* 2 Merkmale mit Datumsinformationen (im \"falschen\" Datenformat \"Object\")\n",
    "* 8 \"anonyme\" Merkmale mit Datentyp Bool (\"True\" vs. \"False\")\n",
    "\n",
    "Zunächst bearbeiten wir die Datums-Informationen und \"bauen\" daraus weitere Feature:"
   ]
  },
  {
   "cell_type": "code",
   "execution_count": 32,
   "metadata": {
    "jupyter": {
     "source_hidden": true
    }
   },
   "outputs": [],
   "source": [
    "# Die beiden Datums-Merkmale 'sold_at' und 'registration_date' sollten wir besser in ein Datetime-Format konvertieren\n",
    "bmw.registration_date = pd.to_datetime(bmw.registration_date)\n",
    "bmw.sold_at = pd.to_datetime(bmw.sold_at)"
   ]
  },
  {
   "cell_type": "markdown",
   "metadata": {},
   "source": [
    "Jetzt können wir das \"Alter\" der Fahrzeuge i.S. der Differenz als zusätzliches Feature einbauen.  \n",
    "Da alle Auktionen aus dem Jahr 2018 sind, spielt das Verkaufsjahr keine Rolle, aber vielleicht der Monat der Auktion?"
   ]
  },
  {
   "cell_type": "code",
   "execution_count": 33,
   "metadata": {
    "jupyter": {
     "source_hidden": true
    }
   },
   "outputs": [],
   "source": [
    "# Neue Datums-Features ableiten\n",
    "bmw[\"period\"] = bmw.sold_at - bmw.registration_date   # erstellt Spalte mit Differenz in Tagen\n",
    "bmw[\"period\"] = bmw.period.dt.days                    # normiert die Differenz in Tageseinheiten\n",
    "bmw[\"Sell_Month\"] = bmw.sold_at.dt.month              # Der Monat, in dem die Auktion stattfand\n"
   ]
  },
  {
   "cell_type": "code",
   "execution_count": 34,
   "metadata": {
    "jupyter": {
     "source_hidden": true
    }
   },
   "outputs": [
    {
     "data": {
      "text/html": [
       "<div>\n",
       "<style scoped>\n",
       "    .dataframe tbody tr th:only-of-type {\n",
       "        vertical-align: middle;\n",
       "    }\n",
       "\n",
       "    .dataframe tbody tr th {\n",
       "        vertical-align: top;\n",
       "    }\n",
       "\n",
       "    .dataframe thead th {\n",
       "        text-align: right;\n",
       "    }\n",
       "</style>\n",
       "<table border=\"1\" class=\"dataframe\">\n",
       "  <thead>\n",
       "    <tr style=\"text-align: right;\">\n",
       "      <th></th>\n",
       "      <th>maker_key</th>\n",
       "      <th>model_key</th>\n",
       "      <th>mileage</th>\n",
       "      <th>engine_power</th>\n",
       "      <th>registration_date</th>\n",
       "      <th>fuel</th>\n",
       "      <th>paint_color</th>\n",
       "      <th>car_type</th>\n",
       "      <th>feature_1</th>\n",
       "      <th>feature_2</th>\n",
       "      <th>feature_3</th>\n",
       "      <th>feature_4</th>\n",
       "      <th>feature_5</th>\n",
       "      <th>feature_6</th>\n",
       "      <th>feature_7</th>\n",
       "      <th>feature_8</th>\n",
       "      <th>price</th>\n",
       "      <th>sold_at</th>\n",
       "      <th>period</th>\n",
       "      <th>Sell_Month</th>\n",
       "    </tr>\n",
       "  </thead>\n",
       "  <tbody>\n",
       "    <tr>\n",
       "      <td>0</td>\n",
       "      <td>BMW</td>\n",
       "      <td>118</td>\n",
       "      <td>140411</td>\n",
       "      <td>100</td>\n",
       "      <td>2012-02-01</td>\n",
       "      <td>diesel</td>\n",
       "      <td>black</td>\n",
       "      <td>convertible</td>\n",
       "      <td>True</td>\n",
       "      <td>True</td>\n",
       "      <td>False</td>\n",
       "      <td>False</td>\n",
       "      <td>True</td>\n",
       "      <td>True</td>\n",
       "      <td>True</td>\n",
       "      <td>False</td>\n",
       "      <td>11300</td>\n",
       "      <td>2018-01-01</td>\n",
       "      <td>2161</td>\n",
       "      <td>1</td>\n",
       "    </tr>\n",
       "    <tr>\n",
       "      <td>1</td>\n",
       "      <td>BMW</td>\n",
       "      <td>M4</td>\n",
       "      <td>13929</td>\n",
       "      <td>317</td>\n",
       "      <td>2016-04-01</td>\n",
       "      <td>petrol</td>\n",
       "      <td>grey</td>\n",
       "      <td>convertible</td>\n",
       "      <td>True</td>\n",
       "      <td>True</td>\n",
       "      <td>False</td>\n",
       "      <td>False</td>\n",
       "      <td>False</td>\n",
       "      <td>True</td>\n",
       "      <td>True</td>\n",
       "      <td>True</td>\n",
       "      <td>69700</td>\n",
       "      <td>2018-02-01</td>\n",
       "      <td>671</td>\n",
       "      <td>2</td>\n",
       "    </tr>\n",
       "    <tr>\n",
       "      <td>2</td>\n",
       "      <td>BMW</td>\n",
       "      <td>320</td>\n",
       "      <td>183297</td>\n",
       "      <td>120</td>\n",
       "      <td>2012-04-01</td>\n",
       "      <td>diesel</td>\n",
       "      <td>white</td>\n",
       "      <td>convertible</td>\n",
       "      <td>False</td>\n",
       "      <td>False</td>\n",
       "      <td>False</td>\n",
       "      <td>False</td>\n",
       "      <td>True</td>\n",
       "      <td>False</td>\n",
       "      <td>True</td>\n",
       "      <td>False</td>\n",
       "      <td>10200</td>\n",
       "      <td>2018-02-01</td>\n",
       "      <td>2132</td>\n",
       "      <td>2</td>\n",
       "    </tr>\n",
       "    <tr>\n",
       "      <td>3</td>\n",
       "      <td>BMW</td>\n",
       "      <td>420</td>\n",
       "      <td>128035</td>\n",
       "      <td>135</td>\n",
       "      <td>2014-07-01</td>\n",
       "      <td>diesel</td>\n",
       "      <td>red</td>\n",
       "      <td>convertible</td>\n",
       "      <td>True</td>\n",
       "      <td>True</td>\n",
       "      <td>False</td>\n",
       "      <td>False</td>\n",
       "      <td>True</td>\n",
       "      <td>True</td>\n",
       "      <td>True</td>\n",
       "      <td>True</td>\n",
       "      <td>25100</td>\n",
       "      <td>2018-02-01</td>\n",
       "      <td>1311</td>\n",
       "      <td>2</td>\n",
       "    </tr>\n",
       "    <tr>\n",
       "      <td>4</td>\n",
       "      <td>BMW</td>\n",
       "      <td>425</td>\n",
       "      <td>97097</td>\n",
       "      <td>160</td>\n",
       "      <td>2014-12-01</td>\n",
       "      <td>diesel</td>\n",
       "      <td>silver</td>\n",
       "      <td>convertible</td>\n",
       "      <td>True</td>\n",
       "      <td>True</td>\n",
       "      <td>False</td>\n",
       "      <td>False</td>\n",
       "      <td>False</td>\n",
       "      <td>True</td>\n",
       "      <td>True</td>\n",
       "      <td>True</td>\n",
       "      <td>33400</td>\n",
       "      <td>2018-04-01</td>\n",
       "      <td>1217</td>\n",
       "      <td>4</td>\n",
       "    </tr>\n",
       "  </tbody>\n",
       "</table>\n",
       "</div>"
      ],
      "text/plain": [
       "  maker_key model_key  mileage  engine_power registration_date    fuel  \\\n",
       "0       BMW       118   140411           100        2012-02-01  diesel   \n",
       "1       BMW        M4    13929           317        2016-04-01  petrol   \n",
       "2       BMW       320   183297           120        2012-04-01  diesel   \n",
       "3       BMW       420   128035           135        2014-07-01  diesel   \n",
       "4       BMW       425    97097           160        2014-12-01  diesel   \n",
       "\n",
       "  paint_color     car_type  feature_1  feature_2  feature_3  feature_4  \\\n",
       "0       black  convertible       True       True      False      False   \n",
       "1        grey  convertible       True       True      False      False   \n",
       "2       white  convertible      False      False      False      False   \n",
       "3         red  convertible       True       True      False      False   \n",
       "4      silver  convertible       True       True      False      False   \n",
       "\n",
       "   feature_5  feature_6  feature_7  feature_8  price    sold_at  period  \\\n",
       "0       True       True       True      False  11300 2018-01-01    2161   \n",
       "1      False       True       True       True  69700 2018-02-01     671   \n",
       "2       True      False       True      False  10200 2018-02-01    2132   \n",
       "3       True       True       True       True  25100 2018-02-01    1311   \n",
       "4      False       True       True       True  33400 2018-04-01    1217   \n",
       "\n",
       "   Sell_Month  \n",
       "0           1  \n",
       "1           2  \n",
       "2           2  \n",
       "3           2  \n",
       "4           4  "
      ]
     },
     "execution_count": 34,
     "metadata": {},
     "output_type": "execute_result"
    }
   ],
   "source": [
    "bmw.head()"
   ]
  },
  {
   "cell_type": "code",
   "execution_count": 35,
   "metadata": {
    "jupyter": {
     "source_hidden": true
    }
   },
   "outputs": [
    {
     "data": {
      "text/html": [
       "<div>\n",
       "<style scoped>\n",
       "    .dataframe tbody tr th:only-of-type {\n",
       "        vertical-align: middle;\n",
       "    }\n",
       "\n",
       "    .dataframe tbody tr th {\n",
       "        vertical-align: top;\n",
       "    }\n",
       "\n",
       "    .dataframe thead th {\n",
       "        text-align: right;\n",
       "    }\n",
       "</style>\n",
       "<table border=\"1\" class=\"dataframe\">\n",
       "  <thead>\n",
       "    <tr style=\"text-align: right;\">\n",
       "      <th></th>\n",
       "      <th>count</th>\n",
       "      <th>mean</th>\n",
       "      <th>std</th>\n",
       "      <th>min</th>\n",
       "      <th>25%</th>\n",
       "      <th>50%</th>\n",
       "      <th>75%</th>\n",
       "      <th>max</th>\n",
       "    </tr>\n",
       "  </thead>\n",
       "  <tbody>\n",
       "    <tr>\n",
       "      <td>mileage</td>\n",
       "      <td>4843.0</td>\n",
       "      <td>140962.799504</td>\n",
       "      <td>60196.740703</td>\n",
       "      <td>-64.0</td>\n",
       "      <td>102913.5</td>\n",
       "      <td>141080.0</td>\n",
       "      <td>175195.5</td>\n",
       "      <td>1000376.0</td>\n",
       "    </tr>\n",
       "    <tr>\n",
       "      <td>engine_power</td>\n",
       "      <td>4843.0</td>\n",
       "      <td>128.988230</td>\n",
       "      <td>38.993360</td>\n",
       "      <td>0.0</td>\n",
       "      <td>100.0</td>\n",
       "      <td>120.0</td>\n",
       "      <td>135.0</td>\n",
       "      <td>423.0</td>\n",
       "    </tr>\n",
       "    <tr>\n",
       "      <td>price</td>\n",
       "      <td>4843.0</td>\n",
       "      <td>15828.081767</td>\n",
       "      <td>9220.285684</td>\n",
       "      <td>100.0</td>\n",
       "      <td>10800.0</td>\n",
       "      <td>14200.0</td>\n",
       "      <td>18600.0</td>\n",
       "      <td>178500.0</td>\n",
       "    </tr>\n",
       "    <tr>\n",
       "      <td>period</td>\n",
       "      <td>4843.0</td>\n",
       "      <td>1983.724551</td>\n",
       "      <td>927.278443</td>\n",
       "      <td>215.0</td>\n",
       "      <td>1489.0</td>\n",
       "      <td>1765.0</td>\n",
       "      <td>2130.0</td>\n",
       "      <td>10258.0</td>\n",
       "    </tr>\n",
       "    <tr>\n",
       "      <td>Sell_Month</td>\n",
       "      <td>4843.0</td>\n",
       "      <td>4.926698</td>\n",
       "      <td>2.157615</td>\n",
       "      <td>1.0</td>\n",
       "      <td>3.0</td>\n",
       "      <td>5.0</td>\n",
       "      <td>7.0</td>\n",
       "      <td>9.0</td>\n",
       "    </tr>\n",
       "  </tbody>\n",
       "</table>\n",
       "</div>"
      ],
      "text/plain": [
       "               count           mean           std    min       25%       50%  \\\n",
       "mileage       4843.0  140962.799504  60196.740703  -64.0  102913.5  141080.0   \n",
       "engine_power  4843.0     128.988230     38.993360    0.0     100.0     120.0   \n",
       "price         4843.0   15828.081767   9220.285684  100.0   10800.0   14200.0   \n",
       "period        4843.0    1983.724551    927.278443  215.0    1489.0    1765.0   \n",
       "Sell_Month    4843.0       4.926698      2.157615    1.0       3.0       5.0   \n",
       "\n",
       "                   75%        max  \n",
       "mileage       175195.5  1000376.0  \n",
       "engine_power     135.0      423.0  \n",
       "price          18600.0   178500.0  \n",
       "period          2130.0    10258.0  \n",
       "Sell_Month         7.0        9.0  "
      ]
     },
     "execution_count": 35,
     "metadata": {},
     "output_type": "execute_result"
    }
   ],
   "source": [
    "# Noch ein kurzer Blick auf die Verteilung der numerischen Variablen ...\n",
    "bmw.describe().T"
   ]
  },
  {
   "cell_type": "markdown",
   "metadata": {},
   "source": [
    "Schauen wir uns noch kurz die Verteilung des Fahrzeugalters an:"
   ]
  },
  {
   "cell_type": "code",
   "execution_count": 36,
   "metadata": {
    "jupyter": {
     "source_hidden": true
    }
   },
   "outputs": [
    {
     "data": {
      "image/png": "[encoded data removed]",
      "text/plain": [
       "<Figure size 576x360 with 1 Axes>"
      ]
     },
     "metadata": {
      "needs_background": "light"
     },
     "output_type": "display_data"
    }
   ],
   "source": [
    "# Verteilung des Fahrzeugalters (in Jahren) im Datenset:\n",
    "_= (bmw.period/365).hist(bins=70, figsize=(8,5))"
   ]
  },
  {
   "cell_type": "markdown",
   "metadata": {},
   "source": [
    "Betrachten wir die kategoriellen Features noch etwas genauer: "
   ]
  },
  {
   "cell_type": "code",
   "execution_count": 37,
   "metadata": {
    "jupyter": {
     "source_hidden": true
    }
   },
   "outputs": [
    {
     "name": "stdout",
     "output_type": "stream",
     "text": [
      "\n",
      "Merkmal model_key, Anzahl der Ausprägungen 75:\n",
      "\n",
      "320                  752\n",
      "520                  633\n",
      "318                  569\n",
      "X3                   438\n",
      "116                  358\n",
      "                    ... \n",
      "214 Gran Tourer        1\n",
      "225                    1\n",
      "220 Active Tourer      1\n",
      "M5                     1\n",
      "225 Active Tourer      1\n",
      "Name: model_key, Length: 75, dtype: int64\n",
      "--------------------------------------------------------------------------------\n",
      "\n",
      "Merkmal fuel, Anzahl der Ausprägungen 4:\n",
      "\n",
      "diesel           4641\n",
      "petrol            191\n",
      "hybrid_petrol       8\n",
      "electro             3\n",
      "Name: fuel, dtype: int64\n",
      "--------------------------------------------------------------------------------\n",
      "\n",
      "Merkmal paint_color, Anzahl der Ausprägungen 10:\n",
      "\n",
      "black     1633\n",
      "grey      1175\n",
      "blue       710\n",
      "white      538\n",
      "brown      341\n",
      "silver     329\n",
      "red         52\n",
      "beige       41\n",
      "green       18\n",
      "orange       6\n",
      "Name: paint_color, dtype: int64\n",
      "--------------------------------------------------------------------------------\n",
      "\n",
      "Merkmal car_type, Anzahl der Ausprägungen 8:\n",
      "\n",
      "estate         1606\n",
      "sedan          1168\n",
      "suv            1058\n",
      "hatchback       699\n",
      "subcompact      117\n",
      "coupe           104\n",
      "convertible      47\n",
      "van              44\n",
      "Name: car_type, dtype: int64\n",
      "--------------------------------------------------------------------------------\n"
     ]
    }
   ],
   "source": [
    "for i in [\"model_key\", \"fuel\", \"paint_color\", \"car_type\"]:\n",
    "    print()\n",
    "    print(f\"Merkmal {i}, Anzahl der Ausprägungen {bmw[i].nunique()}:\\n\")\n",
    "    print(bmw[i].value_counts())\n",
    "    print(\"-\"*80)"
   ]
  },
  {
   "cell_type": "markdown",
   "metadata": {},
   "source": [
    "Insbesondere bei den Modellvarianten (Feature 'model_key') gibt es sehr viele Ausprägungen.   \n",
    "Lässt sich das \"vereinfachen\"?"
   ]
  },
  {
   "cell_type": "code",
   "execution_count": 38,
   "metadata": {},
   "outputs": [
    {
     "data": {
      "image/png": "[encoded data removed]",
      "text/plain": [
       "<Figure size 576x432 with 1 Axes>"
      ]
     },
     "metadata": {
      "needs_background": "light"
     },
     "output_type": "display_data"
    }
   ],
   "source": [
    "figsize(8,6)\n",
    "titel = f\"Anteil der 20 häufigst vertretenen Modelle: {bmw.model_key.value_counts(normalize=True)[:20].sum().round(2)}\"\n",
    "_= bmw.model_key.value_counts(normalize=True)[:20].apply(lambda x: x*100).round(2).sort_values(ascending=True).plot(kind=\"barh\", fontsize=12, title=titel)\n",
    "plt.xlabel(\"%\"); plt.show()"
   ]
  },
  {
   "cell_type": "markdown",
   "metadata": {},
   "source": [
    "Wir beschränken unser Modell auf diese 20 am häufigsten vorkommenden Modellreihen.  \n",
    "Dafür erstellen wir ein zweites Datenset \"bmwSmall\" in dem nur noch diese Fahrzeugreihen enthalten sind."
   ]
  },
  {
   "cell_type": "code",
   "execution_count": 39,
   "metadata": {
    "jupyter": {
     "source_hidden": true
    }
   },
   "outputs": [
    {
     "name": "stdout",
     "output_type": "stream",
     "text": [
      "(4460, 20)\n"
     ]
    },
    {
     "data": {
      "text/plain": [
       "320                 752\n",
       "520                 633\n",
       "318                 569\n",
       "X3                  438\n",
       "116                 358\n",
       "X1                  275\n",
       "316                 235\n",
       "X5                  231\n",
       "525                 184\n",
       "530                 157\n",
       "118                 143\n",
       "318 Gran Turismo     97\n",
       "320 Gran Turismo     73\n",
       "518                  66\n",
       "X4                   46\n",
       "535                  46\n",
       "X6                   44\n",
       "420                  44\n",
       "120                  36\n",
       "420 Gran Coupé       33\n",
       "Name: model_key, dtype: int64"
      ]
     },
     "execution_count": 39,
     "metadata": {},
     "output_type": "execute_result"
    }
   ],
   "source": [
    "t20_models = bmw.model_key.value_counts()[:20].index.to_list()  # Auslesen der T20 Modellbezeichnungen\n",
    "bmwSmall = bmw.loc[bmw.model_key.isin(t20_models),:].copy()     # Neuer DataFrame bmwSmall mit Filterung auf die T20 Modelle\n",
    "print(bmwSmall.shape)                                           # Umfang des neuen DataFrame\n",
    "bmwSmall.model_key.value_counts()                               # In bmwSmall sind nur noch die T20 Modelle"
   ]
  },
  {
   "cell_type": "markdown",
   "metadata": {},
   "source": [
    "Und schauen uns die Verteilung der erzielten Auktionspreise je nach Modell an:"
   ]
  },
  {
   "cell_type": "code",
   "execution_count": 40,
   "metadata": {
    "jupyter": {
     "source_hidden": true
    }
   },
   "outputs": [
    {
     "data": {
      "text/plain": [
       "Index(['maker_key', 'model_key', 'mileage', 'engine_power',\n",
       "       'registration_date', 'fuel', 'paint_color', 'car_type', 'feature_1',\n",
       "       'feature_2', 'feature_3', 'feature_4', 'feature_5', 'feature_6',\n",
       "       'feature_7', 'feature_8', 'price', 'sold_at', 'period', 'Sell_Month'],\n",
       "      dtype='object')"
      ]
     },
     "execution_count": 40,
     "metadata": {},
     "output_type": "execute_result"
    }
   ],
   "source": [
    "bmwSmall.columns"
   ]
  },
  {
   "cell_type": "code",
   "execution_count": 41,
   "metadata": {
    "jupyter": {
     "source_hidden": true
    }
   },
   "outputs": [
    {
     "data": {
      "image/png": "[encoded data removed]",
      "text/plain": [
       "<Figure size 1080x720 with 1 Axes>"
      ]
     },
     "metadata": {
      "needs_background": "light"
     },
     "output_type": "display_data"
    }
   ],
   "source": [
    "figsize(15,10)\n",
    "x,y = bmwSmall.model_key, bmwSmall.price\n",
    "_= sns.boxplot(x, y, data=bmwSmall, color=\"tomato\") # violinplot\n",
    "plt.title(\"Verteilung der Fahrzeugpreise nach Modellreihen\")\n",
    "plt.xticks(fontsize=14, rotation=80); plt.xlabel(\"Modellreihe\"), plt.ylabel(\"Preis\"); plt.ylim(0,70_000); plt.show()"
   ]
  },
  {
   "cell_type": "code",
   "execution_count": 42,
   "metadata": {
    "jupyter": {
     "source_hidden": true
    }
   },
   "outputs": [
    {
     "data": {
      "text/html": [
       "<div>\n",
       "<style scoped>\n",
       "    .dataframe tbody tr th:only-of-type {\n",
       "        vertical-align: middle;\n",
       "    }\n",
       "\n",
       "    .dataframe tbody tr th {\n",
       "        vertical-align: top;\n",
       "    }\n",
       "\n",
       "    .dataframe thead th {\n",
       "        text-align: right;\n",
       "    }\n",
       "</style>\n",
       "<table border=\"1\" class=\"dataframe\">\n",
       "  <thead>\n",
       "    <tr style=\"text-align: right;\">\n",
       "      <th></th>\n",
       "      <th>count</th>\n",
       "      <th>mean</th>\n",
       "      <th>std</th>\n",
       "      <th>min</th>\n",
       "      <th>25%</th>\n",
       "      <th>50%</th>\n",
       "      <th>75%</th>\n",
       "      <th>max</th>\n",
       "    </tr>\n",
       "    <tr>\n",
       "      <th>model_key</th>\n",
       "      <th></th>\n",
       "      <th></th>\n",
       "      <th></th>\n",
       "      <th></th>\n",
       "      <th></th>\n",
       "      <th></th>\n",
       "      <th></th>\n",
       "      <th></th>\n",
       "    </tr>\n",
       "  </thead>\n",
       "  <tbody>\n",
       "    <tr>\n",
       "      <td>116</td>\n",
       "      <td>358.0</td>\n",
       "      <td>9653.910615</td>\n",
       "      <td>2754.608832</td>\n",
       "      <td>100.0</td>\n",
       "      <td>8525.0</td>\n",
       "      <td>9500.0</td>\n",
       "      <td>10800.0</td>\n",
       "      <td>21700.0</td>\n",
       "    </tr>\n",
       "    <tr>\n",
       "      <td>118</td>\n",
       "      <td>143.0</td>\n",
       "      <td>9647.552448</td>\n",
       "      <td>4291.866401</td>\n",
       "      <td>800.0</td>\n",
       "      <td>5050.0</td>\n",
       "      <td>10100.0</td>\n",
       "      <td>13000.0</td>\n",
       "      <td>24400.0</td>\n",
       "    </tr>\n",
       "    <tr>\n",
       "      <td>120</td>\n",
       "      <td>36.0</td>\n",
       "      <td>12416.666667</td>\n",
       "      <td>4370.125856</td>\n",
       "      <td>5400.0</td>\n",
       "      <td>8975.0</td>\n",
       "      <td>13050.0</td>\n",
       "      <td>14950.0</td>\n",
       "      <td>23000.0</td>\n",
       "    </tr>\n",
       "    <tr>\n",
       "      <td>316</td>\n",
       "      <td>235.0</td>\n",
       "      <td>10381.702128</td>\n",
       "      <td>3087.409862</td>\n",
       "      <td>400.0</td>\n",
       "      <td>9500.0</td>\n",
       "      <td>10800.0</td>\n",
       "      <td>12000.0</td>\n",
       "      <td>20300.0</td>\n",
       "    </tr>\n",
       "    <tr>\n",
       "      <td>318</td>\n",
       "      <td>569.0</td>\n",
       "      <td>10987.170475</td>\n",
       "      <td>3863.998774</td>\n",
       "      <td>100.0</td>\n",
       "      <td>9500.0</td>\n",
       "      <td>11400.0</td>\n",
       "      <td>13100.0</td>\n",
       "      <td>30600.0</td>\n",
       "    </tr>\n",
       "    <tr>\n",
       "      <td>318 Gran Turismo</td>\n",
       "      <td>97.0</td>\n",
       "      <td>14854.639175</td>\n",
       "      <td>2670.518856</td>\n",
       "      <td>9200.0</td>\n",
       "      <td>12900.0</td>\n",
       "      <td>14400.0</td>\n",
       "      <td>16400.0</td>\n",
       "      <td>23800.0</td>\n",
       "    </tr>\n",
       "    <tr>\n",
       "      <td>320</td>\n",
       "      <td>752.0</td>\n",
       "      <td>12161.702128</td>\n",
       "      <td>4292.640254</td>\n",
       "      <td>100.0</td>\n",
       "      <td>10575.0</td>\n",
       "      <td>12900.0</td>\n",
       "      <td>14900.0</td>\n",
       "      <td>25800.0</td>\n",
       "    </tr>\n",
       "    <tr>\n",
       "      <td>320 Gran Turismo</td>\n",
       "      <td>73.0</td>\n",
       "      <td>17745.205479</td>\n",
       "      <td>3030.540889</td>\n",
       "      <td>11900.0</td>\n",
       "      <td>16100.0</td>\n",
       "      <td>17300.0</td>\n",
       "      <td>19200.0</td>\n",
       "      <td>25900.0</td>\n",
       "    </tr>\n",
       "    <tr>\n",
       "      <td>420</td>\n",
       "      <td>44.0</td>\n",
       "      <td>23931.818182</td>\n",
       "      <td>4620.368088</td>\n",
       "      <td>13100.0</td>\n",
       "      <td>21775.0</td>\n",
       "      <td>23800.0</td>\n",
       "      <td>26850.0</td>\n",
       "      <td>36300.0</td>\n",
       "    </tr>\n",
       "    <tr>\n",
       "      <td>420 Gran Coupé</td>\n",
       "      <td>33.0</td>\n",
       "      <td>24427.272727</td>\n",
       "      <td>4727.596689</td>\n",
       "      <td>13200.0</td>\n",
       "      <td>22000.0</td>\n",
       "      <td>24900.0</td>\n",
       "      <td>28100.0</td>\n",
       "      <td>32100.0</td>\n",
       "    </tr>\n",
       "    <tr>\n",
       "      <td>518</td>\n",
       "      <td>66.0</td>\n",
       "      <td>16489.393939</td>\n",
       "      <td>3006.819367</td>\n",
       "      <td>8800.0</td>\n",
       "      <td>14900.0</td>\n",
       "      <td>16300.0</td>\n",
       "      <td>18350.0</td>\n",
       "      <td>27100.0</td>\n",
       "    </tr>\n",
       "    <tr>\n",
       "      <td>520</td>\n",
       "      <td>633.0</td>\n",
       "      <td>15709.162717</td>\n",
       "      <td>4746.808864</td>\n",
       "      <td>400.0</td>\n",
       "      <td>13400.0</td>\n",
       "      <td>15700.0</td>\n",
       "      <td>18800.0</td>\n",
       "      <td>28800.0</td>\n",
       "    </tr>\n",
       "    <tr>\n",
       "      <td>525</td>\n",
       "      <td>184.0</td>\n",
       "      <td>15363.043478</td>\n",
       "      <td>6820.833040</td>\n",
       "      <td>100.0</td>\n",
       "      <td>13325.0</td>\n",
       "      <td>16100.0</td>\n",
       "      <td>19200.0</td>\n",
       "      <td>34900.0</td>\n",
       "    </tr>\n",
       "    <tr>\n",
       "      <td>530</td>\n",
       "      <td>157.0</td>\n",
       "      <td>19826.114650</td>\n",
       "      <td>7959.014777</td>\n",
       "      <td>1300.0</td>\n",
       "      <td>16400.0</td>\n",
       "      <td>20500.0</td>\n",
       "      <td>23900.0</td>\n",
       "      <td>62500.0</td>\n",
       "    </tr>\n",
       "    <tr>\n",
       "      <td>535</td>\n",
       "      <td>46.0</td>\n",
       "      <td>23747.826087</td>\n",
       "      <td>6064.422264</td>\n",
       "      <td>12600.0</td>\n",
       "      <td>19200.0</td>\n",
       "      <td>23250.0</td>\n",
       "      <td>28550.0</td>\n",
       "      <td>39200.0</td>\n",
       "    </tr>\n",
       "    <tr>\n",
       "      <td>X1</td>\n",
       "      <td>275.0</td>\n",
       "      <td>12700.000000</td>\n",
       "      <td>3508.155254</td>\n",
       "      <td>600.0</td>\n",
       "      <td>11100.0</td>\n",
       "      <td>12900.0</td>\n",
       "      <td>14650.0</td>\n",
       "      <td>25800.0</td>\n",
       "    </tr>\n",
       "    <tr>\n",
       "      <td>X3</td>\n",
       "      <td>438.0</td>\n",
       "      <td>18175.799087</td>\n",
       "      <td>9559.176581</td>\n",
       "      <td>100.0</td>\n",
       "      <td>15100.0</td>\n",
       "      <td>17600.0</td>\n",
       "      <td>21175.0</td>\n",
       "      <td>178500.0</td>\n",
       "    </tr>\n",
       "    <tr>\n",
       "      <td>X4</td>\n",
       "      <td>46.0</td>\n",
       "      <td>33895.652174</td>\n",
       "      <td>17116.826764</td>\n",
       "      <td>19000.0</td>\n",
       "      <td>29275.0</td>\n",
       "      <td>31800.0</td>\n",
       "      <td>34575.0</td>\n",
       "      <td>142800.0</td>\n",
       "    </tr>\n",
       "    <tr>\n",
       "      <td>X5</td>\n",
       "      <td>231.0</td>\n",
       "      <td>30570.129870</td>\n",
       "      <td>11829.334190</td>\n",
       "      <td>3000.0</td>\n",
       "      <td>20400.0</td>\n",
       "      <td>33800.0</td>\n",
       "      <td>39650.0</td>\n",
       "      <td>55700.0</td>\n",
       "    </tr>\n",
       "    <tr>\n",
       "      <td>X6</td>\n",
       "      <td>44.0</td>\n",
       "      <td>34461.363636</td>\n",
       "      <td>13706.274508</td>\n",
       "      <td>17300.0</td>\n",
       "      <td>23175.0</td>\n",
       "      <td>33100.0</td>\n",
       "      <td>39925.0</td>\n",
       "      <td>66600.0</td>\n",
       "    </tr>\n",
       "  </tbody>\n",
       "</table>\n",
       "</div>"
      ],
      "text/plain": [
       "                  count          mean           std      min      25%  \\\n",
       "model_key                                                               \n",
       "116               358.0   9653.910615   2754.608832    100.0   8525.0   \n",
       "118               143.0   9647.552448   4291.866401    800.0   5050.0   \n",
       "120                36.0  12416.666667   4370.125856   5400.0   8975.0   \n",
       "316               235.0  10381.702128   3087.409862    400.0   9500.0   \n",
       "318               569.0  10987.170475   3863.998774    100.0   9500.0   \n",
       "318 Gran Turismo   97.0  14854.639175   2670.518856   9200.0  12900.0   \n",
       "320               752.0  12161.702128   4292.640254    100.0  10575.0   \n",
       "320 Gran Turismo   73.0  17745.205479   3030.540889  11900.0  16100.0   \n",
       "420                44.0  23931.818182   4620.368088  13100.0  21775.0   \n",
       "420 Gran Coupé     33.0  24427.272727   4727.596689  13200.0  22000.0   \n",
       "518                66.0  16489.393939   3006.819367   8800.0  14900.0   \n",
       "520               633.0  15709.162717   4746.808864    400.0  13400.0   \n",
       "525               184.0  15363.043478   6820.833040    100.0  13325.0   \n",
       "530               157.0  19826.114650   7959.014777   1300.0  16400.0   \n",
       "535                46.0  23747.826087   6064.422264  12600.0  19200.0   \n",
       "X1                275.0  12700.000000   3508.155254    600.0  11100.0   \n",
       "X3                438.0  18175.799087   9559.176581    100.0  15100.0   \n",
       "X4                 46.0  33895.652174  17116.826764  19000.0  29275.0   \n",
       "X5                231.0  30570.129870  11829.334190   3000.0  20400.0   \n",
       "X6                 44.0  34461.363636  13706.274508  17300.0  23175.0   \n",
       "\n",
       "                      50%      75%       max  \n",
       "model_key                                     \n",
       "116                9500.0  10800.0   21700.0  \n",
       "118               10100.0  13000.0   24400.0  \n",
       "120               13050.0  14950.0   23000.0  \n",
       "316               10800.0  12000.0   20300.0  \n",
       "318               11400.0  13100.0   30600.0  \n",
       "318 Gran Turismo  14400.0  16400.0   23800.0  \n",
       "320               12900.0  14900.0   25800.0  \n",
       "320 Gran Turismo  17300.0  19200.0   25900.0  \n",
       "420               23800.0  26850.0   36300.0  \n",
       "420 Gran Coupé    24900.0  28100.0   32100.0  \n",
       "518               16300.0  18350.0   27100.0  \n",
       "520               15700.0  18800.0   28800.0  \n",
       "525               16100.0  19200.0   34900.0  \n",
       "530               20500.0  23900.0   62500.0  \n",
       "535               23250.0  28550.0   39200.0  \n",
       "X1                12900.0  14650.0   25800.0  \n",
       "X3                17600.0  21175.0  178500.0  \n",
       "X4                31800.0  34575.0  142800.0  \n",
       "X5                33800.0  39650.0   55700.0  \n",
       "X6                33100.0  39925.0   66600.0  "
      ]
     },
     "execution_count": 42,
     "metadata": {},
     "output_type": "execute_result"
    }
   ],
   "source": [
    "bmwByModel = bmwSmall.groupby(\"model_key\")\n",
    "bmwByModel.price.describe()"
   ]
  },
  {
   "cell_type": "code",
   "execution_count": 43,
   "metadata": {
    "jupyter": {
     "source_hidden": true
    }
   },
   "outputs": [],
   "source": [
    "# SavePickle(\"bmwSmall\", bmwSmall)"
   ]
  },
  {
   "cell_type": "code",
   "execution_count": 44,
   "metadata": {
    "jupyter": {
     "source_hidden": true
    }
   },
   "outputs": [],
   "source": [
    "# Gepickelten DF einlesen\n",
    "# FILE = \"bmwSmall\"\n",
    "# open_df = open(FILE+'.pickle','rb')\n",
    "# data = pickle.load(open_df)\n",
    "# open_df.close()\n",
    "\n",
    "# bmwSmall = data.copy()\n",
    "# bmwSmall.shape"
   ]
  },
  {
   "cell_type": "code",
   "execution_count": null,
   "metadata": {},
   "outputs": [],
   "source": []
  },
  {
   "cell_type": "markdown",
   "metadata": {
    "toc-hr-collapsed": true
   },
   "source": [
    "### 4.2 Lineare Regression"
   ]
  },
  {
   "cell_type": "markdown",
   "metadata": {},
   "source": [
    "Jetzt bauen wir unsere Datenmatrix auf, auf der wir dann das Regressionsmodell trainieren wollen.  \n",
    "Die Arbeitspakete:\n",
    "\n",
    "    (1) Datenmatrix und Targetvektor aufbauen: Auswahl der Feature, die wir mit ins Modell nehmen möchten  \n",
    "    (2) NA Werte bereinigen => Es gibt keine in diesem Datenset ... entfällt  \n",
    "    (3) OH-Encoding für die kategoriellen Daten  \n",
    "    (4) Standardisieren der numerischen Daten  \n",
    "  \n",
    "    (5) Trainingsset und Testset trennen  \n",
    "    (6) Lineares Regressionsmodell traineren  \n",
    "    (7) Regressionsmodell visualisieren  \n",
    "\n",
    "##### (1) Datenmatrix & Targetvektor\n",
    "Wir wählen wir aus, welche Features wir in das Modell \"mitnehmen\" möchten: "
   ]
  },
  {
   "cell_type": "code",
   "execution_count": 45,
   "metadata": {
    "jupyter": {
     "source_hidden": true
    }
   },
   "outputs": [],
   "source": [
    "features = ['model_key', 'mileage', 'engine_power','fuel', 'paint_color', 'car_type',\n",
    "            'feature_1', 'feature_2', 'feature_3', 'feature_4', 'feature_5', 'feature_6', 'feature_7', 'feature_8',\n",
    "            'period', 'Sell_Month', ]"
   ]
  },
  {
   "cell_type": "markdown",
   "metadata": {},
   "source": [
    "Mit dieser Auswahl erstellen wir eine Feature-Matrix X und einen Targetvektor y"
   ]
  },
  {
   "cell_type": "code",
   "execution_count": 46,
   "metadata": {
    "jupyter": {
     "source_hidden": true
    }
   },
   "outputs": [
    {
     "name": "stdout",
     "output_type": "stream",
     "text": [
      "(4460, 16)\n",
      "(4460,)\n"
     ]
    }
   ],
   "source": [
    "bmwSmall.reset_index(inplace=True)   # Numerischen Index neu aufbauen (Lücken aus dem Filterprozess schließen!)\n",
    "X = bmwSmall[features].copy()\n",
    "y = bmwSmall.price.copy()\n",
    "print(X.shape)\n",
    "print(y.shape)"
   ]
  },
  {
   "cell_type": "markdown",
   "metadata": {},
   "source": [
    "##### (3) & (4) OH-Encoding und Standardisieren"
   ]
  },
  {
   "cell_type": "code",
   "execution_count": 47,
   "metadata": {
    "jupyter": {
     "source_hidden": true
    }
   },
   "outputs": [
    {
     "name": "stdout",
     "output_type": "stream",
     "text": [
      "Featurematrix X mit 4460 Datensätzen und 53 Feature/Variablen\n",
      "Targetvektor y mit 4460 Datensätzen\n"
     ]
    }
   ],
   "source": [
    "# Wir importieren die Preprocessing Tools aus Scikit-Learn\n",
    "from sklearn.preprocessing import OneHotEncoder, LabelEncoder, StandardScaler   # Unsere Werkzeuge\n",
    "\n",
    "# Wir legen ein paar Listen an, um das PreProcessing zu erleichtern\n",
    "feat_cat = [\"model_key\", \"fuel\", \"paint_color\", \"car_type\", ] \n",
    "feat_num = ['mileage', 'engine_power', 'period',]\n",
    "feat_bool = ['feature_1', 'feature_2', 'feature_3', 'feature_4', 'feature_5', 'feature_6','feature_7', 'feature_8']\n",
    "feat_other = ['Sell_Month']\n",
    "\n",
    "# Jetzt vereinzeln wir die Matrix X in vier Teil-Matrizen \n",
    "Xcat = X[feat_cat] \n",
    "Xnum = X[feat_num]\n",
    "Xbool = X[feat_bool]\n",
    "Xother = X[feat_other]\n",
    "\n",
    "# OH-Encoding auf der Matrix mit den kategoriellen Daten\n",
    "oh = OneHotEncoder(sparse=False)\n",
    "Xcat = oh.fit_transform(Xcat)\n",
    "Xcat_cols = oh.get_feature_names(feat_cat)\n",
    "Xcat = pd.DataFrame(data=Xcat, columns=Xcat_cols)\n",
    "\n",
    "# # Alternativ: Label-Encoding auf der Matrix mit den kategoriellen Daten\n",
    "# le = LabelEncoder()\n",
    "# Xcat = Xcat.apply(le.fit_transform)\n",
    "# Xcat = pd.DataFrame(data=Xcat, columns=feat_cat)\n",
    "\n",
    "# Standardisieren auf der Matrix mit den numerischen Daten\n",
    "# scaler = StandardScaler()\n",
    "# Xnum = scaler.fit_transform(Xnum)\n",
    "# Xnum = pd.DataFrame(Xnum, columns=feat_num)\n",
    "\n",
    "# Zusammenführen der vier Teilmatrizen zu einer Datenmatrix X\n",
    "X = pd.concat([Xcat, Xnum, Xbool, Xother], axis=1,  )\n",
    "\n",
    "print(f\"Featurematrix X mit {X.shape[0]} Datensätzen und {X.shape[1]} Feature/Variablen\")\n",
    "print(f\"Targetvektor y mit {y.shape[0]} Datensätzen\")"
   ]
  },
  {
   "cell_type": "code",
   "execution_count": 48,
   "metadata": {
    "jupyter": {
     "source_hidden": true
    }
   },
   "outputs": [
    {
     "data": {
      "text/html": [
       "<div>\n",
       "<style scoped>\n",
       "    .dataframe tbody tr th:only-of-type {\n",
       "        vertical-align: middle;\n",
       "    }\n",
       "\n",
       "    .dataframe tbody tr th {\n",
       "        vertical-align: top;\n",
       "    }\n",
       "\n",
       "    .dataframe thead th {\n",
       "        text-align: right;\n",
       "    }\n",
       "</style>\n",
       "<table border=\"1\" class=\"dataframe\">\n",
       "  <thead>\n",
       "    <tr style=\"text-align: right;\">\n",
       "      <th></th>\n",
       "      <th>model_key_116</th>\n",
       "      <th>model_key_118</th>\n",
       "      <th>model_key_120</th>\n",
       "      <th>model_key_316</th>\n",
       "      <th>model_key_318</th>\n",
       "      <th>model_key_318 Gran Turismo</th>\n",
       "      <th>model_key_320</th>\n",
       "      <th>model_key_320 Gran Turismo</th>\n",
       "      <th>model_key_420</th>\n",
       "      <th>model_key_420 Gran Coupé</th>\n",
       "      <th>...</th>\n",
       "      <th>period</th>\n",
       "      <th>feature_1</th>\n",
       "      <th>feature_2</th>\n",
       "      <th>feature_3</th>\n",
       "      <th>feature_4</th>\n",
       "      <th>feature_5</th>\n",
       "      <th>feature_6</th>\n",
       "      <th>feature_7</th>\n",
       "      <th>feature_8</th>\n",
       "      <th>Sell_Month</th>\n",
       "    </tr>\n",
       "  </thead>\n",
       "  <tbody>\n",
       "    <tr>\n",
       "      <td>0</td>\n",
       "      <td>0.0</td>\n",
       "      <td>1.0</td>\n",
       "      <td>0.0</td>\n",
       "      <td>0.0</td>\n",
       "      <td>0.0</td>\n",
       "      <td>0.0</td>\n",
       "      <td>0.0</td>\n",
       "      <td>0.0</td>\n",
       "      <td>0.0</td>\n",
       "      <td>0.0</td>\n",
       "      <td>...</td>\n",
       "      <td>2161</td>\n",
       "      <td>True</td>\n",
       "      <td>True</td>\n",
       "      <td>False</td>\n",
       "      <td>False</td>\n",
       "      <td>True</td>\n",
       "      <td>True</td>\n",
       "      <td>True</td>\n",
       "      <td>False</td>\n",
       "      <td>1</td>\n",
       "    </tr>\n",
       "    <tr>\n",
       "      <td>1</td>\n",
       "      <td>0.0</td>\n",
       "      <td>0.0</td>\n",
       "      <td>0.0</td>\n",
       "      <td>0.0</td>\n",
       "      <td>0.0</td>\n",
       "      <td>0.0</td>\n",
       "      <td>1.0</td>\n",
       "      <td>0.0</td>\n",
       "      <td>0.0</td>\n",
       "      <td>0.0</td>\n",
       "      <td>...</td>\n",
       "      <td>2132</td>\n",
       "      <td>False</td>\n",
       "      <td>False</td>\n",
       "      <td>False</td>\n",
       "      <td>False</td>\n",
       "      <td>True</td>\n",
       "      <td>False</td>\n",
       "      <td>True</td>\n",
       "      <td>False</td>\n",
       "      <td>2</td>\n",
       "    </tr>\n",
       "    <tr>\n",
       "      <td>2</td>\n",
       "      <td>0.0</td>\n",
       "      <td>0.0</td>\n",
       "      <td>0.0</td>\n",
       "      <td>0.0</td>\n",
       "      <td>0.0</td>\n",
       "      <td>0.0</td>\n",
       "      <td>0.0</td>\n",
       "      <td>0.0</td>\n",
       "      <td>1.0</td>\n",
       "      <td>0.0</td>\n",
       "      <td>...</td>\n",
       "      <td>1311</td>\n",
       "      <td>True</td>\n",
       "      <td>True</td>\n",
       "      <td>False</td>\n",
       "      <td>False</td>\n",
       "      <td>True</td>\n",
       "      <td>True</td>\n",
       "      <td>True</td>\n",
       "      <td>True</td>\n",
       "      <td>2</td>\n",
       "    </tr>\n",
       "  </tbody>\n",
       "</table>\n",
       "<p>3 rows × 53 columns</p>\n",
       "</div>"
      ],
      "text/plain": [
       "   model_key_116  model_key_118  model_key_120  model_key_316  model_key_318  \\\n",
       "0            0.0            1.0            0.0            0.0            0.0   \n",
       "1            0.0            0.0            0.0            0.0            0.0   \n",
       "2            0.0            0.0            0.0            0.0            0.0   \n",
       "\n",
       "   model_key_318 Gran Turismo  model_key_320  model_key_320 Gran Turismo  \\\n",
       "0                         0.0            0.0                         0.0   \n",
       "1                         0.0            1.0                         0.0   \n",
       "2                         0.0            0.0                         0.0   \n",
       "\n",
       "   model_key_420  model_key_420 Gran Coupé  ...  period  feature_1  feature_2  \\\n",
       "0            0.0                       0.0  ...    2161       True       True   \n",
       "1            0.0                       0.0  ...    2132      False      False   \n",
       "2            1.0                       0.0  ...    1311       True       True   \n",
       "\n",
       "   feature_3  feature_4  feature_5  feature_6  feature_7  feature_8  \\\n",
       "0      False      False       True       True       True      False   \n",
       "1      False      False       True      False       True      False   \n",
       "2      False      False       True       True       True       True   \n",
       "\n",
       "   Sell_Month  \n",
       "0           1  \n",
       "1           2  \n",
       "2           2  \n",
       "\n",
       "[3 rows x 53 columns]"
      ]
     },
     "execution_count": 48,
     "metadata": {},
     "output_type": "execute_result"
    }
   ],
   "source": [
    "X.head(3)"
   ]
  },
  {
   "cell_type": "markdown",
   "metadata": {},
   "source": [
    "##### (5) Trainings- & Testset splitten\n",
    "Wir splitten in ein Trainingsset mit 70% fürs Training und 30% fürs Testen "
   ]
  },
  {
   "cell_type": "code",
   "execution_count": 49,
   "metadata": {
    "jupyter": {
     "source_hidden": true
    }
   },
   "outputs": [],
   "source": [
    "from sklearn.model_selection import train_test_split\n",
    "X_train, X_test, y_train, y_test = train_test_split(X, y, test_size=0.3, shuffle=True, random_state=42)"
   ]
  },
  {
   "cell_type": "markdown",
   "metadata": {},
   "source": [
    "##### (6) Lineares Regressionsmodell trainieren "
   ]
  },
  {
   "cell_type": "code",
   "execution_count": 50,
   "metadata": {
    "jupyter": {
     "source_hidden": true
    }
   },
   "outputs": [
    {
     "name": "stdout",
     "output_type": "stream",
     "text": [
      "-----------------------------------------------------------------\n",
      "Anteil der erklärbaren Varianz, R² auf dem Trainingsset = 0.72\n",
      "Anteil der erklärbaren Varianz, R² auf den TESTDATEN (!) = 0.71\n",
      "-----------------------------------------------------------------\n"
     ]
    }
   ],
   "source": [
    "from sklearn.linear_model import LinearRegression\n",
    "\n",
    "lr = LinearRegression().fit(X_train, y_train)  # Model instanziieren und auf die Trainingsdaten trainieren\n",
    "\n",
    "scoreTrain = lr.score(X_train, y_train)        # Ermittelt R² Score für Trainingsdaten\n",
    "scoreTest = lr.score(X_test, y_test)           # Ermittelt den R² für die Testdaten\n",
    "\n",
    "print(\"-\"*65)\n",
    "print(f\"Anteil der erklärbaren Varianz, R² auf dem Trainingsset = {scoreTrain:.2f}\")\n",
    "print(f\"Anteil der erklärbaren Varianz, R² auf den TESTDATEN (!) = {scoreTest:.2f}\")\n",
    "print(\"-\"*65)"
   ]
  },
  {
   "cell_type": "code",
   "execution_count": 51,
   "metadata": {
    "jupyter": {
     "source_hidden": true
    }
   },
   "outputs": [
    {
     "data": {
      "text/plain": [
       "fuel_hybrid_petrol            3.485662e+03\n",
       "car_type_suv                  3.006478e+03\n",
       "car_type_convertible          2.291753e+03\n",
       "feature_6                     1.387624e+03\n",
       "feature_8                     1.330719e+03\n",
       "feature_4                     1.136135e+03\n",
       "feature_3                     1.124029e+03\n",
       "paint_color_white             4.963747e+02\n",
       "feature_1                     4.608913e+02\n",
       "paint_color_beige             3.531026e+02\n",
       "paint_color_brown             2.721836e+02\n",
       "feature_7                     2.275581e+02\n",
       "paint_color_green             1.827970e+02\n",
       "Sell_Month                    1.572340e+02\n",
       "feature_5                     1.207696e+02\n",
       "car_type_subcompact           1.095319e+02\n",
       "engine_power                  5.015913e+01\n",
       "mileage                      -2.941132e-02\n",
       "period                       -2.779808e+00\n",
       "paint_color_black            -5.661343e+01\n",
       "paint_color_blue             -9.488806e+01\n",
       "paint_color_grey             -1.157647e+02\n",
       "paint_color_silver           -1.293202e+02\n",
       "feature_2                    -3.225819e+02\n",
       "paint_color_red              -3.334114e+02\n",
       "car_type_sedan               -4.051091e+02\n",
       "paint_color_orange           -5.744607e+02\n",
       "car_type_coupe               -6.252744e+02\n",
       "car_type_hatchback           -1.006300e+03\n",
       "car_type_van                 -1.025571e+03\n",
       "fuel_diesel                  -1.456493e+03\n",
       "fuel_petrol                  -2.029170e+03\n",
       "car_type_estate              -2.345510e+03\n",
       "model_key_X6                 -4.635359e+10\n",
       "model_key_X5                 -4.635359e+10\n",
       "model_key_X4                 -4.635359e+10\n",
       "model_key_420 Gran Coupé     -4.635359e+10\n",
       "model_key_420                -4.635359e+10\n",
       "model_key_535                -4.635359e+10\n",
       "model_key_530                -4.635359e+10\n",
       "model_key_518                -4.635359e+10\n",
       "model_key_520                -4.635359e+10\n",
       "model_key_525                -4.635359e+10\n",
       "model_key_318 Gran Turismo   -4.635359e+10\n",
       "model_key_320 Gran Turismo   -4.635359e+10\n",
       "model_key_318                -4.635359e+10\n",
       "model_key_316                -4.635359e+10\n",
       "model_key_320                -4.635359e+10\n",
       "model_key_X3                 -4.635360e+10\n",
       "model_key_120                -4.635360e+10\n",
       "model_key_118                -4.635360e+10\n",
       "model_key_116                -4.635360e+10\n",
       "model_key_X1                 -4.635360e+10\n",
       "dtype: float64"
      ]
     },
     "execution_count": 51,
     "metadata": {},
     "output_type": "execute_result"
    }
   ],
   "source": [
    "# Ausgabe der einzelnen Faktoren mit ihren Gewichten in der Regression:\n",
    "weights = pd.Series(lr.coef_, index=X.columns.to_list(),)\n",
    "weights.sort_values(ascending=False)"
   ]
  },
  {
   "cell_type": "markdown",
   "metadata": {
    "jupyter": {
     "outputs_hidden": true
    }
   },
   "source": [
    "Mit unserem Modell können wir jetzt den Preis für \"neue\" ungesehene Daten schätzen:  \n",
    "Zur Vereinfachung ziehen wir uns aus unseren \"unberührten\" Testdaten ein Sample und lassen es durch unser Modell schätzen:"
   ]
  },
  {
   "cell_type": "code",
   "execution_count": 52,
   "metadata": {
    "jupyter": {
     "source_hidden": true
    }
   },
   "outputs": [
    {
     "data": {
      "text/html": [
       "<div>\n",
       "<style scoped>\n",
       "    .dataframe tbody tr th:only-of-type {\n",
       "        vertical-align: middle;\n",
       "    }\n",
       "\n",
       "    .dataframe tbody tr th {\n",
       "        vertical-align: top;\n",
       "    }\n",
       "\n",
       "    .dataframe thead th {\n",
       "        text-align: right;\n",
       "    }\n",
       "</style>\n",
       "<table border=\"1\" class=\"dataframe\">\n",
       "  <thead>\n",
       "    <tr style=\"text-align: right;\">\n",
       "      <th></th>\n",
       "      <th>192</th>\n",
       "      <th>3729</th>\n",
       "      <th>3395</th>\n",
       "      <th>4127</th>\n",
       "      <th>1598</th>\n",
       "    </tr>\n",
       "  </thead>\n",
       "  <tbody>\n",
       "    <tr>\n",
       "      <td>price_pred</td>\n",
       "      <td>16072</td>\n",
       "      <td>12080</td>\n",
       "      <td>9994</td>\n",
       "      <td>36725</td>\n",
       "      <td>12240</td>\n",
       "    </tr>\n",
       "    <tr>\n",
       "      <td>price</td>\n",
       "      <td>16800</td>\n",
       "      <td>12000</td>\n",
       "      <td>8300</td>\n",
       "      <td>36900</td>\n",
       "      <td>12900</td>\n",
       "    </tr>\n",
       "    <tr>\n",
       "      <td>model_key_116</td>\n",
       "      <td>0</td>\n",
       "      <td>0</td>\n",
       "      <td>1</td>\n",
       "      <td>0</td>\n",
       "      <td>0</td>\n",
       "    </tr>\n",
       "    <tr>\n",
       "      <td>model_key_118</td>\n",
       "      <td>0</td>\n",
       "      <td>0</td>\n",
       "      <td>0</td>\n",
       "      <td>0</td>\n",
       "      <td>0</td>\n",
       "    </tr>\n",
       "    <tr>\n",
       "      <td>model_key_120</td>\n",
       "      <td>0</td>\n",
       "      <td>0</td>\n",
       "      <td>0</td>\n",
       "      <td>0</td>\n",
       "      <td>0</td>\n",
       "    </tr>\n",
       "    <tr>\n",
       "      <td>model_key_316</td>\n",
       "      <td>0</td>\n",
       "      <td>0</td>\n",
       "      <td>0</td>\n",
       "      <td>0</td>\n",
       "      <td>0</td>\n",
       "    </tr>\n",
       "    <tr>\n",
       "      <td>model_key_318</td>\n",
       "      <td>0</td>\n",
       "      <td>0</td>\n",
       "      <td>0</td>\n",
       "      <td>0</td>\n",
       "      <td>1</td>\n",
       "    </tr>\n",
       "    <tr>\n",
       "      <td>model_key_318 Gran Turismo</td>\n",
       "      <td>0</td>\n",
       "      <td>0</td>\n",
       "      <td>0</td>\n",
       "      <td>0</td>\n",
       "      <td>0</td>\n",
       "    </tr>\n",
       "    <tr>\n",
       "      <td>model_key_320</td>\n",
       "      <td>1</td>\n",
       "      <td>0</td>\n",
       "      <td>0</td>\n",
       "      <td>0</td>\n",
       "      <td>0</td>\n",
       "    </tr>\n",
       "    <tr>\n",
       "      <td>model_key_320 Gran Turismo</td>\n",
       "      <td>0</td>\n",
       "      <td>0</td>\n",
       "      <td>0</td>\n",
       "      <td>0</td>\n",
       "      <td>0</td>\n",
       "    </tr>\n",
       "    <tr>\n",
       "      <td>model_key_420</td>\n",
       "      <td>0</td>\n",
       "      <td>0</td>\n",
       "      <td>0</td>\n",
       "      <td>0</td>\n",
       "      <td>0</td>\n",
       "    </tr>\n",
       "    <tr>\n",
       "      <td>model_key_420 Gran Coupé</td>\n",
       "      <td>0</td>\n",
       "      <td>0</td>\n",
       "      <td>0</td>\n",
       "      <td>0</td>\n",
       "      <td>0</td>\n",
       "    </tr>\n",
       "    <tr>\n",
       "      <td>model_key_518</td>\n",
       "      <td>0</td>\n",
       "      <td>0</td>\n",
       "      <td>0</td>\n",
       "      <td>0</td>\n",
       "      <td>0</td>\n",
       "    </tr>\n",
       "    <tr>\n",
       "      <td>model_key_520</td>\n",
       "      <td>0</td>\n",
       "      <td>0</td>\n",
       "      <td>0</td>\n",
       "      <td>0</td>\n",
       "      <td>0</td>\n",
       "    </tr>\n",
       "    <tr>\n",
       "      <td>model_key_525</td>\n",
       "      <td>0</td>\n",
       "      <td>0</td>\n",
       "      <td>0</td>\n",
       "      <td>0</td>\n",
       "      <td>0</td>\n",
       "    </tr>\n",
       "    <tr>\n",
       "      <td>model_key_530</td>\n",
       "      <td>0</td>\n",
       "      <td>0</td>\n",
       "      <td>0</td>\n",
       "      <td>0</td>\n",
       "      <td>0</td>\n",
       "    </tr>\n",
       "    <tr>\n",
       "      <td>model_key_535</td>\n",
       "      <td>0</td>\n",
       "      <td>0</td>\n",
       "      <td>0</td>\n",
       "      <td>0</td>\n",
       "      <td>0</td>\n",
       "    </tr>\n",
       "    <tr>\n",
       "      <td>model_key_X1</td>\n",
       "      <td>0</td>\n",
       "      <td>1</td>\n",
       "      <td>0</td>\n",
       "      <td>0</td>\n",
       "      <td>0</td>\n",
       "    </tr>\n",
       "    <tr>\n",
       "      <td>model_key_X3</td>\n",
       "      <td>0</td>\n",
       "      <td>0</td>\n",
       "      <td>0</td>\n",
       "      <td>0</td>\n",
       "      <td>0</td>\n",
       "    </tr>\n",
       "    <tr>\n",
       "      <td>model_key_X4</td>\n",
       "      <td>0</td>\n",
       "      <td>0</td>\n",
       "      <td>0</td>\n",
       "      <td>0</td>\n",
       "      <td>0</td>\n",
       "    </tr>\n",
       "    <tr>\n",
       "      <td>model_key_X5</td>\n",
       "      <td>0</td>\n",
       "      <td>0</td>\n",
       "      <td>0</td>\n",
       "      <td>0</td>\n",
       "      <td>0</td>\n",
       "    </tr>\n",
       "    <tr>\n",
       "      <td>model_key_X6</td>\n",
       "      <td>0</td>\n",
       "      <td>0</td>\n",
       "      <td>0</td>\n",
       "      <td>1</td>\n",
       "      <td>0</td>\n",
       "    </tr>\n",
       "    <tr>\n",
       "      <td>fuel_diesel</td>\n",
       "      <td>1</td>\n",
       "      <td>1</td>\n",
       "      <td>1</td>\n",
       "      <td>1</td>\n",
       "      <td>1</td>\n",
       "    </tr>\n",
       "    <tr>\n",
       "      <td>fuel_hybrid_petrol</td>\n",
       "      <td>0</td>\n",
       "      <td>0</td>\n",
       "      <td>0</td>\n",
       "      <td>0</td>\n",
       "      <td>0</td>\n",
       "    </tr>\n",
       "    <tr>\n",
       "      <td>fuel_petrol</td>\n",
       "      <td>0</td>\n",
       "      <td>0</td>\n",
       "      <td>0</td>\n",
       "      <td>0</td>\n",
       "      <td>0</td>\n",
       "    </tr>\n",
       "    <tr>\n",
       "      <td>paint_color_beige</td>\n",
       "      <td>0</td>\n",
       "      <td>0</td>\n",
       "      <td>0</td>\n",
       "      <td>0</td>\n",
       "      <td>0</td>\n",
       "    </tr>\n",
       "    <tr>\n",
       "      <td>paint_color_black</td>\n",
       "      <td>0</td>\n",
       "      <td>0</td>\n",
       "      <td>0</td>\n",
       "      <td>0</td>\n",
       "      <td>0</td>\n",
       "    </tr>\n",
       "    <tr>\n",
       "      <td>paint_color_blue</td>\n",
       "      <td>1</td>\n",
       "      <td>1</td>\n",
       "      <td>1</td>\n",
       "      <td>0</td>\n",
       "      <td>0</td>\n",
       "    </tr>\n",
       "    <tr>\n",
       "      <td>paint_color_brown</td>\n",
       "      <td>0</td>\n",
       "      <td>0</td>\n",
       "      <td>0</td>\n",
       "      <td>0</td>\n",
       "      <td>0</td>\n",
       "    </tr>\n",
       "    <tr>\n",
       "      <td>paint_color_green</td>\n",
       "      <td>0</td>\n",
       "      <td>0</td>\n",
       "      <td>0</td>\n",
       "      <td>0</td>\n",
       "      <td>0</td>\n",
       "    </tr>\n",
       "    <tr>\n",
       "      <td>paint_color_grey</td>\n",
       "      <td>0</td>\n",
       "      <td>0</td>\n",
       "      <td>0</td>\n",
       "      <td>0</td>\n",
       "      <td>0</td>\n",
       "    </tr>\n",
       "    <tr>\n",
       "      <td>paint_color_orange</td>\n",
       "      <td>0</td>\n",
       "      <td>0</td>\n",
       "      <td>0</td>\n",
       "      <td>0</td>\n",
       "      <td>0</td>\n",
       "    </tr>\n",
       "    <tr>\n",
       "      <td>paint_color_red</td>\n",
       "      <td>0</td>\n",
       "      <td>0</td>\n",
       "      <td>0</td>\n",
       "      <td>0</td>\n",
       "      <td>0</td>\n",
       "    </tr>\n",
       "    <tr>\n",
       "      <td>paint_color_silver</td>\n",
       "      <td>0</td>\n",
       "      <td>0</td>\n",
       "      <td>0</td>\n",
       "      <td>0</td>\n",
       "      <td>1</td>\n",
       "    </tr>\n",
       "    <tr>\n",
       "      <td>paint_color_white</td>\n",
       "      <td>0</td>\n",
       "      <td>0</td>\n",
       "      <td>0</td>\n",
       "      <td>1</td>\n",
       "      <td>0</td>\n",
       "    </tr>\n",
       "    <tr>\n",
       "      <td>car_type_convertible</td>\n",
       "      <td>0</td>\n",
       "      <td>0</td>\n",
       "      <td>0</td>\n",
       "      <td>0</td>\n",
       "      <td>0</td>\n",
       "    </tr>\n",
       "    <tr>\n",
       "      <td>car_type_coupe</td>\n",
       "      <td>0</td>\n",
       "      <td>0</td>\n",
       "      <td>0</td>\n",
       "      <td>0</td>\n",
       "      <td>0</td>\n",
       "    </tr>\n",
       "    <tr>\n",
       "      <td>car_type_estate</td>\n",
       "      <td>1</td>\n",
       "      <td>0</td>\n",
       "      <td>0</td>\n",
       "      <td>0</td>\n",
       "      <td>1</td>\n",
       "    </tr>\n",
       "    <tr>\n",
       "      <td>car_type_hatchback</td>\n",
       "      <td>0</td>\n",
       "      <td>0</td>\n",
       "      <td>0</td>\n",
       "      <td>0</td>\n",
       "      <td>0</td>\n",
       "    </tr>\n",
       "    <tr>\n",
       "      <td>car_type_sedan</td>\n",
       "      <td>0</td>\n",
       "      <td>0</td>\n",
       "      <td>0</td>\n",
       "      <td>0</td>\n",
       "      <td>0</td>\n",
       "    </tr>\n",
       "    <tr>\n",
       "      <td>car_type_subcompact</td>\n",
       "      <td>0</td>\n",
       "      <td>0</td>\n",
       "      <td>1</td>\n",
       "      <td>0</td>\n",
       "      <td>0</td>\n",
       "    </tr>\n",
       "    <tr>\n",
       "      <td>car_type_suv</td>\n",
       "      <td>0</td>\n",
       "      <td>1</td>\n",
       "      <td>0</td>\n",
       "      <td>1</td>\n",
       "      <td>0</td>\n",
       "    </tr>\n",
       "    <tr>\n",
       "      <td>car_type_van</td>\n",
       "      <td>0</td>\n",
       "      <td>0</td>\n",
       "      <td>0</td>\n",
       "      <td>0</td>\n",
       "      <td>0</td>\n",
       "    </tr>\n",
       "    <tr>\n",
       "      <td>mileage</td>\n",
       "      <td>73416</td>\n",
       "      <td>72639</td>\n",
       "      <td>144607</td>\n",
       "      <td>111290</td>\n",
       "      <td>152502</td>\n",
       "    </tr>\n",
       "    <tr>\n",
       "      <td>engine_power</td>\n",
       "      <td>120</td>\n",
       "      <td>85</td>\n",
       "      <td>85</td>\n",
       "      <td>225</td>\n",
       "      <td>105</td>\n",
       "    </tr>\n",
       "    <tr>\n",
       "      <td>period</td>\n",
       "      <td>823</td>\n",
       "      <td>1704</td>\n",
       "      <td>1673</td>\n",
       "      <td>1581</td>\n",
       "      <td>1673</td>\n",
       "    </tr>\n",
       "    <tr>\n",
       "      <td>feature_1</td>\n",
       "      <td>False</td>\n",
       "      <td>False</td>\n",
       "      <td>False</td>\n",
       "      <td>True</td>\n",
       "      <td>False</td>\n",
       "    </tr>\n",
       "    <tr>\n",
       "      <td>feature_2</td>\n",
       "      <td>True</td>\n",
       "      <td>False</td>\n",
       "      <td>False</td>\n",
       "      <td>True</td>\n",
       "      <td>True</td>\n",
       "    </tr>\n",
       "    <tr>\n",
       "      <td>feature_3</td>\n",
       "      <td>False</td>\n",
       "      <td>False</td>\n",
       "      <td>False</td>\n",
       "      <td>True</td>\n",
       "      <td>False</td>\n",
       "    </tr>\n",
       "    <tr>\n",
       "      <td>feature_4</td>\n",
       "      <td>False</td>\n",
       "      <td>False</td>\n",
       "      <td>False</td>\n",
       "      <td>True</td>\n",
       "      <td>False</td>\n",
       "    </tr>\n",
       "    <tr>\n",
       "      <td>feature_5</td>\n",
       "      <td>False</td>\n",
       "      <td>False</td>\n",
       "      <td>False</td>\n",
       "      <td>True</td>\n",
       "      <td>False</td>\n",
       "    </tr>\n",
       "    <tr>\n",
       "      <td>feature_6</td>\n",
       "      <td>False</td>\n",
       "      <td>False</td>\n",
       "      <td>False</td>\n",
       "      <td>False</td>\n",
       "      <td>False</td>\n",
       "    </tr>\n",
       "    <tr>\n",
       "      <td>feature_7</td>\n",
       "      <td>True</td>\n",
       "      <td>True</td>\n",
       "      <td>True</td>\n",
       "      <td>True</td>\n",
       "      <td>True</td>\n",
       "    </tr>\n",
       "    <tr>\n",
       "      <td>feature_8</td>\n",
       "      <td>True</td>\n",
       "      <td>False</td>\n",
       "      <td>False</td>\n",
       "      <td>True</td>\n",
       "      <td>True</td>\n",
       "    </tr>\n",
       "    <tr>\n",
       "      <td>Sell_Month</td>\n",
       "      <td>1</td>\n",
       "      <td>3</td>\n",
       "      <td>5</td>\n",
       "      <td>6</td>\n",
       "      <td>8</td>\n",
       "    </tr>\n",
       "  </tbody>\n",
       "</table>\n",
       "</div>"
      ],
      "text/plain": [
       "                             192    3729    3395    4127    1598\n",
       "price_pred                  16072  12080    9994   36725   12240\n",
       "price                       16800  12000    8300   36900   12900\n",
       "model_key_116                   0      0       1       0       0\n",
       "model_key_118                   0      0       0       0       0\n",
       "model_key_120                   0      0       0       0       0\n",
       "model_key_316                   0      0       0       0       0\n",
       "model_key_318                   0      0       0       0       1\n",
       "model_key_318 Gran Turismo      0      0       0       0       0\n",
       "model_key_320                   1      0       0       0       0\n",
       "model_key_320 Gran Turismo      0      0       0       0       0\n",
       "model_key_420                   0      0       0       0       0\n",
       "model_key_420 Gran Coupé        0      0       0       0       0\n",
       "model_key_518                   0      0       0       0       0\n",
       "model_key_520                   0      0       0       0       0\n",
       "model_key_525                   0      0       0       0       0\n",
       "model_key_530                   0      0       0       0       0\n",
       "model_key_535                   0      0       0       0       0\n",
       "model_key_X1                    0      1       0       0       0\n",
       "model_key_X3                    0      0       0       0       0\n",
       "model_key_X4                    0      0       0       0       0\n",
       "model_key_X5                    0      0       0       0       0\n",
       "model_key_X6                    0      0       0       1       0\n",
       "fuel_diesel                     1      1       1       1       1\n",
       "fuel_hybrid_petrol              0      0       0       0       0\n",
       "fuel_petrol                     0      0       0       0       0\n",
       "paint_color_beige               0      0       0       0       0\n",
       "paint_color_black               0      0       0       0       0\n",
       "paint_color_blue                1      1       1       0       0\n",
       "paint_color_brown               0      0       0       0       0\n",
       "paint_color_green               0      0       0       0       0\n",
       "paint_color_grey                0      0       0       0       0\n",
       "paint_color_orange              0      0       0       0       0\n",
       "paint_color_red                 0      0       0       0       0\n",
       "paint_color_silver              0      0       0       0       1\n",
       "paint_color_white               0      0       0       1       0\n",
       "car_type_convertible            0      0       0       0       0\n",
       "car_type_coupe                  0      0       0       0       0\n",
       "car_type_estate                 1      0       0       0       1\n",
       "car_type_hatchback              0      0       0       0       0\n",
       "car_type_sedan                  0      0       0       0       0\n",
       "car_type_subcompact             0      0       1       0       0\n",
       "car_type_suv                    0      1       0       1       0\n",
       "car_type_van                    0      0       0       0       0\n",
       "mileage                     73416  72639  144607  111290  152502\n",
       "engine_power                  120     85      85     225     105\n",
       "period                        823   1704    1673    1581    1673\n",
       "feature_1                   False  False   False    True   False\n",
       "feature_2                    True  False   False    True    True\n",
       "feature_3                   False  False   False    True   False\n",
       "feature_4                   False  False   False    True   False\n",
       "feature_5                   False  False   False    True   False\n",
       "feature_6                   False  False   False   False   False\n",
       "feature_7                    True   True    True    True    True\n",
       "feature_8                    True  False   False    True    True\n",
       "Sell_Month                      1      3       5       6       8"
      ]
     },
     "execution_count": 52,
     "metadata": {},
     "output_type": "execute_result"
    }
   ],
   "source": [
    "Size = 5\n",
    "Sample = X_test.sample(Size, random_state=815)\n",
    "yreal = pd.Series(y_test[Sample.index])\n",
    "ypred = pd.Series(lr.predict(Sample), index=Sample.index, name=\"price_pred\").astype(\"int\")\n",
    "result = pd.concat([ypred,yreal,Sample], axis=1)\n",
    "result.T"
   ]
  },
  {
   "cell_type": "code",
   "execution_count": null,
   "metadata": {
    "collapsed": true,
    "jupyter": {
     "outputs_hidden": true,
     "source_hidden": true
    }
   },
   "outputs": [],
   "source": []
  },
  {
   "cell_type": "code",
   "execution_count": null,
   "metadata": {
    "collapsed": true,
    "jupyter": {
     "outputs_hidden": true,
     "source_hidden": true
    }
   },
   "outputs": [],
   "source": []
  },
  {
   "cell_type": "markdown",
   "metadata": {
    "toc-hr-collapsed": false
   },
   "source": [
    "## 5 Supervised Learning: Classification"
   ]
  },
  {
   "cell_type": "markdown",
   "metadata": {},
   "source": [
    "### 5.1 KAGGLE Competition - \"Give Me Some Credit\"\n",
    "https://www.kaggle.com/c/GiveMeSomeCredit/data\n",
    "\n",
    "Das schreiben die Autoren auf KAGGLE:\n",
    "\n",
    "*Credit scoring algorithms, which make a guess at the probability of default, are the method banks use to determine whether or not a loan should be granted.  \n",
    "This competition requires participants to improve on the state of the art in credit scoring, by predicting the probability that somebody will experience financial distress in the next two years.*\n",
    "\n",
    "*The goal of this competition is to build a model that borrowers can use to help make the best financial decisions.*\n",
    "\n",
    "Hier eine kurze Beschreibung der einzelnen Variablen:"
   ]
  },
  {
   "cell_type": "code",
   "execution_count": 53,
   "metadata": {
    "jupyter": {
     "source_hidden": true
    }
   },
   "outputs": [
    {
     "data": {
      "text/html": [
       "<div>\n",
       "<style scoped>\n",
       "    .dataframe tbody tr th:only-of-type {\n",
       "        vertical-align: middle;\n",
       "    }\n",
       "\n",
       "    .dataframe tbody tr th {\n",
       "        vertical-align: top;\n",
       "    }\n",
       "\n",
       "    .dataframe thead th {\n",
       "        text-align: right;\n",
       "    }\n",
       "</style>\n",
       "<table border=\"1\" class=\"dataframe\">\n",
       "  <thead>\n",
       "    <tr style=\"text-align: right;\">\n",
       "      <th></th>\n",
       "      <th>Variable Name</th>\n",
       "      <th>Description</th>\n",
       "      <th>Type</th>\n",
       "    </tr>\n",
       "  </thead>\n",
       "  <tbody>\n",
       "    <tr>\n",
       "      <td>0</td>\n",
       "      <td>SeriousDlqin2yrs</td>\n",
       "      <td>Person experienced 90 days past due delinquency or worse</td>\n",
       "      <td>Y/N</td>\n",
       "    </tr>\n",
       "    <tr>\n",
       "      <td>1</td>\n",
       "      <td>RevolvingUtilizationOfUnsecuredLines</td>\n",
       "      <td>Total balance on credit cards and personal lines of credit except real estate and no installment debt like car loans divided by the sum of credit limits</td>\n",
       "      <td>percentage</td>\n",
       "    </tr>\n",
       "    <tr>\n",
       "      <td>2</td>\n",
       "      <td>age</td>\n",
       "      <td>Age of borrower in years</td>\n",
       "      <td>integer</td>\n",
       "    </tr>\n",
       "    <tr>\n",
       "      <td>3</td>\n",
       "      <td>NumberOfTime30-59DaysPastDueNotWorse</td>\n",
       "      <td>Number of times borrower has been 30-59 days past due but no worse in the last 2 years.</td>\n",
       "      <td>integer</td>\n",
       "    </tr>\n",
       "    <tr>\n",
       "      <td>4</td>\n",
       "      <td>DebtRatio</td>\n",
       "      <td>Monthly debt payments, alimony,living costs divided by monthy gross income</td>\n",
       "      <td>percentage</td>\n",
       "    </tr>\n",
       "    <tr>\n",
       "      <td>5</td>\n",
       "      <td>MonthlyIncome</td>\n",
       "      <td>Monthly income</td>\n",
       "      <td>real</td>\n",
       "    </tr>\n",
       "    <tr>\n",
       "      <td>6</td>\n",
       "      <td>NumberOfOpenCreditLinesAndLoans</td>\n",
       "      <td>Number of Open loans (installment like car loan or mortgage) and Lines of credit (e.g. credit cards)</td>\n",
       "      <td>integer</td>\n",
       "    </tr>\n",
       "    <tr>\n",
       "      <td>7</td>\n",
       "      <td>NumberOfTimes90DaysLate</td>\n",
       "      <td>Number of times borrower has been 90 days or more past due.</td>\n",
       "      <td>integer</td>\n",
       "    </tr>\n",
       "    <tr>\n",
       "      <td>8</td>\n",
       "      <td>NumberRealEstateLoansOrLines</td>\n",
       "      <td>Number of mortgage and real estate loans including home equity lines of credit</td>\n",
       "      <td>integer</td>\n",
       "    </tr>\n",
       "    <tr>\n",
       "      <td>9</td>\n",
       "      <td>NumberOfTime60-89DaysPastDueNotWorse</td>\n",
       "      <td>Number of times borrower has been 60-89 days past due but no worse in the last 2 years.</td>\n",
       "      <td>integer</td>\n",
       "    </tr>\n",
       "    <tr>\n",
       "      <td>10</td>\n",
       "      <td>NumberOfDependents</td>\n",
       "      <td>Number of dependents in family excluding themselves (spouse, children etc.)</td>\n",
       "      <td>integer</td>\n",
       "    </tr>\n",
       "  </tbody>\n",
       "</table>\n",
       "</div>"
      ],
      "text/plain": [
       "                           Variable Name  \\\n",
       "0   SeriousDlqin2yrs                       \n",
       "1   RevolvingUtilizationOfUnsecuredLines   \n",
       "2   age                                    \n",
       "3   NumberOfTime30-59DaysPastDueNotWorse   \n",
       "4   DebtRatio                              \n",
       "5   MonthlyIncome                          \n",
       "6   NumberOfOpenCreditLinesAndLoans        \n",
       "7   NumberOfTimes90DaysLate                \n",
       "8   NumberRealEstateLoansOrLines           \n",
       "9   NumberOfTime60-89DaysPastDueNotWorse   \n",
       "10  NumberOfDependents                     \n",
       "\n",
       "                                                                                                                                                 Description  \\\n",
       "0   Person experienced 90 days past due delinquency or worse                                                                                                   \n",
       "1   Total balance on credit cards and personal lines of credit except real estate and no installment debt like car loans divided by the sum of credit limits   \n",
       "2   Age of borrower in years                                                                                                                                   \n",
       "3   Number of times borrower has been 30-59 days past due but no worse in the last 2 years.                                                                    \n",
       "4   Monthly debt payments, alimony,living costs divided by monthy gross income                                                                                 \n",
       "5   Monthly income                                                                                                                                             \n",
       "6   Number of Open loans (installment like car loan or mortgage) and Lines of credit (e.g. credit cards)                                                       \n",
       "7   Number of times borrower has been 90 days or more past due.                                                                                                \n",
       "8   Number of mortgage and real estate loans including home equity lines of credit                                                                             \n",
       "9   Number of times borrower has been 60-89 days past due but no worse in the last 2 years.                                                                    \n",
       "10  Number of dependents in family excluding themselves (spouse, children etc.)                                                                                \n",
       "\n",
       "          Type  \n",
       "0   Y/N         \n",
       "1   percentage  \n",
       "2   integer     \n",
       "3   integer     \n",
       "4   percentage  \n",
       "5   real        \n",
       "6   integer     \n",
       "7   integer     \n",
       "8   integer     \n",
       "9   integer     \n",
       "10  integer     "
      ]
     },
     "execution_count": 53,
     "metadata": {},
     "output_type": "execute_result"
    }
   ],
   "source": [
    "pd.set_option('display.max_colwidth', -1)\n",
    "cs_info = pd.read_excel(\"cs-Data Dictionary.xls\", header=1); cs_info"
   ]
  },
  {
   "cell_type": "code",
   "execution_count": 54,
   "metadata": {
    "jupyter": {
     "source_hidden": true
    }
   },
   "outputs": [
    {
     "name": "stdout",
     "output_type": "stream",
     "text": [
      "<class 'pandas.core.frame.DataFrame'>\n",
      "RangeIndex: 45000 entries, 0 to 44999\n",
      "Data columns (total 11 columns):\n",
      "RevolvingUtilizationOfUnsecuredLines    45000 non-null float64\n",
      "age                                     45000 non-null float64\n",
      "NumberOfTime30-59DaysPastDueNotWorse    45000 non-null float64\n",
      "DebtRatio                               45000 non-null float64\n",
      "MonthlyIncome                           45000 non-null float64\n",
      "NumberOfOpenCreditLinesAndLoans         45000 non-null float64\n",
      "NumberOfTimes90DaysLate                 45000 non-null float64\n",
      "NumberRealEstateLoansOrLines            45000 non-null float64\n",
      "NumberOfTime60-89DaysPastDueNotWorse    45000 non-null float64\n",
      "NumberOfDependents                      45000 non-null float64\n",
      "SeriousDlqin2yrs                        45000 non-null int64\n",
      "dtypes: float64(10), int64(1)\n",
      "memory usage: 3.8 MB\n"
     ]
    }
   ],
   "source": [
    "# Datenset laden\n",
    "cs = pd.read_csv(\"cs-training-small.csv\")\n",
    "cs = cs.iloc[:,1:]\n",
    "cs.info()"
   ]
  },
  {
   "cell_type": "markdown",
   "metadata": {},
   "source": [
    "Jetzt werfen für mal einen Blick auf die Verteilung der Werte der einzelnen Variablen ..."
   ]
  },
  {
   "cell_type": "code",
   "execution_count": 55,
   "metadata": {
    "jupyter": {
     "source_hidden": true
    }
   },
   "outputs": [
    {
     "data": {
      "text/html": [
       "<div>\n",
       "<style scoped>\n",
       "    .dataframe tbody tr th:only-of-type {\n",
       "        vertical-align: middle;\n",
       "    }\n",
       "\n",
       "    .dataframe tbody tr th {\n",
       "        vertical-align: top;\n",
       "    }\n",
       "\n",
       "    .dataframe thead th {\n",
       "        text-align: right;\n",
       "    }\n",
       "</style>\n",
       "<table border=\"1\" class=\"dataframe\">\n",
       "  <thead>\n",
       "    <tr style=\"text-align: right;\">\n",
       "      <th></th>\n",
       "      <th>count</th>\n",
       "      <th>mean</th>\n",
       "      <th>std</th>\n",
       "      <th>min</th>\n",
       "      <th>5%</th>\n",
       "      <th>25%</th>\n",
       "      <th>50%</th>\n",
       "      <th>75%</th>\n",
       "      <th>95%</th>\n",
       "      <th>max</th>\n",
       "    </tr>\n",
       "  </thead>\n",
       "  <tbody>\n",
       "    <tr>\n",
       "      <td>RevolvingUtilizationOfUnsecuredLines</td>\n",
       "      <td>45000.0</td>\n",
       "      <td>0.416316</td>\n",
       "      <td>6.662989</td>\n",
       "      <td>0.0</td>\n",
       "      <td>0.000000</td>\n",
       "      <td>0.030052</td>\n",
       "      <td>0.154618</td>\n",
       "      <td>0.554526</td>\n",
       "      <td>1.0</td>\n",
       "      <td>658.0</td>\n",
       "    </tr>\n",
       "    <tr>\n",
       "      <td>age</td>\n",
       "      <td>45000.0</td>\n",
       "      <td>52.203289</td>\n",
       "      <td>14.769210</td>\n",
       "      <td>21.0</td>\n",
       "      <td>29.000000</td>\n",
       "      <td>41.000000</td>\n",
       "      <td>52.000000</td>\n",
       "      <td>63.000000</td>\n",
       "      <td>78.0</td>\n",
       "      <td>96.0</td>\n",
       "    </tr>\n",
       "    <tr>\n",
       "      <td>NumberOfTime30-59DaysPastDueNotWorse</td>\n",
       "      <td>45000.0</td>\n",
       "      <td>0.248778</td>\n",
       "      <td>0.704626</td>\n",
       "      <td>0.0</td>\n",
       "      <td>0.000000</td>\n",
       "      <td>0.000000</td>\n",
       "      <td>0.000000</td>\n",
       "      <td>0.000000</td>\n",
       "      <td>2.0</td>\n",
       "      <td>12.0</td>\n",
       "    </tr>\n",
       "    <tr>\n",
       "      <td>DebtRatio</td>\n",
       "      <td>45000.0</td>\n",
       "      <td>301.823800</td>\n",
       "      <td>878.506793</td>\n",
       "      <td>0.0</td>\n",
       "      <td>0.004497</td>\n",
       "      <td>0.177000</td>\n",
       "      <td>0.366250</td>\n",
       "      <td>0.856588</td>\n",
       "      <td>2334.1</td>\n",
       "      <td>6466.0</td>\n",
       "    </tr>\n",
       "    <tr>\n",
       "      <td>MonthlyIncome</td>\n",
       "      <td>45000.0</td>\n",
       "      <td>6116.426533</td>\n",
       "      <td>4022.650588</td>\n",
       "      <td>0.0</td>\n",
       "      <td>1500.000000</td>\n",
       "      <td>3878.000000</td>\n",
       "      <td>5400.000000</td>\n",
       "      <td>7254.500000</td>\n",
       "      <td>13058.4</td>\n",
       "      <td>45000.0</td>\n",
       "    </tr>\n",
       "    <tr>\n",
       "      <td>NumberOfOpenCreditLinesAndLoans</td>\n",
       "      <td>45000.0</td>\n",
       "      <td>8.208067</td>\n",
       "      <td>4.620116</td>\n",
       "      <td>0.0</td>\n",
       "      <td>2.000000</td>\n",
       "      <td>5.000000</td>\n",
       "      <td>8.000000</td>\n",
       "      <td>11.000000</td>\n",
       "      <td>17.0</td>\n",
       "      <td>23.0</td>\n",
       "    </tr>\n",
       "    <tr>\n",
       "      <td>NumberOfTimes90DaysLate</td>\n",
       "      <td>45000.0</td>\n",
       "      <td>0.088733</td>\n",
       "      <td>0.473355</td>\n",
       "      <td>0.0</td>\n",
       "      <td>0.000000</td>\n",
       "      <td>0.000000</td>\n",
       "      <td>0.000000</td>\n",
       "      <td>0.000000</td>\n",
       "      <td>1.0</td>\n",
       "      <td>11.0</td>\n",
       "    </tr>\n",
       "    <tr>\n",
       "      <td>NumberRealEstateLoansOrLines</td>\n",
       "      <td>45000.0</td>\n",
       "      <td>0.967444</td>\n",
       "      <td>0.940120</td>\n",
       "      <td>0.0</td>\n",
       "      <td>0.000000</td>\n",
       "      <td>0.000000</td>\n",
       "      <td>1.000000</td>\n",
       "      <td>2.000000</td>\n",
       "      <td>3.0</td>\n",
       "      <td>4.0</td>\n",
       "    </tr>\n",
       "    <tr>\n",
       "      <td>NumberOfTime60-89DaysPastDueNotWorse</td>\n",
       "      <td>45000.0</td>\n",
       "      <td>0.064933</td>\n",
       "      <td>0.334411</td>\n",
       "      <td>0.0</td>\n",
       "      <td>0.000000</td>\n",
       "      <td>0.000000</td>\n",
       "      <td>0.000000</td>\n",
       "      <td>0.000000</td>\n",
       "      <td>0.0</td>\n",
       "      <td>11.0</td>\n",
       "    </tr>\n",
       "    <tr>\n",
       "      <td>NumberOfDependents</td>\n",
       "      <td>45000.0</td>\n",
       "      <td>0.701756</td>\n",
       "      <td>1.036654</td>\n",
       "      <td>0.0</td>\n",
       "      <td>0.000000</td>\n",
       "      <td>0.000000</td>\n",
       "      <td>0.000000</td>\n",
       "      <td>1.000000</td>\n",
       "      <td>3.0</td>\n",
       "      <td>4.0</td>\n",
       "    </tr>\n",
       "    <tr>\n",
       "      <td>SeriousDlqin2yrs</td>\n",
       "      <td>45000.0</td>\n",
       "      <td>0.066844</td>\n",
       "      <td>0.249755</td>\n",
       "      <td>0.0</td>\n",
       "      <td>0.000000</td>\n",
       "      <td>0.000000</td>\n",
       "      <td>0.000000</td>\n",
       "      <td>0.000000</td>\n",
       "      <td>1.0</td>\n",
       "      <td>1.0</td>\n",
       "    </tr>\n",
       "  </tbody>\n",
       "</table>\n",
       "</div>"
      ],
      "text/plain": [
       "                                        count         mean          std   min  \\\n",
       "RevolvingUtilizationOfUnsecuredLines  45000.0  0.416316     6.662989     0.0    \n",
       "age                                   45000.0  52.203289    14.769210    21.0   \n",
       "NumberOfTime30-59DaysPastDueNotWorse  45000.0  0.248778     0.704626     0.0    \n",
       "DebtRatio                             45000.0  301.823800   878.506793   0.0    \n",
       "MonthlyIncome                         45000.0  6116.426533  4022.650588  0.0    \n",
       "NumberOfOpenCreditLinesAndLoans       45000.0  8.208067     4.620116     0.0    \n",
       "NumberOfTimes90DaysLate               45000.0  0.088733     0.473355     0.0    \n",
       "NumberRealEstateLoansOrLines          45000.0  0.967444     0.940120     0.0    \n",
       "NumberOfTime60-89DaysPastDueNotWorse  45000.0  0.064933     0.334411     0.0    \n",
       "NumberOfDependents                    45000.0  0.701756     1.036654     0.0    \n",
       "SeriousDlqin2yrs                      45000.0  0.066844     0.249755     0.0    \n",
       "\n",
       "                                               5%          25%          50%  \\\n",
       "RevolvingUtilizationOfUnsecuredLines  0.000000     0.030052     0.154618      \n",
       "age                                   29.000000    41.000000    52.000000     \n",
       "NumberOfTime30-59DaysPastDueNotWorse  0.000000     0.000000     0.000000      \n",
       "DebtRatio                             0.004497     0.177000     0.366250      \n",
       "MonthlyIncome                         1500.000000  3878.000000  5400.000000   \n",
       "NumberOfOpenCreditLinesAndLoans       2.000000     5.000000     8.000000      \n",
       "NumberOfTimes90DaysLate               0.000000     0.000000     0.000000      \n",
       "NumberRealEstateLoansOrLines          0.000000     0.000000     1.000000      \n",
       "NumberOfTime60-89DaysPastDueNotWorse  0.000000     0.000000     0.000000      \n",
       "NumberOfDependents                    0.000000     0.000000     0.000000      \n",
       "SeriousDlqin2yrs                      0.000000     0.000000     0.000000      \n",
       "\n",
       "                                              75%      95%      max  \n",
       "RevolvingUtilizationOfUnsecuredLines  0.554526     1.0      658.0    \n",
       "age                                   63.000000    78.0     96.0     \n",
       "NumberOfTime30-59DaysPastDueNotWorse  0.000000     2.0      12.0     \n",
       "DebtRatio                             0.856588     2334.1   6466.0   \n",
       "MonthlyIncome                         7254.500000  13058.4  45000.0  \n",
       "NumberOfOpenCreditLinesAndLoans       11.000000    17.0     23.0     \n",
       "NumberOfTimes90DaysLate               0.000000     1.0      11.0     \n",
       "NumberRealEstateLoansOrLines          2.000000     3.0      4.0      \n",
       "NumberOfTime60-89DaysPastDueNotWorse  0.000000     0.0      11.0     \n",
       "NumberOfDependents                    1.000000     3.0      4.0      \n",
       "SeriousDlqin2yrs                      0.000000     1.0      1.0      "
      ]
     },
     "execution_count": 55,
     "metadata": {},
     "output_type": "execute_result"
    }
   ],
   "source": [
    "cs.describe(percentiles=[.05,.25,.5,.75,.95], ).T"
   ]
  },
  {
   "cell_type": "markdown",
   "metadata": {},
   "source": [
    "Wir sehen an dieser kurzen Statistik bereits, dass in diesem Datenset furchbar große Ausreißer enthalten sind (siehe z.B. RUUL und DebtRation).  \n",
    "Wir wissen nicht, ob diese \"Ausreißer\" wichtig sind für unser Modell ... oder ob es z.B. vernachlässigbare Eingabe-/Übertragungsfehler sind?  \n",
    "Betrachten wir, wieviel Anteil diese speziellen Datensätze an unserer durch das Modell zu prognostizierenden Variable \"SeriousDlqin2yrs\" haben:"
   ]
  },
  {
   "cell_type": "code",
   "execution_count": 56,
   "metadata": {
    "jupyter": {
     "source_hidden": true
    }
   },
   "outputs": [
    {
     "name": "stdout",
     "output_type": "stream",
     "text": [
      "Anzahl der 'Defaults' im gesamten Datenset 3008, entspricht 0.06684444444444444\n",
      "----------------------------------------------------------------------------------------------------\n",
      "Anzahl der 'Auffälligen' RUULs Datensätze: 947\n",
      "Anzahl der 'Defaults' in den 'Auffälligen' RUULs Datensätzen 382 entspricht 0.4033790918690602\n",
      "----------------------------------------------------------------------------------------------------\n",
      "Anzahl der 'Auffälligen' DebtRatio Datensätze: 10456\n",
      "Anzahl der 'Defaults' in den 'Auffälligen' DebtRatio Datensätzen 690 entspricht 0.06599081866870696\n"
     ]
    }
   ],
   "source": [
    "csRUUL_o1 = cs.loc[(cs.RevolvingUtilizationOfUnsecuredLines > 1.0),:]  # Auslesen der RUUL auffälligen Datensätze\n",
    "csDebtRatio_o1 =  cs.loc[(cs.DebtRatio > 1.0),:]                       # Auslesen der DebtRatio auffälligen Datensätze\n",
    "RUUL_Defaults = csRUUL_o1.SeriousDlqin2yrs.sum()                       # Anzahl der Defaults in den RUUL auffälligen Datensätzen\n",
    "DebtR_Defaults = csDebtRatio_o1.SeriousDlqin2yrs.sum()                 # Anzahl der Defaults in den DebtRatio auffälligen Datensätzen\n",
    "\n",
    "# Ausgabe der Berechnungen\n",
    "print(f\"Anzahl der 'Defaults' im gesamten Datenset {cs.SeriousDlqin2yrs.sum()}, entspricht {cs.SeriousDlqin2yrs.mean()}\")\n",
    "print(\"-\"*100)\n",
    "print(f\"Anzahl der 'Auffälligen' RUULs Datensätze: {csRUUL_o1.shape[0]}\")\n",
    "print(f\"Anzahl der 'Defaults' in den 'Auffälligen' RUULs Datensätzen {RUUL_Defaults} entspricht {RUUL_Defaults/csRUUL_o1.shape[0]}\")\n",
    "print(\"-\"*100)\n",
    "print(f\"Anzahl der 'Auffälligen' DebtRatio Datensätze: {csDebtRatio_o1.shape[0]}\")\n",
    "print(f\"Anzahl der 'Defaults' in den 'Auffälligen' DebtRatio Datensätzen {DebtR_Defaults} entspricht {DebtR_Defaults/csDebtRatio_o1.shape[0]}\")"
   ]
  },
  {
   "cell_type": "markdown",
   "metadata": {},
   "source": [
    "Zumindest die RUULs liefern einen überdurchschnittlichen Erklärungsbeitrag für unser Modell.  \n",
    "Wir nehmen die auffälligen Merkmale mit in unsere weiteren Überlegungen.  \n",
    "Jetzt bauen wir unsere Datenmatrix X und unseren Targetvektor y."
   ]
  },
  {
   "cell_type": "code",
   "execution_count": 57,
   "metadata": {},
   "outputs": [
    {
     "name": "stdout",
     "output_type": "stream",
     "text": [
      "(45000, 10) (45000,)\n",
      "Anteil Defaults im gesamten Datenset 0.067\n"
     ]
    }
   ],
   "source": [
    "X = cs.iloc[:,:-1].copy()\n",
    "y = cs.iloc[:,-1]\n",
    "print(X.shape,y.shape)\n",
    "print(f\"Anteil Defaults im gesamten Datenset {y.mean():.3f}\")"
   ]
  },
  {
   "cell_type": "markdown",
   "metadata": {},
   "source": [
    "Wir splitten in ein Trainingsset (2/3) und ein Testset (1/3):"
   ]
  },
  {
   "cell_type": "code",
   "execution_count": 58,
   "metadata": {
    "jupyter": {
     "source_hidden": true
    }
   },
   "outputs": [
    {
     "name": "stdout",
     "output_type": "stream",
     "text": [
      " Trainingsset: ((30000, 10), (30000,)) / Test Set: ((15000, 10), (15000,))\n"
     ]
    }
   ],
   "source": [
    "from sklearn.model_selection import train_test_split\n",
    "X_train, X_test, y_train, y_test = train_test_split(X, y, test_size=0.33333, shuffle=True, stratify=y, random_state=123)\n",
    "print(f' Trainingsset: {X_train.shape, y_train.shape} / Test Set: {X_test.shape, y_test.shape}')"
   ]
  },
  {
   "cell_type": "markdown",
   "metadata": {},
   "source": [
    "### 5.2 Classification mit Decision Tree Model"
   ]
  },
  {
   "cell_type": "code",
   "execution_count": 59,
   "metadata": {},
   "outputs": [
    {
     "name": "stdout",
     "output_type": "stream",
     "text": [
      "Dummy-Baseline Accuracy: 0.9331333333333334\n",
      "Accuracy Score: 0.8979, AUC: 0.5968\n",
      "\n",
      "               precision    recall  f1-score   support\n",
      "\n",
      "Kein Default       0.95      0.94      0.95     13997\n",
      "     Default       0.24      0.25      0.25      1003\n",
      "\n",
      "    accuracy                           0.90     15000\n",
      "   macro avg       0.59      0.60      0.60     15000\n",
      "weighted avg       0.90      0.90      0.90     15000\n",
      "\n",
      "Confusion Matrix:\n",
      " [[13219   778]\n",
      " [  753   250]]\n"
     ]
    }
   ],
   "source": [
    "from sklearn.tree import DecisionTreeClassifier, export_graphviz\n",
    "from sklearn.metrics import accuracy_score, confusion_matrix, classification_report, roc_auc_score, roc_curve\n",
    "\n",
    "model = 'Decision Tree'\n",
    "t_names = ['Kein Default', 'Default']\n",
    "\n",
    "estimator = DecisionTreeClassifier(class_weight=\"balanced\", ) # max_depth=5\n",
    "estimator.fit(X_train, y_train)\n",
    "\n",
    "ytrue = y_test\n",
    "ypred = estimator.predict(X_test)\n",
    "\n",
    "accuracy = accuracy_score(ytrue, ypred)\n",
    "roc_auc = roc_auc_score(ytrue, ypred)\n",
    "print(f\"Dummy-Baseline Accuracy: {1-y_test.mean()}\")\n",
    "print(f'Accuracy Score: {accuracy:.4f}, AUC: {roc_auc:.4f}')\n",
    "print(\"\\n\",classification_report(ytrue, ypred, target_names=t_names))\n",
    "\n",
    "# Feature Importance aus Model in Dataframe FI schreiben\n",
    "fi_data = {'Feature': list(X_train.columns), 'F_Importance': estimator.feature_importances_}\n",
    "FI = pd.DataFrame(data=fi_data)\n",
    "FI = FI.sort_values('F_Importance', ascending=False); FI\n",
    "\n",
    "# Confusion Matrix erstellen\n",
    "mat = confusion_matrix(ytrue, ypred,)\n",
    "print(\"Confusion Matrix:\\n\",mat)"
   ]
  },
  {
   "cell_type": "code",
   "execution_count": null,
   "metadata": {},
   "outputs": [],
   "source": []
  },
  {
   "cell_type": "code",
   "execution_count": null,
   "metadata": {},
   "outputs": [],
   "source": []
  },
  {
   "cell_type": "markdown",
   "metadata": {},
   "source": [
    "Mit ein paar Optimierungen können wir bereits moderate/gute Ergebnisse erzielen.\n",
    "Nach diesen ersten \"Gehversuchen\" schicken wir ein paar weitere Modelle ins Rennen:"
   ]
  },
  {
   "cell_type": "markdown",
   "metadata": {},
   "source": [
    "### 5.3 Classification mit verschiedenen Modellen"
   ]
  },
  {
   "cell_type": "markdown",
   "metadata": {},
   "source": [
    "Beim Decision Tree Classifier ist es nicht notwendig die Daten zu standardisieren.  \n",
    "Bei den Modellen, die wir jetzt zusätzlich ins Spiel bringen, könnte es sehr hilfreich sein.  \n",
    "Wir behalten uns diesen Preprocessing-Schritt noch vor und probieren es zunächst ohne Standardisierung."
   ]
  },
  {
   "cell_type": "code",
   "execution_count": 60,
   "metadata": {},
   "outputs": [],
   "source": [
    "# # Standardisieren auf der Matrix mit den numerischen Daten\n",
    "# from sklearn.preprocessing import StandardScaler\n",
    "# scaler = StandardScaler()\n",
    "# X_train = scaler.fit_transform(X_train)\n",
    "# X_test = scaler.fit_transform(X_test)"
   ]
  },
  {
   "cell_type": "markdown",
   "metadata": {},
   "source": [
    "Wir bauen uns ein Pipeline aus verschiedenen Classifiern, die wir in einem \"Durchgang\" auf unsere Trainings- und Testdaten anwenden werden.  \n",
    "Die einzelnen Schritte:\n",
    "\n",
    "+ Importieren der notwendigen Classifier Alogrithmen u. verschd. Werkzeuge.\n",
    "+ Instanziierung der einzelnen Algorithmen (so wird ein konkretes Learner-Objekt daraus).\n",
    "+ Erstellen einer Pipeline (Festlegen, welche Modelle tatsächlich angewendet werden sollen).\n",
    "+ Anlegen eines Dataframe, um die Ergebnisse der einzelnen Modelle abzuspeichern.\n",
    "+ Pipeline-Logik: Ruft die vorab defierten Classifier auf u. wendet sie auf X_train u. X_test an.\n",
    "+ Ausgeben der Ergebnisse aus unserem Dataframe"
   ]
  },
  {
   "cell_type": "code",
   "execution_count": 61,
   "metadata": {},
   "outputs": [
    {
     "name": "stdout",
     "output_type": "stream",
     "text": [
      "Dummy-Baseline Accuracy: 0.9331333333333334\n"
     ]
    },
    {
     "data": {
      "text/html": [
       "<div>\n",
       "<style scoped>\n",
       "    .dataframe tbody tr th:only-of-type {\n",
       "        vertical-align: middle;\n",
       "    }\n",
       "\n",
       "    .dataframe tbody tr th {\n",
       "        vertical-align: top;\n",
       "    }\n",
       "\n",
       "    .dataframe thead th {\n",
       "        text-align: right;\n",
       "    }\n",
       "</style>\n",
       "<table border=\"1\" class=\"dataframe\">\n",
       "  <thead>\n",
       "    <tr style=\"text-align: right;\">\n",
       "      <th></th>\n",
       "      <th>Estimator</th>\n",
       "      <th>Accuracy</th>\n",
       "      <th>Precision</th>\n",
       "      <th>Recall</th>\n",
       "      <th>f1</th>\n",
       "      <th>AUC</th>\n",
       "      <th>Duration</th>\n",
       "    </tr>\n",
       "  </thead>\n",
       "  <tbody>\n",
       "    <tr>\n",
       "      <td>1</td>\n",
       "      <td>NB</td>\n",
       "      <td>0.902</td>\n",
       "      <td>0.346</td>\n",
       "      <td>0.516</td>\n",
       "      <td>0.415</td>\n",
       "      <td>0.723</td>\n",
       "      <td>0.068</td>\n",
       "    </tr>\n",
       "    <tr>\n",
       "      <td>2</td>\n",
       "      <td>SVC</td>\n",
       "      <td>0.912</td>\n",
       "      <td>0.083</td>\n",
       "      <td>0.031</td>\n",
       "      <td>0.045</td>\n",
       "      <td>0.503</td>\n",
       "      <td>320.089</td>\n",
       "    </tr>\n",
       "    <tr>\n",
       "      <td>3</td>\n",
       "      <td>LogReg</td>\n",
       "      <td>0.852</td>\n",
       "      <td>0.256</td>\n",
       "      <td>0.631</td>\n",
       "      <td>0.364</td>\n",
       "      <td>0.750</td>\n",
       "      <td>0.461</td>\n",
       "    </tr>\n",
       "    <tr>\n",
       "      <td>4</td>\n",
       "      <td>Knn5</td>\n",
       "      <td>0.932</td>\n",
       "      <td>0.319</td>\n",
       "      <td>0.015</td>\n",
       "      <td>0.029</td>\n",
       "      <td>0.506</td>\n",
       "      <td>0.811</td>\n",
       "    </tr>\n",
       "    <tr>\n",
       "      <td>5</td>\n",
       "      <td>RF</td>\n",
       "      <td>0.932</td>\n",
       "      <td>0.464</td>\n",
       "      <td>0.143</td>\n",
       "      <td>0.218</td>\n",
       "      <td>0.565</td>\n",
       "      <td>0.447</td>\n",
       "    </tr>\n",
       "    <tr>\n",
       "      <td>6</td>\n",
       "      <td>RF opt1</td>\n",
       "      <td>0.794</td>\n",
       "      <td>0.211</td>\n",
       "      <td>0.762</td>\n",
       "      <td>0.331</td>\n",
       "      <td>0.779</td>\n",
       "      <td>2.594</td>\n",
       "    </tr>\n",
       "    <tr>\n",
       "      <td>7</td>\n",
       "      <td>RF opt2</td>\n",
       "      <td>0.786</td>\n",
       "      <td>0.206</td>\n",
       "      <td>0.772</td>\n",
       "      <td>0.325</td>\n",
       "      <td>0.779</td>\n",
       "      <td>7.108</td>\n",
       "    </tr>\n",
       "  </tbody>\n",
       "</table>\n",
       "</div>"
      ],
      "text/plain": [
       "  Estimator  Accuracy  Precision  Recall     f1    AUC  Duration\n",
       "1  NB        0.902     0.346      0.516   0.415  0.723  0.068   \n",
       "2  SVC       0.912     0.083      0.031   0.045  0.503  320.089 \n",
       "3  LogReg    0.852     0.256      0.631   0.364  0.750  0.461   \n",
       "4  Knn5      0.932     0.319      0.015   0.029  0.506  0.811   \n",
       "5  RF        0.932     0.464      0.143   0.218  0.565  0.447   \n",
       "6  RF opt1   0.794     0.211      0.762   0.331  0.779  2.594   \n",
       "7  RF opt2   0.786     0.206      0.772   0.325  0.779  7.108   "
      ]
     },
     "execution_count": 61,
     "metadata": {},
     "output_type": "execute_result"
    }
   ],
   "source": [
    "# Importieren der Classifier Algorithmen, die wir als Kandidaten verwenden möchten:\n",
    "from sklearn.naive_bayes import GaussianNB\n",
    "from sklearn.neighbors import KNeighborsClassifier\n",
    "from sklearn.svm import SVC\n",
    "from sklearn.linear_model import LogisticRegression\n",
    "from sklearn.ensemble import RandomForestClassifier\n",
    "\n",
    "# Importieren von Metriken und Zeitfunktionen\n",
    "from sklearn.metrics import accuracy_score, roc_auc_score, precision_score, recall_score, f1_score, classification_report\n",
    "import time\n",
    "\n",
    "# Hier sind unsere Classifier Kandidaten Modelle\n",
    "clf1 = GaussianNB()\n",
    "clf2 = SVC(class_weight=\"balanced\",)\n",
    "clf3 = LogisticRegression(class_weight=\"balanced\")\n",
    "clf4 = KNeighborsClassifier()\n",
    "# Dem Random Forest spendieren wir 3 Varianten ...\n",
    "clf5 = RandomForestClassifier(class_weight=\"balanced\", n_jobs=-1)\n",
    "clf6 = RandomForestClassifier(n_estimators = 300, class_weight=\"balanced\", max_depth=3,  bootstrap=True, n_jobs=-1)\n",
    "clf7 = RandomForestClassifier(n_estimators = 500, class_weight=\"balanced\", max_depth=5,  bootstrap=False, n_jobs=-1)\n",
    "\n",
    "# Das ist unsere Pipeline die wir durchlaufen\n",
    "pipeline = [(1, \"NB\",clf1),\n",
    "           (2, \"SVC\", clf2),\n",
    "           (3, \"LogReg\", clf3),\n",
    "           (4, \"Knn5\", clf4),\n",
    "           (5, \"RF\", clf5),\n",
    "           (6, \"RF opt1\", clf6),\n",
    "           (7, \"RF opt2\", clf7),\n",
    "          ]  \n",
    "# Wir speichern die \"Rundenergebnisse\" der einzelnen Classifier in einem Dataframe\n",
    "results = pd.DataFrame( {\"Estimator\":[], \"Accuracy\":[], \"Precision\":[], \"Recall\":[], \"f1\":[], \"AUC\":[], \"Duration\":[]} )\n",
    "models_fitted = []  # Ablegen der gefitteten Modelle (Objekte) in einer Liste\n",
    "\n",
    "# Durchlauf mehrerer Modelle und Wegschreiben des Ergebnisses\n",
    "for i, name, estimator in pipeline:\n",
    "    \n",
    "    # Model fitten u. in Liste ablegen\n",
    "    start = time.time()                     # Stoppuhr: Zwischenzeit nehmen\n",
    "    est = estimator.fit(X_train, y_train)   # model aus Listing nehmen und fitten\n",
    "    models_fitted.append(est)\n",
    "\n",
    "    # Scorings erstellen\n",
    "    ytrue = y_test                          # ...\n",
    "    ypred = est.predict(X_test)             # model auf Testdaten anwenden (predict)\n",
    "    \n",
    "    acc = accuracy_score(ytrue, ypred )     # Accuracy \n",
    "    prec = precision_score(ytrue, ypred )   # Precision \n",
    "    rec = recall_score(ytrue, ypred,  )     # Recall\n",
    "    f1 = f1_score(ytrue, ypred, )           # f1-Score\n",
    "    auc = roc_auc_score(ytrue, ypred, )     # AUC\n",
    "    end = time.time()                       # Stoppuhr: Zwischenzeit nehmen\n",
    "    duration = end - start                  # Walltime in Variable abspeichern\n",
    "    \n",
    "    results.loc[i,:] = [name, acc, prec, rec, f1, auc, duration]\n",
    "    \n",
    "print(f\"Dummy-Baseline Accuracy: {1-y_test.mean()}\")\n",
    "results.round(3)"
   ]
  },
  {
   "cell_type": "code",
   "execution_count": 62,
   "metadata": {
    "collapsed": true,
    "jupyter": {
     "outputs_hidden": true
    }
   },
   "outputs": [
    {
     "ename": "NameError",
     "evalue": "name 'results_not_normalized' is not defined",
     "output_type": "error",
     "traceback": [
      "\u001b[1;31m---------------------------------------------------------------------------\u001b[0m",
      "\u001b[1;31mNameError\u001b[0m                                 Traceback (most recent call last)",
      "\u001b[1;32m<ipython-input-62-a56abb076753>\u001b[0m in \u001b[0;36m<module>\u001b[1;34m\u001b[0m\n\u001b[1;32m----> 1\u001b[1;33m \u001b[0mresults_not_normalized\u001b[0m\u001b[1;33m.\u001b[0m\u001b[0mround\u001b[0m\u001b[1;33m(\u001b[0m\u001b[1;36m3\u001b[0m\u001b[1;33m)\u001b[0m\u001b[1;33m\u001b[0m\u001b[1;33m\u001b[0m\u001b[0m\n\u001b[0m",
      "\u001b[1;31mNameError\u001b[0m: name 'results_not_normalized' is not defined"
     ]
    }
   ],
   "source": [
    "results_not_normalized.round(3)"
   ]
  },
  {
   "cell_type": "code",
   "execution_count": null,
   "metadata": {},
   "outputs": [],
   "source": [
    "results_not_normalized = results.copy()"
   ]
  },
  {
   "cell_type": "markdown",
   "metadata": {},
   "source": [
    "## Exkurs: Textmining"
   ]
  },
  {
   "cell_type": "code",
   "execution_count": null,
   "metadata": {
    "collapsed": true,
    "jupyter": {
     "outputs_hidden": true,
     "source_hidden": true
    }
   },
   "outputs": [],
   "source": []
  },
  {
   "cell_type": "code",
   "execution_count": null,
   "metadata": {
    "collapsed": true,
    "jupyter": {
     "outputs_hidden": true,
     "source_hidden": true
    }
   },
   "outputs": [],
   "source": []
  },
  {
   "cell_type": "markdown",
   "metadata": {
    "toc-hr-collapsed": true
   },
   "source": [
    "# Parking / Backstage"
   ]
  },
  {
   "cell_type": "code",
   "execution_count": null,
   "metadata": {
    "jupyter": {
     "source_hidden": true
    }
   },
   "outputs": [],
   "source": [
    "def SavePickle(name, object):\n",
    "    import pickle\n",
    "    save_df = open(str(name)+'.pickle','wb')\n",
    "    pickle.dump(object,save_df)\n",
    "    save_df.close()"
   ]
  },
  {
   "cell_type": "code",
   "execution_count": null,
   "metadata": {
    "collapsed": true,
    "jupyter": {
     "outputs_hidden": true,
     "source_hidden": true
    }
   },
   "outputs": [],
   "source": []
  },
  {
   "cell_type": "code",
   "execution_count": null,
   "metadata": {
    "jupyter": {
     "source_hidden": true
    }
   },
   "outputs": [],
   "source": [
    "from sklearn.model_selection import train_test_split\n",
    "X_train, X_test_total, y_train, y_test_total = train_test_split(X, y, test_size=0.4, shuffle=True, stratify=y, random_state=42)\n",
    "X_val, X_test, y_val, y_test = train_test_split(X_test_total, y_test_total, test_size=0.5, shuffle=True, stratify=y_test_total, random_state=42)\n",
    "print(f' Trainingsset: {X_train.shape, y_train.shape} / Validation Set: {X_val.shape, y_val.shape}  / Test Set: {X_test.shape, y_test.shape}')"
   ]
  },
  {
   "cell_type": "code",
   "execution_count": null,
   "metadata": {
    "jupyter": {
     "source_hidden": true
    }
   },
   "outputs": [],
   "source": [
    "# Confusion Matix plotten\n",
    "def Plot_confMatrix(y_real, y_pred, title='Titel'):\n",
    "    '''\n",
    "    Erstellen einer Confusion Matrix Grafik\n",
    "    im Abgleich von Label y_real und Prognose y_pred\n",
    "    '''\n",
    "    from sklearn.metrics import confusion_matrix\n",
    "    mat = confusion_matrix(y_real, y_pred)\n",
    "    # sns.set(font_scale=1.4)\n",
    "    sns.heatmap(mat, square=True, annot=True,  cmap='Blues', cbar=False, ) #, fmt='d'\n",
    "    plt.xlabel('Prediction')\n",
    "    plt.ylabel('True value')\n",
    "    plt.title(title);\n",
    "    return plt.show()   "
   ]
  },
  {
   "cell_type": "code",
   "execution_count": null,
   "metadata": {
    "collapsed": true,
    "jupyter": {
     "outputs_hidden": true,
     "source_hidden": true
    }
   },
   "outputs": [],
   "source": []
  },
  {
   "cell_type": "code",
   "execution_count": null,
   "metadata": {
    "collapsed": true,
    "jupyter": {
     "outputs_hidden": true,
     "source_hidden": true
    }
   },
   "outputs": [],
   "source": []
  },
  {
   "cell_type": "code",
   "execution_count": null,
   "metadata": {
    "jupyter": {
     "source_hidden": true
    }
   },
   "outputs": [],
   "source": [
    "## Schrittweise Selektion von Features\n",
    "\n",
    "results = pd.DataFrame({\"AnzFeature\":[], \"Feature\":[], \"Score\":[]})\n",
    "\n",
    "for i in range(4,len(X_train.columns)):\n",
    "    columns=X_train.columns.to_list()\n",
    "    cs = []\n",
    "    for _ in range(i): \n",
    "        c = max([(lr.fit(X_train[cs+[c]],y_train).score(X_test[cs+[c]],y_test),c) for c in columns])[1]\n",
    "        columns.remove(c)\n",
    "        cs.append(c)\n",
    "    score = lr.score(X_test[cs],y_test).round(5)\n",
    "    results.loc[i,:] = [int(i), cs, score]\n",
    "        \n",
    "#     print(cs)\n",
    "#     score = lr.score(X_test[cs],y_test); score.round(5)\n",
    "\n",
    "results = results.sort_values(by=\"Score\", ascending=False)\n",
    "results[:1]"
   ]
  },
  {
   "cell_type": "code",
   "execution_count": null,
   "metadata": {
    "collapsed": true,
    "jupyter": {
     "outputs_hidden": true
    }
   },
   "outputs": [],
   "source": []
  },
  {
   "cell_type": "code",
   "execution_count": null,
   "metadata": {},
   "outputs": [],
   "source": [
    "fig, ax = plt.subplots(figsize=(5, 5))\n",
    "category_names = [\"Kein Default\", \"Default\"]\n",
    "sns.heatmap(mat, annot=True, fmt=\"d\", cmap=\"Blues\", cbar=False,\n",
    "            xticklabels=category_names, yticklabels=category_names)\n",
    "plt.ylabel(\"Actual\")\n",
    "plt.xlabel(\"Predicted\"); plt.show()"
   ]
  }
 ],
 "metadata": {
  "kernelspec": {
   "display_name": "Python 3",
   "language": "python",
   "name": "python3"
  },
  "language_info": {
   "codemirror_mode": {
    "name": "ipython",
    "version": 3
   },
   "file_extension": ".py",
   "mimetype": "text/x-python",
   "name": "python",
   "nbconvert_exporter": "python",
   "pygments_lexer": "ipython3",
   "version": "3.7.4"
  },
  "toc-autonumbering": false,
  "toc-showcode": false,
  "toc-showmarkdowntxt": false
 },
 "nbformat": 4,
 "nbformat_minor": 4
}
