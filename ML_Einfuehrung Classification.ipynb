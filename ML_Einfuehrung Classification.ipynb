{
  "nbformat": 4,
  "nbformat_minor": 0,
  "metadata": {
    "kernelspec": {
      "name": "python3",
      "display_name": "Python 3"
    },
    "language_info": {
      "codemirror_mode": {
        "name": "ipython",
        "version": 3
      },
      "file_extension": ".py",
      "mimetype": "text/x-python",
      "name": "python",
      "nbconvert_exporter": "python",
      "pygments_lexer": "ipython3",
      "version": "3.7.4"
    },
    "toc-autonumbering": false,
    "toc-showcode": false,
    "toc-showmarkdowntxt": false,
    "colab": {
      "name": "ML_Einfuehrung.ipynb",
      "provenance": [],
      "collapsed_sections": [
        "A1QX03GT_lL_"
      ],
      "toc_visible": true,
      "include_colab_link": true
    },
    "accelerator": "GPU"
  },
  "cells": [
    {
      "cell_type": "markdown",
      "metadata": {
        "id": "view-in-github",
        "colab_type": "text"
      },
      "source": [
        "<a href=\"https://colab.research.google.com/github/strategiepilot/ML_workshop/blob/master/ML_Einfuehrung%20Classification.ipynb\" target=\"_parent\"><img src=\"https://colab.research.google.com/assets/colab-badge.svg\" alt=\"Open In Colab\"/></a>"
      ]
    },
    {
      "cell_type": "code",
      "metadata": {
        "id": "F5W2nwph_4mQ",
        "colab_type": "code",
        "outputId": "3b63ab5f-85b9-43c6-f88d-368869735496",
        "colab": {
          "base_uri": "https://localhost:8080/",
          "height": 34
        }
      },
      "source": [
        "from google.colab import drive\n",
        "drive.mount('/gdrive')\n",
        "\n"
      ],
      "execution_count": 1,
      "outputs": [
        {
          "output_type": "stream",
          "text": [
            "Drive already mounted at /gdrive; to attempt to forcibly remount, call drive.mount(\"/gdrive\", force_remount=True).\n"
          ],
          "name": "stdout"
        }
      ]
    },
    {
      "cell_type": "code",
      "metadata": {
        "id": "2W8ooMjO_4lS",
        "colab_type": "code",
        "outputId": "81e83ad0-9f5f-4138-d637-25ab37576f3d",
        "colab": {
          "base_uri": "https://localhost:8080/",
          "height": 187
        }
      },
      "source": [
        "import os\n",
        "path = \"/gdrive/My Drive/data\"\n",
        "os.chdir(path)\n",
        "os.getcwd()\n",
        "os.listdir()\n"
      ],
      "execution_count": 2,
      "outputs": [
        {
          "output_type": "execute_result",
          "data": {
            "text/plain": [
              "['TIMEGenderData.csv',\n",
              " 'Kopie von iris.csv',\n",
              " 'times_magazin.csv',\n",
              " 'noten.csv',\n",
              " 'cs-Data Dictionary.xls',\n",
              " 'cs-sampleEntry.csv',\n",
              " 'cs-test.csv',\n",
              " 'bmw_pricing_challenge.csv',\n",
              " 'cs-training.csv',\n",
              " 'cars.csv']"
            ]
          },
          "metadata": {
            "tags": []
          },
          "execution_count": 2
        }
      ]
    },
    {
      "cell_type": "markdown",
      "metadata": {
        "colab_type": "text",
        "id": "BxDDBeZvAyu6"
      },
      "source": [
        "Damit fangen wir immer an ...."
      ]
    },
    {
      "cell_type": "code",
      "metadata": {
        "id": "9rPuT24q_lHE",
        "colab_type": "code",
        "colab": {}
      },
      "source": [
        "%matplotlib inline\n",
        "\n",
        "# Grundausstattung an Bibliotheken, die wir immer laden\n",
        "import numpy as np                  # Numerische Operationen, Lineare Algebra\n",
        "from scipy.stats import *           # Funktionsbibliothek mit statistischen Funktionen\n",
        "import matplotlib.pyplot as plt     # Visualisierung von Daten/Ergenissen\n",
        "import pandas as pd                 # Bearbeitung von Tabellen (sog. Data Frames)\n",
        "import seaborn as sns               # Erweiterte Visualisierung von Daten/Ergebnissen etc.\n",
        "import warnings                     # Ermöglicht die Deaktivierung von best. Warnmeldungen\n",
        "import random                       # Damit kann man Zufallszahlen generieren\n",
        "import os                           # Ermöglicht Zugriff auf das Dateiablagesystem \n",
        "\n",
        "# Ein paar Einstellungen, die einem das Leben einfacher machen\n",
        "warnings.filterwarnings('ignore')\n",
        "plt.rcParams['figure.figsize'] = [8, 4]\n",
        "from IPython.core.pylabtools import figsize\n",
        "plt.style.use('seaborn-white')\n",
        "sns.set_style('white')\n",
        "sns.set_context('talk')\n",
        "\n",
        "path = \"/content/drive/My Drive/data/\""
      ],
      "execution_count": 0,
      "outputs": []
    },
    {
      "cell_type": "markdown",
      "metadata": {
        "toc-hr-collapsed": false,
        "id": "bg9bdTa6_lKV",
        "colab_type": "text"
      },
      "source": [
        "### 3.3 Supervised Learning: Classification"
      ]
    },
    {
      "cell_type": "markdown",
      "metadata": {
        "id": "deHFMrlH_lKY",
        "colab_type": "text"
      },
      "source": [
        "#### Give Me Some Credit\n",
        "https://www.kaggle.com/c/GiveMeSomeCredit/data\n",
        "\n"
      ]
    },
    {
      "cell_type": "code",
      "metadata": {
        "id": "JgIIAl4__lKf",
        "colab_type": "code",
        "outputId": "42219b41-c745-4e7f-a403-24795ce0d3e7",
        "colab": {
          "base_uri": "https://localhost:8080/",
          "height": 289
        }
      },
      "source": [
        "os.chdir(\"/gdrive/My Drive/data\")\n",
        "\n",
        "cs = pd.read_csv(\"cs-training.csv\")\n",
        "cs.iloc[:,0].value_counts(normalize=True)\n",
        "cs = cs.iloc[:,1:]\n",
        "\n",
        "cs.info(verbose=True)"
      ],
      "execution_count": 4,
      "outputs": [
        {
          "output_type": "stream",
          "text": [
            "<class 'pandas.core.frame.DataFrame'>\n",
            "RangeIndex: 150000 entries, 0 to 149999\n",
            "Data columns (total 11 columns):\n",
            "SeriousDlqin2yrs                        150000 non-null int64\n",
            "RevolvingUtilizationOfUnsecuredLines    150000 non-null float64\n",
            "age                                     150000 non-null int64\n",
            "NumberOfTime30-59DaysPastDueNotWorse    150000 non-null int64\n",
            "DebtRatio                               150000 non-null float64\n",
            "MonthlyIncome                           120269 non-null float64\n",
            "NumberOfOpenCreditLinesAndLoans         150000 non-null int64\n",
            "NumberOfTimes90DaysLate                 150000 non-null int64\n",
            "NumberRealEstateLoansOrLines            150000 non-null int64\n",
            "NumberOfTime60-89DaysPastDueNotWorse    150000 non-null int64\n",
            "NumberOfDependents                      146076 non-null float64\n",
            "dtypes: float64(4), int64(7)\n",
            "memory usage: 12.6 MB\n"
          ],
          "name": "stdout"
        }
      ]
    },
    {
      "cell_type": "code",
      "metadata": {
        "id": "OBFKOIL9hBZP",
        "colab_type": "code",
        "outputId": "451a0fe7-5a9e-423a-d5e7-5837cfee7655",
        "colab": {
          "base_uri": "https://localhost:8080/",
          "height": 221
        }
      },
      "source": [
        "cs[\"MonthlyIncome\"] = cs[\"MonthlyIncome\"].fillna( cs[\"MonthlyIncome\"].median() )\n",
        "cs[\"NumberOfDependents\"] = cs[\"NumberOfDependents\"].fillna( cs[\"NumberOfDependents\"].median() )\n",
        "cs.isna().sum()"
      ],
      "execution_count": 5,
      "outputs": [
        {
          "output_type": "execute_result",
          "data": {
            "text/plain": [
              "SeriousDlqin2yrs                        0\n",
              "RevolvingUtilizationOfUnsecuredLines    0\n",
              "age                                     0\n",
              "NumberOfTime30-59DaysPastDueNotWorse    0\n",
              "DebtRatio                               0\n",
              "MonthlyIncome                           0\n",
              "NumberOfOpenCreditLinesAndLoans         0\n",
              "NumberOfTimes90DaysLate                 0\n",
              "NumberRealEstateLoansOrLines            0\n",
              "NumberOfTime60-89DaysPastDueNotWorse    0\n",
              "NumberOfDependents                      0\n",
              "dtype: int64"
            ]
          },
          "metadata": {
            "tags": []
          },
          "execution_count": 5
        }
      ]
    },
    {
      "cell_type": "code",
      "metadata": {
        "id": "tlqCW320Yd82",
        "colab_type": "code",
        "outputId": "3d35b05b-d73a-4960-91d2-2a9ab82aab62",
        "colab": {
          "base_uri": "https://localhost:8080/",
          "height": 390
        }
      },
      "source": [
        "cs2 = cs.copy()        # Target Variable wird nicht \n",
        "\n",
        "cs2 = cs.iloc[:,1:]        # Target Variable wird nicht \n",
        "\n",
        "# data = cs2.iloc[:,1:]\n",
        "\n",
        "cs2 = cs2[np.abs(cs2-cs2.mean()) <= (3*cs2.std())]  # schneidet die Ränder ab alles was außerhalb von 3 Standardabw. liegt\n",
        "cs2 = cs2.merge(cs.SeriousDlqin2yrs, left_index=True, right_index=True, )\n",
        "cs2 = cs2.fillna( cs2.median())\n",
        "# cs2 = cs2[np.abs(cs2-cs2.mean()) <= (3*cs2.std())]  # schneidet die Ränder ab alles was außerhalb von 3 Standardabw. liegt\n",
        "\n",
        "cs2.describe().T"
      ],
      "execution_count": 6,
      "outputs": [
        {
          "output_type": "execute_result",
          "data": {
            "text/html": [
              "<div>\n",
              "<style scoped>\n",
              "    .dataframe tbody tr th:only-of-type {\n",
              "        vertical-align: middle;\n",
              "    }\n",
              "\n",
              "    .dataframe tbody tr th {\n",
              "        vertical-align: top;\n",
              "    }\n",
              "\n",
              "    .dataframe thead th {\n",
              "        text-align: right;\n",
              "    }\n",
              "</style>\n",
              "<table border=\"1\" class=\"dataframe\">\n",
              "  <thead>\n",
              "    <tr style=\"text-align: right;\">\n",
              "      <th></th>\n",
              "      <th>count</th>\n",
              "      <th>mean</th>\n",
              "      <th>std</th>\n",
              "      <th>min</th>\n",
              "      <th>25%</th>\n",
              "      <th>50%</th>\n",
              "      <th>75%</th>\n",
              "      <th>max</th>\n",
              "    </tr>\n",
              "  </thead>\n",
              "  <tbody>\n",
              "    <tr>\n",
              "      <th>RevolvingUtilizationOfUnsecuredLines</th>\n",
              "      <td>150000.0</td>\n",
              "      <td>0.420734</td>\n",
              "      <td>7.041555</td>\n",
              "      <td>0.0</td>\n",
              "      <td>0.029867</td>\n",
              "      <td>0.15371</td>\n",
              "      <td>0.555779</td>\n",
              "      <td>747.0</td>\n",
              "    </tr>\n",
              "    <tr>\n",
              "      <th>age</th>\n",
              "      <td>150000.0</td>\n",
              "      <td>52.281313</td>\n",
              "      <td>14.748528</td>\n",
              "      <td>21.0</td>\n",
              "      <td>41.000000</td>\n",
              "      <td>52.00000</td>\n",
              "      <td>63.000000</td>\n",
              "      <td>96.0</td>\n",
              "    </tr>\n",
              "    <tr>\n",
              "      <th>NumberOfTime30-59DaysPastDueNotWorse</th>\n",
              "      <td>150000.0</td>\n",
              "      <td>0.245267</td>\n",
              "      <td>0.696454</td>\n",
              "      <td>0.0</td>\n",
              "      <td>0.000000</td>\n",
              "      <td>0.00000</td>\n",
              "      <td>0.000000</td>\n",
              "      <td>12.0</td>\n",
              "    </tr>\n",
              "    <tr>\n",
              "      <th>DebtRatio</th>\n",
              "      <td>150000.0</td>\n",
              "      <td>298.125877</td>\n",
              "      <td>873.165950</td>\n",
              "      <td>0.0</td>\n",
              "      <td>0.175074</td>\n",
              "      <td>0.36458</td>\n",
              "      <td>0.837266</td>\n",
              "      <td>6466.0</td>\n",
              "    </tr>\n",
              "    <tr>\n",
              "      <th>MonthlyIncome</th>\n",
              "      <td>150000.0</td>\n",
              "      <td>6155.775693</td>\n",
              "      <td>4069.116628</td>\n",
              "      <td>0.0</td>\n",
              "      <td>3903.000000</td>\n",
              "      <td>5400.00000</td>\n",
              "      <td>7333.000000</td>\n",
              "      <td>45000.0</td>\n",
              "    </tr>\n",
              "    <tr>\n",
              "      <th>NumberOfOpenCreditLinesAndLoans</th>\n",
              "      <td>150000.0</td>\n",
              "      <td>8.201547</td>\n",
              "      <td>4.620626</td>\n",
              "      <td>0.0</td>\n",
              "      <td>5.000000</td>\n",
              "      <td>8.00000</td>\n",
              "      <td>11.000000</td>\n",
              "      <td>23.0</td>\n",
              "    </tr>\n",
              "    <tr>\n",
              "      <th>NumberOfTimes90DaysLate</th>\n",
              "      <td>150000.0</td>\n",
              "      <td>0.089447</td>\n",
              "      <td>0.472688</td>\n",
              "      <td>0.0</td>\n",
              "      <td>0.000000</td>\n",
              "      <td>0.00000</td>\n",
              "      <td>0.000000</td>\n",
              "      <td>12.0</td>\n",
              "    </tr>\n",
              "    <tr>\n",
              "      <th>NumberRealEstateLoansOrLines</th>\n",
              "      <td>150000.0</td>\n",
              "      <td>0.962960</td>\n",
              "      <td>0.938918</td>\n",
              "      <td>0.0</td>\n",
              "      <td>0.000000</td>\n",
              "      <td>1.00000</td>\n",
              "      <td>2.000000</td>\n",
              "      <td>4.0</td>\n",
              "    </tr>\n",
              "    <tr>\n",
              "      <th>NumberOfTime60-89DaysPastDueNotWorse</th>\n",
              "      <td>150000.0</td>\n",
              "      <td>0.064707</td>\n",
              "      <td>0.329788</td>\n",
              "      <td>0.0</td>\n",
              "      <td>0.000000</td>\n",
              "      <td>0.00000</td>\n",
              "      <td>0.000000</td>\n",
              "      <td>11.0</td>\n",
              "    </tr>\n",
              "    <tr>\n",
              "      <th>NumberOfDependents</th>\n",
              "      <td>150000.0</td>\n",
              "      <td>0.701713</td>\n",
              "      <td>1.038216</td>\n",
              "      <td>0.0</td>\n",
              "      <td>0.000000</td>\n",
              "      <td>0.00000</td>\n",
              "      <td>1.000000</td>\n",
              "      <td>4.0</td>\n",
              "    </tr>\n",
              "    <tr>\n",
              "      <th>SeriousDlqin2yrs</th>\n",
              "      <td>150000.0</td>\n",
              "      <td>0.066840</td>\n",
              "      <td>0.249746</td>\n",
              "      <td>0.0</td>\n",
              "      <td>0.000000</td>\n",
              "      <td>0.00000</td>\n",
              "      <td>0.000000</td>\n",
              "      <td>1.0</td>\n",
              "    </tr>\n",
              "  </tbody>\n",
              "</table>\n",
              "</div>"
            ],
            "text/plain": [
              "                                         count  ...      max\n",
              "RevolvingUtilizationOfUnsecuredLines  150000.0  ...    747.0\n",
              "age                                   150000.0  ...     96.0\n",
              "NumberOfTime30-59DaysPastDueNotWorse  150000.0  ...     12.0\n",
              "DebtRatio                             150000.0  ...   6466.0\n",
              "MonthlyIncome                         150000.0  ...  45000.0\n",
              "NumberOfOpenCreditLinesAndLoans       150000.0  ...     23.0\n",
              "NumberOfTimes90DaysLate               150000.0  ...     12.0\n",
              "NumberRealEstateLoansOrLines          150000.0  ...      4.0\n",
              "NumberOfTime60-89DaysPastDueNotWorse  150000.0  ...     11.0\n",
              "NumberOfDependents                    150000.0  ...      4.0\n",
              "SeriousDlqin2yrs                      150000.0  ...      1.0\n",
              "\n",
              "[11 rows x 8 columns]"
            ]
          },
          "metadata": {
            "tags": []
          },
          "execution_count": 6
        }
      ]
    },
    {
      "cell_type": "code",
      "metadata": {
        "id": "lXYMQdERCoGw",
        "colab_type": "code",
        "colab": {}
      },
      "source": [
        "cs3.to_csv(\"cs-training-small.csv\")"
      ],
      "execution_count": 0,
      "outputs": []
    },
    {
      "cell_type": "code",
      "metadata": {
        "id": "_0i8heclDF6D",
        "colab_type": "code",
        "colab": {
          "base_uri": "https://localhost:8080/",
          "height": 68
        },
        "outputId": "5d0c1ba1-15ae-4a57-bc7f-7dc761eb3bcf"
      },
      "source": [
        "cs2.SeriousDlqin2yrs.value_counts(normalize=True)"
      ],
      "execution_count": 9,
      "outputs": [
        {
          "output_type": "execute_result",
          "data": {
            "text/plain": [
              "0    0.93316\n",
              "1    0.06684\n",
              "Name: SeriousDlqin2yrs, dtype: float64"
            ]
          },
          "metadata": {
            "tags": []
          },
          "execution_count": 9
        }
      ]
    },
    {
      "cell_type": "code",
      "metadata": {
        "id": "tj11cJpWDyHX",
        "colab_type": "code",
        "colab": {
          "base_uri": "https://localhost:8080/",
          "height": 289
        },
        "outputId": "ec972b34-cb82-4838-91c5-7d4108e0d1eb"
      },
      "source": [
        "cs2.info()"
      ],
      "execution_count": 11,
      "outputs": [
        {
          "output_type": "stream",
          "text": [
            "<class 'pandas.core.frame.DataFrame'>\n",
            "RangeIndex: 150000 entries, 0 to 149999\n",
            "Data columns (total 11 columns):\n",
            "RevolvingUtilizationOfUnsecuredLines    150000 non-null float64\n",
            "age                                     150000 non-null float64\n",
            "NumberOfTime30-59DaysPastDueNotWorse    150000 non-null float64\n",
            "DebtRatio                               150000 non-null float64\n",
            "MonthlyIncome                           150000 non-null float64\n",
            "NumberOfOpenCreditLinesAndLoans         150000 non-null float64\n",
            "NumberOfTimes90DaysLate                 150000 non-null float64\n",
            "NumberRealEstateLoansOrLines            150000 non-null float64\n",
            "NumberOfTime60-89DaysPastDueNotWorse    150000 non-null float64\n",
            "NumberOfDependents                      150000 non-null float64\n",
            "SeriousDlqin2yrs                        150000 non-null int64\n",
            "dtypes: float64(10), int64(1)\n",
            "memory usage: 12.6 MB\n"
          ],
          "name": "stdout"
        }
      ]
    },
    {
      "cell_type": "code",
      "metadata": {
        "id": "D3sNoO6JDFvV",
        "colab_type": "code",
        "colab": {}
      },
      "source": [
        "from sklearn.model_selection import train_test_split\n",
        "X = cs2.iloc[:,:-1]\n",
        "y = cs2.iloc[:,-1]\n",
        "\n",
        "X_small, X_large, y_small, y_large = train_test_split(X, y, test_size=0.7, shuffle=True, stratify=y, random_state=123)"
      ],
      "execution_count": 0,
      "outputs": []
    },
    {
      "cell_type": "code",
      "metadata": {
        "id": "wllh1B5wDBrv",
        "colab_type": "code",
        "colab": {
          "base_uri": "https://localhost:8080/",
          "height": 68
        },
        "outputId": "fe57db34-620f-4275-d7c1-48cfac411ddf"
      },
      "source": [
        "X_small.shape, y_small.shape\n",
        "y_small.value_counts(normalize=True)"
      ],
      "execution_count": 14,
      "outputs": [
        {
          "output_type": "execute_result",
          "data": {
            "text/plain": [
              "0    0.933156\n",
              "1    0.066844\n",
              "Name: SeriousDlqin2yrs, dtype: float64"
            ]
          },
          "metadata": {
            "tags": []
          },
          "execution_count": 14
        }
      ]
    },
    {
      "cell_type": "code",
      "metadata": {
        "id": "s-Qr-rXk_lK-",
        "colab_type": "code",
        "outputId": "bb16e13c-a816-452d-bf7d-8d61ef55b435",
        "colab": {
          "base_uri": "https://localhost:8080/",
          "height": 289
        }
      },
      "source": [
        "cs3 = pd.concat([X_small, y_small], axis=1)\n",
        "cs3.reset_index( inplace=True, drop=True)\n",
        "cs3.info()"
      ],
      "execution_count": 23,
      "outputs": [
        {
          "output_type": "stream",
          "text": [
            "<class 'pandas.core.frame.DataFrame'>\n",
            "RangeIndex: 45000 entries, 0 to 44999\n",
            "Data columns (total 11 columns):\n",
            "RevolvingUtilizationOfUnsecuredLines    45000 non-null float64\n",
            "age                                     45000 non-null float64\n",
            "NumberOfTime30-59DaysPastDueNotWorse    45000 non-null float64\n",
            "DebtRatio                               45000 non-null float64\n",
            "MonthlyIncome                           45000 non-null float64\n",
            "NumberOfOpenCreditLinesAndLoans         45000 non-null float64\n",
            "NumberOfTimes90DaysLate                 45000 non-null float64\n",
            "NumberRealEstateLoansOrLines            45000 non-null float64\n",
            "NumberOfTime60-89DaysPastDueNotWorse    45000 non-null float64\n",
            "NumberOfDependents                      45000 non-null float64\n",
            "SeriousDlqin2yrs                        45000 non-null int64\n",
            "dtypes: float64(10), int64(1)\n",
            "memory usage: 3.8 MB\n"
          ],
          "name": "stdout"
        }
      ]
    },
    {
      "cell_type": "code",
      "metadata": {
        "id": "3EFjopn0MK3v",
        "colab_type": "code",
        "outputId": "fedf7e32-a07b-45d3-d2dc-3059b78ca59b",
        "colab": {
          "base_uri": "https://localhost:8080/",
          "height": 390
        }
      },
      "source": [
        "cs3.describe(percentiles=[.05,.25,.5,.75,.95], ).T"
      ],
      "execution_count": 29,
      "outputs": [
        {
          "output_type": "execute_result",
          "data": {
            "text/html": [
              "<div>\n",
              "<style scoped>\n",
              "    .dataframe tbody tr th:only-of-type {\n",
              "        vertical-align: middle;\n",
              "    }\n",
              "\n",
              "    .dataframe tbody tr th {\n",
              "        vertical-align: top;\n",
              "    }\n",
              "\n",
              "    .dataframe thead th {\n",
              "        text-align: right;\n",
              "    }\n",
              "</style>\n",
              "<table border=\"1\" class=\"dataframe\">\n",
              "  <thead>\n",
              "    <tr style=\"text-align: right;\">\n",
              "      <th></th>\n",
              "      <th>count</th>\n",
              "      <th>mean</th>\n",
              "      <th>std</th>\n",
              "      <th>min</th>\n",
              "      <th>5%</th>\n",
              "      <th>25%</th>\n",
              "      <th>50%</th>\n",
              "      <th>75%</th>\n",
              "      <th>95%</th>\n",
              "      <th>max</th>\n",
              "    </tr>\n",
              "  </thead>\n",
              "  <tbody>\n",
              "    <tr>\n",
              "      <th>RevolvingUtilizationOfUnsecuredLines</th>\n",
              "      <td>45000.0</td>\n",
              "      <td>0.416316</td>\n",
              "      <td>6.662989</td>\n",
              "      <td>0.0</td>\n",
              "      <td>0.000000</td>\n",
              "      <td>0.030052</td>\n",
              "      <td>0.154618</td>\n",
              "      <td>0.554526</td>\n",
              "      <td>1.0</td>\n",
              "      <td>658.0</td>\n",
              "    </tr>\n",
              "    <tr>\n",
              "      <th>age</th>\n",
              "      <td>45000.0</td>\n",
              "      <td>52.203289</td>\n",
              "      <td>14.769210</td>\n",
              "      <td>21.0</td>\n",
              "      <td>29.000000</td>\n",
              "      <td>41.000000</td>\n",
              "      <td>52.000000</td>\n",
              "      <td>63.000000</td>\n",
              "      <td>78.0</td>\n",
              "      <td>96.0</td>\n",
              "    </tr>\n",
              "    <tr>\n",
              "      <th>NumberOfTime30-59DaysPastDueNotWorse</th>\n",
              "      <td>45000.0</td>\n",
              "      <td>0.248778</td>\n",
              "      <td>0.704626</td>\n",
              "      <td>0.0</td>\n",
              "      <td>0.000000</td>\n",
              "      <td>0.000000</td>\n",
              "      <td>0.000000</td>\n",
              "      <td>0.000000</td>\n",
              "      <td>2.0</td>\n",
              "      <td>12.0</td>\n",
              "    </tr>\n",
              "    <tr>\n",
              "      <th>DebtRatio</th>\n",
              "      <td>45000.0</td>\n",
              "      <td>301.823800</td>\n",
              "      <td>878.506793</td>\n",
              "      <td>0.0</td>\n",
              "      <td>0.004497</td>\n",
              "      <td>0.177000</td>\n",
              "      <td>0.366250</td>\n",
              "      <td>0.856588</td>\n",
              "      <td>2334.1</td>\n",
              "      <td>6466.0</td>\n",
              "    </tr>\n",
              "    <tr>\n",
              "      <th>MonthlyIncome</th>\n",
              "      <td>45000.0</td>\n",
              "      <td>6116.426533</td>\n",
              "      <td>4022.650588</td>\n",
              "      <td>0.0</td>\n",
              "      <td>1500.000000</td>\n",
              "      <td>3878.000000</td>\n",
              "      <td>5400.000000</td>\n",
              "      <td>7254.500000</td>\n",
              "      <td>13058.4</td>\n",
              "      <td>45000.0</td>\n",
              "    </tr>\n",
              "    <tr>\n",
              "      <th>NumberOfOpenCreditLinesAndLoans</th>\n",
              "      <td>45000.0</td>\n",
              "      <td>8.208067</td>\n",
              "      <td>4.620116</td>\n",
              "      <td>0.0</td>\n",
              "      <td>2.000000</td>\n",
              "      <td>5.000000</td>\n",
              "      <td>8.000000</td>\n",
              "      <td>11.000000</td>\n",
              "      <td>17.0</td>\n",
              "      <td>23.0</td>\n",
              "    </tr>\n",
              "    <tr>\n",
              "      <th>NumberOfTimes90DaysLate</th>\n",
              "      <td>45000.0</td>\n",
              "      <td>0.088733</td>\n",
              "      <td>0.473355</td>\n",
              "      <td>0.0</td>\n",
              "      <td>0.000000</td>\n",
              "      <td>0.000000</td>\n",
              "      <td>0.000000</td>\n",
              "      <td>0.000000</td>\n",
              "      <td>1.0</td>\n",
              "      <td>11.0</td>\n",
              "    </tr>\n",
              "    <tr>\n",
              "      <th>NumberRealEstateLoansOrLines</th>\n",
              "      <td>45000.0</td>\n",
              "      <td>0.967444</td>\n",
              "      <td>0.940120</td>\n",
              "      <td>0.0</td>\n",
              "      <td>0.000000</td>\n",
              "      <td>0.000000</td>\n",
              "      <td>1.000000</td>\n",
              "      <td>2.000000</td>\n",
              "      <td>3.0</td>\n",
              "      <td>4.0</td>\n",
              "    </tr>\n",
              "    <tr>\n",
              "      <th>NumberOfTime60-89DaysPastDueNotWorse</th>\n",
              "      <td>45000.0</td>\n",
              "      <td>0.064933</td>\n",
              "      <td>0.334411</td>\n",
              "      <td>0.0</td>\n",
              "      <td>0.000000</td>\n",
              "      <td>0.000000</td>\n",
              "      <td>0.000000</td>\n",
              "      <td>0.000000</td>\n",
              "      <td>0.0</td>\n",
              "      <td>11.0</td>\n",
              "    </tr>\n",
              "    <tr>\n",
              "      <th>NumberOfDependents</th>\n",
              "      <td>45000.0</td>\n",
              "      <td>0.701756</td>\n",
              "      <td>1.036654</td>\n",
              "      <td>0.0</td>\n",
              "      <td>0.000000</td>\n",
              "      <td>0.000000</td>\n",
              "      <td>0.000000</td>\n",
              "      <td>1.000000</td>\n",
              "      <td>3.0</td>\n",
              "      <td>4.0</td>\n",
              "    </tr>\n",
              "    <tr>\n",
              "      <th>SeriousDlqin2yrs</th>\n",
              "      <td>45000.0</td>\n",
              "      <td>0.066844</td>\n",
              "      <td>0.249755</td>\n",
              "      <td>0.0</td>\n",
              "      <td>0.000000</td>\n",
              "      <td>0.000000</td>\n",
              "      <td>0.000000</td>\n",
              "      <td>0.000000</td>\n",
              "      <td>1.0</td>\n",
              "      <td>1.0</td>\n",
              "    </tr>\n",
              "  </tbody>\n",
              "</table>\n",
              "</div>"
            ],
            "text/plain": [
              "                                        count         mean  ...      95%      max\n",
              "RevolvingUtilizationOfUnsecuredLines  45000.0     0.416316  ...      1.0    658.0\n",
              "age                                   45000.0    52.203289  ...     78.0     96.0\n",
              "NumberOfTime30-59DaysPastDueNotWorse  45000.0     0.248778  ...      2.0     12.0\n",
              "DebtRatio                             45000.0   301.823800  ...   2334.1   6466.0\n",
              "MonthlyIncome                         45000.0  6116.426533  ...  13058.4  45000.0\n",
              "NumberOfOpenCreditLinesAndLoans       45000.0     8.208067  ...     17.0     23.0\n",
              "NumberOfTimes90DaysLate               45000.0     0.088733  ...      1.0     11.0\n",
              "NumberRealEstateLoansOrLines          45000.0     0.967444  ...      3.0      4.0\n",
              "NumberOfTime60-89DaysPastDueNotWorse  45000.0     0.064933  ...      0.0     11.0\n",
              "NumberOfDependents                    45000.0     0.701756  ...      3.0      4.0\n",
              "SeriousDlqin2yrs                      45000.0     0.066844  ...      1.0      1.0\n",
              "\n",
              "[11 rows x 10 columns]"
            ]
          },
          "metadata": {
            "tags": []
          },
          "execution_count": 29
        }
      ]
    },
    {
      "cell_type": "code",
      "metadata": {
        "id": "zx0yR0aJMGzo",
        "colab_type": "code",
        "outputId": "20ef05b7-ee38-4703-e8b3-8083df3149f5",
        "colab": {
          "base_uri": "https://localhost:8080/",
          "height": 34
        }
      },
      "source": [
        "from sklearn.model_selection import train_test_split\n",
        "\n",
        "X = cs3.iloc[:,:-1]\n",
        "y = cs3.iloc[:,-1]\n",
        "\n",
        "X_train, X_test, y_train, y_test = train_test_split(X, y, test_size=0.33333, shuffle=True, stratify=y, random_state=123)\n",
        "print(f' Trainingsset: {X_train.shape, y_train.shape} / Test Set: {X_test.shape, y_test.shape}')"
      ],
      "execution_count": 37,
      "outputs": [
        {
          "output_type": "stream",
          "text": [
            " Trainingsset: ((30000, 10), (30000,)) / Test Set: ((15000, 10), (15000,))\n"
          ],
          "name": "stdout"
        }
      ]
    },
    {
      "cell_type": "code",
      "metadata": {
        "id": "4xt9enGp_lLW",
        "colab_type": "code",
        "outputId": "3ff1162b-eb27-4b4f-c243-4037cc16af22",
        "colab": {
          "base_uri": "https://localhost:8080/",
          "height": 252
        }
      },
      "source": [
        "from sklearn.naive_bayes import GaussianNB\n",
        "from sklearn.neighbors import KNeighborsClassifier\n",
        "from sklearn.svm import SVC\n",
        "from sklearn.metrics import classification_report\n",
        "from sklearn.linear_model import LogisticRegression\n",
        "from sklearn.ensemble import RandomForestClassifier\n",
        "from sklearn.metrics import accuracy_score, roc_auc_score, precision_score, recall_score, f1_score\n",
        "import time\n",
        "\n",
        "# Hier sind unsere Kandidaten\n",
        "clf1 = GaussianNB()\n",
        "clf2 = SVC(class_weight=\"balanced\",)\n",
        "clf3 = LogisticRegression(class_weight=\"balanced\")\n",
        "clf4 = KNeighborsClassifier( )\n",
        "# Dem Random Forest spendieren wir 3 Varianten ...\n",
        "clf5 = RandomForestClassifier(class_weight=\"balanced\", n_jobs=-1)\n",
        "clf6 = RandomForestClassifier(n_estimators = 300, class_weight=\"balanced\", max_depth=3,  bootstrap=True, n_jobs=-1)\n",
        "clf7 = RandomForestClassifier(n_estimators = 500, class_weight=\"balanced\", max_depth=5,  bootstrap=False, n_jobs=-1)\n",
        "\n",
        "# Wir speichern die \"Rundenergebnisse\" der einzelnen Classifier in einem Dataframe\n",
        "results = pd.DataFrame( {\"Estimator\":[], \"Accuracy\":[], \"Precision\":[], \"Recall\":[], \"f1\":[], \"AUC\":[], \"Duration\":[]} )\n",
        "models_fitted = []  # Ablegen der gefitteten Modelle (Objekte) in einer Liste\n",
        "\n",
        "# Das ist unsere Pipeline die wir durchlaufen\n",
        "Listing = [(1, \"NB\",clf1),\n",
        "           #(2, \"SVC\", clf2),\n",
        "           (3, \"LogR\", clf3),\n",
        "           (4, \"Knn5\", clf4),\n",
        "           (5, \"RF\", clf5),\n",
        "           (6, \"RF opt1\", clf6),\n",
        "           (7, \"RF opt2\", clf7),\n",
        "          ]  \n",
        "\n",
        "# Durchlauf mehrerer Modelle und Wegschreiben des Ergebnisses\n",
        "\n",
        "for i, name, estimator in Listing:\n",
        "    \n",
        "    # Model fitten u. in Liste ablegen\n",
        "    start = time.time()                     # Stoppuhr: Zwischenzeit nehmen\n",
        "    est = estimator.fit(X_train, y_train)   # model aus Listing nehmen und fitten\n",
        "    models_fitted.append(est)\n",
        "\n",
        "    # Scorings erstellen\n",
        "    ytrue = y_test                          # ...\n",
        "    ypred = est.predict(X_test)             # model auf Testdaten anwenden (predict)\n",
        "    \n",
        "    acc = accuracy_score(ytrue, ypred )     # Accuracy \n",
        "    prec = precision_score(ytrue, ypred )   # Precision \n",
        "    rec = recall_score(ytrue, ypred,  )     # Recall\n",
        "    f1 = f1_score(ytrue, ypred, )           # f1-Score\n",
        "    auc = roc_auc_score(ytrue, ypred, )     # AUC\n",
        "    end = time.time()                       # Stoppuhr: Zwischenzeit nehmen\n",
        "    duration = end - start                  # Walltime in Variable abspeichern\n",
        "    \n",
        "    results.loc[i,:] = [name, acc, prec, rec, f1, auc, duration]\n",
        "    \n",
        "print(f\"Baseline Accuracy: {1-y_test.mean()}\")\n",
        "results.round(3)"
      ],
      "execution_count": 46,
      "outputs": [
        {
          "output_type": "stream",
          "text": [
            "Baseline Accuracy: 0.9331333333333334\n"
          ],
          "name": "stdout"
        },
        {
          "output_type": "execute_result",
          "data": {
            "text/html": [
              "<div>\n",
              "<style scoped>\n",
              "    .dataframe tbody tr th:only-of-type {\n",
              "        vertical-align: middle;\n",
              "    }\n",
              "\n",
              "    .dataframe tbody tr th {\n",
              "        vertical-align: top;\n",
              "    }\n",
              "\n",
              "    .dataframe thead th {\n",
              "        text-align: right;\n",
              "    }\n",
              "</style>\n",
              "<table border=\"1\" class=\"dataframe\">\n",
              "  <thead>\n",
              "    <tr style=\"text-align: right;\">\n",
              "      <th></th>\n",
              "      <th>Estimator</th>\n",
              "      <th>Accuracy</th>\n",
              "      <th>Precision</th>\n",
              "      <th>Recall</th>\n",
              "      <th>f1</th>\n",
              "      <th>AUC</th>\n",
              "      <th>Duration</th>\n",
              "    </tr>\n",
              "  </thead>\n",
              "  <tbody>\n",
              "    <tr>\n",
              "      <th>1</th>\n",
              "      <td>NB</td>\n",
              "      <td>0.902</td>\n",
              "      <td>0.346</td>\n",
              "      <td>0.516</td>\n",
              "      <td>0.415</td>\n",
              "      <td>0.723</td>\n",
              "      <td>0.030</td>\n",
              "    </tr>\n",
              "    <tr>\n",
              "      <th>3</th>\n",
              "      <td>LogR</td>\n",
              "      <td>0.826</td>\n",
              "      <td>0.222</td>\n",
              "      <td>0.638</td>\n",
              "      <td>0.330</td>\n",
              "      <td>0.739</td>\n",
              "      <td>0.503</td>\n",
              "    </tr>\n",
              "    <tr>\n",
              "      <th>4</th>\n",
              "      <td>Knn5</td>\n",
              "      <td>0.932</td>\n",
              "      <td>0.319</td>\n",
              "      <td>0.015</td>\n",
              "      <td>0.029</td>\n",
              "      <td>0.506</td>\n",
              "      <td>0.615</td>\n",
              "    </tr>\n",
              "    <tr>\n",
              "      <th>5</th>\n",
              "      <td>RF</td>\n",
              "      <td>0.935</td>\n",
              "      <td>0.549</td>\n",
              "      <td>0.152</td>\n",
              "      <td>0.238</td>\n",
              "      <td>0.571</td>\n",
              "      <td>3.270</td>\n",
              "    </tr>\n",
              "    <tr>\n",
              "      <th>6</th>\n",
              "      <td>RF opt1</td>\n",
              "      <td>0.775</td>\n",
              "      <td>0.196</td>\n",
              "      <td>0.764</td>\n",
              "      <td>0.312</td>\n",
              "      <td>0.770</td>\n",
              "      <td>3.040</td>\n",
              "    </tr>\n",
              "    <tr>\n",
              "      <th>7</th>\n",
              "      <td>RF opt2</td>\n",
              "      <td>0.793</td>\n",
              "      <td>0.211</td>\n",
              "      <td>0.767</td>\n",
              "      <td>0.331</td>\n",
              "      <td>0.781</td>\n",
              "      <td>9.225</td>\n",
              "    </tr>\n",
              "  </tbody>\n",
              "</table>\n",
              "</div>"
            ],
            "text/plain": [
              "  Estimator  Accuracy  Precision  Recall     f1    AUC  Duration\n",
              "1        NB     0.902      0.346   0.516  0.415  0.723     0.030\n",
              "3      LogR     0.826      0.222   0.638  0.330  0.739     0.503\n",
              "4      Knn5     0.932      0.319   0.015  0.029  0.506     0.615\n",
              "5        RF     0.935      0.549   0.152  0.238  0.571     3.270\n",
              "6   RF opt1     0.775      0.196   0.764  0.312  0.770     3.040\n",
              "7   RF opt2     0.793      0.211   0.767  0.331  0.781     9.225"
            ]
          },
          "metadata": {
            "tags": []
          },
          "execution_count": 46
        }
      ]
    },
    {
      "cell_type": "code",
      "metadata": {
        "id": "_FIYtRybRyZU",
        "colab_type": "code",
        "outputId": "b6d7ad44-9ab4-49c8-da35-3b0f3344cb2d",
        "colab": {
          "base_uri": "https://localhost:8080/",
          "height": 578
        }
      },
      "source": [
        "models_fitted"
      ],
      "execution_count": 47,
      "outputs": [
        {
          "output_type": "execute_result",
          "data": {
            "text/plain": [
              "[GaussianNB(priors=None, var_smoothing=1e-09),\n",
              " LogisticRegression(C=1.0, class_weight='balanced', dual=False,\n",
              "                    fit_intercept=True, intercept_scaling=1, l1_ratio=None,\n",
              "                    max_iter=100, multi_class='auto', n_jobs=None, penalty='l2',\n",
              "                    random_state=None, solver='lbfgs', tol=0.0001, verbose=0,\n",
              "                    warm_start=False),\n",
              " KNeighborsClassifier(algorithm='auto', leaf_size=30, metric='minkowski',\n",
              "                      metric_params=None, n_jobs=None, n_neighbors=5, p=2,\n",
              "                      weights='uniform'),\n",
              " RandomForestClassifier(bootstrap=True, ccp_alpha=0.0, class_weight='balanced',\n",
              "                        criterion='gini', max_depth=None, max_features='auto',\n",
              "                        max_leaf_nodes=None, max_samples=None,\n",
              "                        min_impurity_decrease=0.0, min_impurity_split=None,\n",
              "                        min_samples_leaf=1, min_samples_split=2,\n",
              "                        min_weight_fraction_leaf=0.0, n_estimators=100,\n",
              "                        n_jobs=-1, oob_score=False, random_state=None, verbose=0,\n",
              "                        warm_start=False),\n",
              " RandomForestClassifier(bootstrap=True, ccp_alpha=0.0, class_weight='balanced',\n",
              "                        criterion='gini', max_depth=3, max_features='auto',\n",
              "                        max_leaf_nodes=None, max_samples=None,\n",
              "                        min_impurity_decrease=0.0, min_impurity_split=None,\n",
              "                        min_samples_leaf=1, min_samples_split=2,\n",
              "                        min_weight_fraction_leaf=0.0, n_estimators=300,\n",
              "                        n_jobs=-1, oob_score=False, random_state=None, verbose=0,\n",
              "                        warm_start=False),\n",
              " RandomForestClassifier(bootstrap=False, ccp_alpha=0.0, class_weight='balanced',\n",
              "                        criterion='gini', max_depth=5, max_features='auto',\n",
              "                        max_leaf_nodes=None, max_samples=None,\n",
              "                        min_impurity_decrease=0.0, min_impurity_split=None,\n",
              "                        min_samples_leaf=1, min_samples_split=2,\n",
              "                        min_weight_fraction_leaf=0.0, n_estimators=500,\n",
              "                        n_jobs=-1, oob_score=False, random_state=None, verbose=0,\n",
              "                        warm_start=False)]"
            ]
          },
          "metadata": {
            "tags": []
          },
          "execution_count": 47
        }
      ]
    },
    {
      "cell_type": "code",
      "metadata": {
        "id": "1rgih8Bo_lL9",
        "colab_type": "code",
        "colab": {}
      },
      "source": [
        ""
      ],
      "execution_count": 0,
      "outputs": []
    },
    {
      "cell_type": "markdown",
      "metadata": {
        "toc-hr-collapsed": true,
        "id": "A1QX03GT_lL_",
        "colab_type": "text"
      },
      "source": [
        "# Parkplatz"
      ]
    },
    {
      "cell_type": "code",
      "metadata": {
        "id": "jZLQIO3i_lMA",
        "colab_type": "code",
        "colab": {}
      },
      "source": [
        ""
      ],
      "execution_count": 0,
      "outputs": []
    },
    {
      "cell_type": "code",
      "metadata": {
        "id": "uMZFIxtL_lMF",
        "colab_type": "code",
        "colab": {}
      },
      "source": [
        "## Home Credit Datenset verkleinern auf 30k Datensätze (10%)\n",
        "hc = pd.read_csv(\"application_train.csv\") \n",
        "X = hc.iloc[:,2:].copy()\n",
        "y = hc.iloc[:,1].copy()\n",
        "\n",
        "from sklearn.model_selection import train_test_split\n",
        "X_train, X_test, y_train, y_test = train_test_split(X, y, test_size=0.9, shuffle=True, stratify=y, random_state=42)\n",
        "\n",
        "print(f' Trainingsset: {X_train.shape, y_train.shape}  / Test Set: {X_test.shape, y_test.shape}')\n",
        "print(y_train.value_counts(normalize=True))\n",
        "\n",
        "X_train.index.name = \"idx\"\n",
        "y_train.index.name = \"idx\"\n",
        "X2 = X_train.merge(y_train, on=\"idx\")\n",
        "X2.shape\n"
      ],
      "execution_count": 0,
      "outputs": []
    },
    {
      "cell_type": "code",
      "metadata": {
        "id": "mobsCnNB_lMJ",
        "colab_type": "code",
        "colab": {}
      },
      "source": [
        "X2.to_csv(\"home_credit_small.csv\")"
      ],
      "execution_count": 0,
      "outputs": []
    },
    {
      "cell_type": "code",
      "metadata": {
        "id": "4KpX_Cxn_lMO",
        "colab_type": "code",
        "colab": {}
      },
      "source": [
        "mtcars = pd.read_csv(\"mtcars.csv\", index_col=0, sep=\";\", decimal=\",\")\n",
        "mtcars = mtcars.fillna(mtcars.mean())\n",
        "mtcars.colour = mtcars.colour.fillna(\"MISSING\")"
      ],
      "execution_count": 0,
      "outputs": []
    },
    {
      "cell_type": "code",
      "metadata": {
        "id": "wesAvFJ7_lMU",
        "colab_type": "code",
        "colab": {}
      },
      "source": [
        "# Standardize data (0 mean, 1 stdev)\n",
        "from sklearn.preprocessing import StandardScaler\n",
        "import pandas\n",
        "import numpy\n",
        "url = \"https://raw.githubusercontent.com/jbrownlee/Datasets/master/pima-indians-diabetes.csv\"\n",
        "names = ['preg', 'plas', 'pres', 'skin', 'test', 'mass', 'pedi', 'age', 'klass']\n",
        "dataframe = pandas.read_csv(url, names=names, )\n",
        "dataframe.index.name=\"idx\"\n",
        "array = dataframe.values\n",
        "print(dataframe.shape)\n",
        "# separate array into input and output components\n",
        "X = array[:,0:8]\n",
        "Y = array[:,8]\n",
        "scaler = StandardScaler().fit(X)\n",
        "rescaledX = scaler.transform(X)\n",
        "# summarize transformed data\n",
        "numpy.set_printoptions(precision=3)\n",
        "print(rescaledX[0:5,:])\n",
        "\n",
        "df = pd.DataFrame(rescaledX, columns=names[:8])\n",
        "df.index.name=\"idx\"\n",
        "df = df.merge(dataframe.klass, on=\"idx\" )\n",
        "print(df.shape)\n",
        "df\n"
      ],
      "execution_count": 0,
      "outputs": []
    },
    {
      "cell_type": "code",
      "metadata": {
        "id": "l6pUsHXn_lMW",
        "colab_type": "code",
        "colab": {}
      },
      "source": [
        "dataframe.klass"
      ],
      "execution_count": 0,
      "outputs": []
    },
    {
      "cell_type": "markdown",
      "metadata": {
        "id": "77wK6FV7_lMb",
        "colab_type": "text"
      },
      "source": [
        "Variablen im Boston Housing Dataset:\n",
        "+ CRIM - per capita crime rate by town\n",
        "+ ZN - proportion of residential land zoned for lots over 25,000 sq.ft.\n",
        "+ INDUS - proportion of non-retail business acres per town.\n",
        "+ CHAS - Charles River dummy variable (1 if tract bounds river; 0 otherwise)\n",
        "+ NOX - nitric oxides concentration (parts per 10 million)\n",
        "+ RM - average number of rooms per dwelling\n",
        "+ AGE - proportion of owner-occupied units built prior to 1940\n",
        "+ DIS - weighted distances to five Boston employment centres\n",
        "+ RAD - index of accessibility to radial highways\n",
        "+ TAX - full-value property-tax rate per USD 10,000\n",
        "+ PTRATIO - pupil-teacher ratio by town\n",
        "+ B - 1000(Bk - 0.63)^2 where Bk is the proportion of blacks by town\n",
        "+ LSTAT - % lower status of the population\n",
        "+ MEDV - Median value of owner-occupied homes in USD 1000's"
      ]
    },
    {
      "cell_type": "code",
      "metadata": {
        "id": "tdFxgfuF_lMc",
        "colab_type": "code",
        "colab": {}
      },
      "source": [
        ""
      ],
      "execution_count": 0,
      "outputs": []
    },
    {
      "cell_type": "code",
      "metadata": {
        "id": "gwe72wwE_lMg",
        "colab_type": "code",
        "colab": {}
      },
      "source": [
        "from sklearn.model_selection import train_test_split\n",
        "X_train, X_test_total, y_train, y_test_total = train_test_split(X, y, test_size=0.4, shuffle=True, stratify=y, random_state=42)\n",
        "X_val, X_test, y_val, y_test = train_test_split(X_test_total, y_test_total, test_size=0.5, shuffle=True, stratify=y_test_total, random_state=42)\n",
        "print(f' Trainingsset: {X_train.shape, y_train.shape} / Validation Set: {X_val.shape, y_val.shape}  / Test Set: {X_test.shape, y_test.shape}')"
      ],
      "execution_count": 0,
      "outputs": []
    },
    {
      "cell_type": "code",
      "metadata": {
        "id": "EpyPbujp_lMl",
        "colab_type": "code",
        "colab": {}
      },
      "source": [
        "# Confusion Matix plotten\n",
        "def Plot_confMatrix(y_real, y_pred, title='Titel'):\n",
        "    '''\n",
        "    Erstellen einer Confusion Matrix Grafik\n",
        "    im Abgleich von Label y_real und Prognose y_pred\n",
        "    '''\n",
        "    from sklearn.metrics import confusion_matrix\n",
        "    mat = confusion_matrix(y_real, y_pred)\n",
        "    sns.set(font_scale=1.4)\n",
        "    sns.heatmap(mat, square=True, annot=True, fmt='d',  cmap='Blues', cbar=True, )\n",
        "    plt.xlabel('Prediction')\n",
        "    plt.ylabel('True value')\n",
        "    plt.title(title);\n",
        "    return plt.show()   "
      ],
      "execution_count": 0,
      "outputs": []
    },
    {
      "cell_type": "code",
      "metadata": {
        "id": "g-FNmw3g_lMo",
        "colab_type": "code",
        "colab": {}
      },
      "source": [
        "from sklearn.metrics import confusion_matrix"
      ],
      "execution_count": 0,
      "outputs": []
    },
    {
      "cell_type": "code",
      "metadata": {
        "id": "lNiZBoLg_lMr",
        "colab_type": "code",
        "colab": {}
      },
      "source": [
        "## Home Credit Datenset verkleinern auf 30k Datensätze (10%)\n",
        "hc = pd.read_csv(\"application_train.csv\") \n",
        "X = hc.iloc[:,2:].copy()\n",
        "y = hc.iloc[:,1].copy()\n",
        "\n",
        "from sklearn.model_selection import train_test_split\n",
        "X_train, X_test, y_train, y_test = train_test_split(X, y, test_size=0.9, shuffle=True, stratify=y, random_state=42)\n",
        "\n",
        "print(f' Trainingsset: {X_train.shape, y_train.shape}  / Test Set: {X_test.shape, y_test.shape}')\n",
        "print(y_train.value_counts(normalize=True))\n",
        "\n",
        "X.index.name = \"idx\"\n",
        "y.index.name = \"idx\"\n",
        "X2 = X.merge(y, on=\"idx\")\n",
        "\n"
      ],
      "execution_count": 0,
      "outputs": []
    },
    {
      "cell_type": "code",
      "metadata": {
        "id": "lIMkJNMj_lMu",
        "colab_type": "code",
        "colab": {}
      },
      "source": [
        ""
      ],
      "execution_count": 0,
      "outputs": []
    },
    {
      "cell_type": "code",
      "metadata": {
        "id": "JR071sJe_lM1",
        "colab_type": "code",
        "colab": {}
      },
      "source": [
        "from sklearn.tree import DecisionTreeClassifier, export_graphviz\n",
        "from sklearn.metrics import accuracy_score, confusion_matrix, classification_report, roc_auc_score, roc_curve\n",
        "\n",
        "model = 'Baseline Decision Tree'\n",
        "t_names = ['Manuelle Entscheidung', 'Systementscheidung']\n",
        "\n",
        "estimator = DecisionTreeClassifier(max_depth=5)\n",
        "estimator.fit(X_train, y_train)\n",
        "\n",
        "ytrue = y_val\n",
        "ypred = estimator.predict(X_val)\n",
        "ppred = estimator.predict_proba(X_val)\n",
        "ppred_1 = ppred[:, 1]\n",
        "ppred_0 = ppred[:, 0]\n",
        "\n",
        "accuracy = accuracy_score(ytrue, ypred)\n",
        "roc_auc = roc_auc_score(ytrue, ppred_1)\n",
        "print(f'Accuracy Score: {accuracy:.4f}, AUC: {roc_auc:.4f}')\n",
        "print(classification_report(ytrue, ypred, target_names=t_names))\n",
        "\n",
        "# Feature Importance aus Model in Dataframe FI schreiben\n",
        "fi_data = {'Feature': list(X_train.columns), 'F_Importance': estimator.feature_importances_}\n",
        "FI = pd.DataFrame(data=fi_data)\n",
        "FI = FI.sort_values('F_Importance', ascending=False)[:15]\n",
        "FI"
      ],
      "execution_count": 0,
      "outputs": []
    },
    {
      "cell_type": "code",
      "metadata": {
        "id": "P-Ktu2mW_lM7",
        "colab_type": "code",
        "colab": {}
      },
      "source": [
        ""
      ],
      "execution_count": 0,
      "outputs": []
    },
    {
      "cell_type": "code",
      "metadata": {
        "id": "xaLikAuK_lM_",
        "colab_type": "code",
        "colab": {}
      },
      "source": [
        "os.chdir(\"F://Data/Data Science Uni/40200/BMW Bank Seminar/Data Sets\")\n",
        "os.listdir()"
      ],
      "execution_count": 0,
      "outputs": []
    },
    {
      "cell_type": "code",
      "metadata": {
        "id": "UXCb4IId_lNC",
        "colab_type": "code",
        "colab": {}
      },
      "source": [
        "cars.columns"
      ],
      "execution_count": 0,
      "outputs": []
    },
    {
      "cell_type": "code",
      "metadata": {
        "id": "QbJ2B1zw_lNH",
        "colab_type": "code",
        "colab": {}
      },
      "source": [
        "cols = [c.strip() for c in cars.columns]"
      ],
      "execution_count": 0,
      "outputs": []
    },
    {
      "cell_type": "code",
      "metadata": {
        "id": "TlfaMgXj_lNP",
        "colab_type": "code",
        "colab": {}
      },
      "source": [
        ""
      ],
      "execution_count": 0,
      "outputs": []
    },
    {
      "cell_type": "code",
      "metadata": {
        "id": "3yPnU0rU_lNT",
        "colab_type": "code",
        "colab": {}
      },
      "source": [
        "cars.info()"
      ],
      "execution_count": 0,
      "outputs": []
    },
    {
      "cell_type": "code",
      "metadata": {
        "id": "IrUB-ogS_lNX",
        "colab_type": "code",
        "colab": {}
      },
      "source": [
        ""
      ],
      "execution_count": 0,
      "outputs": []
    },
    {
      "cell_type": "code",
      "metadata": {
        "id": "BSRJJN20_lNa",
        "colab_type": "code",
        "colab": {}
      },
      "source": [
        "cars.describe()"
      ],
      "execution_count": 0,
      "outputs": []
    },
    {
      "cell_type": "code",
      "metadata": {
        "id": "xLfDyMYo_lNd",
        "colab_type": "code",
        "colab": {}
      },
      "source": [
        "os.chdir(\"F://Data/Data Science Uni/40200/BMW Bank Seminar/Data Sets\")\n",
        "os.listdir()\n",
        "\n",
        "cars = pd.read_csv(\"cars.csv\", sep=\",\", decimal=\".\")\n",
        "\n",
        "# Leerstellen in Bezeichnungen entfernen und falsche Datentypen korrigieren\n",
        "cols = [c.strip() for c in cars.columns]\n",
        "cars.columns = cols\n",
        "cars.country = cars.country.str.strip()\n",
        "cars.cubicinches = cars.cubicinches.str.strip()\n",
        "cars.weightlbs = cars.weightlbs.str.strip()\n",
        "cars.cubicinches = pd.to_numeric(cars.cubicinches)\n",
        "cars.weightlbs = pd.to_numeric(cars.weightlbs)\n",
        "\n",
        "# Spalten mit NA-Werten identifizieren und mit Mittelwert imputieren\n",
        "cols_nan = [c for c in cars.columns if any(cars[c].isna())]\n",
        "cars[cols_nan] = cars[cols_nan].fillna(cars[cols_nan].mean())\n",
        "\n",
        "# Neue Spalte \"country_code\": Country (Datentyp Text) in numerisches Format encoden\n",
        "from sklearn.preprocessing import LabelEncoder\n",
        "le = LabelEncoder()\n",
        "cars[\"country_code\"] = pd.Series(le.fit_transform(cars.country))\n",
        "\n",
        "print(list(enumerate(le.classes_)))\n",
        "cars.head()\n"
      ],
      "execution_count": 0,
      "outputs": []
    },
    {
      "cell_type": "code",
      "metadata": {
        "id": "vOoy9QYc_lNg",
        "colab_type": "code",
        "colab": {}
      },
      "source": [
        ""
      ],
      "execution_count": 0,
      "outputs": []
    },
    {
      "cell_type": "code",
      "metadata": {
        "id": "OdQHugeQ_lNi",
        "colab_type": "code",
        "colab": {}
      },
      "source": [
        "sns.pairplot(cars, size=2)"
      ],
      "execution_count": 0,
      "outputs": []
    },
    {
      "cell_type": "code",
      "metadata": {
        "id": "JWfHuYJr_lNo",
        "colab_type": "code",
        "colab": {}
      },
      "source": [
        "\n",
        "# k-Means Algorithmus anwenden\n",
        "from sklearn.cluster import KMeans\n",
        "\n",
        "X = cars.drop([\"country\", \"country_code\"], axis=1)\n",
        "y = cars.country_code\n",
        "\n",
        "km = KMeans(n_clusters=3).fit(X)           # Wendet k-Means auf X an, mit Vorgabe 3 Cluster\n",
        "km.labels_                                 # k-Means hat für jeden Datenpunkt eine Zuordnung vorgenommen"
      ],
      "execution_count": 0,
      "outputs": []
    },
    {
      "cell_type": "code",
      "metadata": {
        "id": "YCYU0l4u_lNr",
        "colab_type": "code",
        "colab": {}
      },
      "source": [
        "# Visualisierung der Zuordnungen\n",
        "figsize(12,8)\n",
        "print(list(enumerate(X.columns)))\n",
        "\n",
        "i,j = 0,6\n",
        "\n",
        "plt.scatter(X.iloc[:,i], X.iloc[:,j], c=km.labels_, cmap=\"rainbow\")\n",
        "plt.scatter(km.cluster_centers_[:,i], km.cluster_centers_[:,j], c='k', marker='*', s=300, ) # Scatterplot mit Centroids\n",
        "plt.show()"
      ],
      "execution_count": 0,
      "outputs": []
    },
    {
      "cell_type": "markdown",
      "metadata": {
        "id": "Sz92sqjf_lNu",
        "colab_type": "text"
      },
      "source": [
        "Da wir das Modell jetzt trainiert haben, können wir es verwenden, um NEUE Datensätze zu beurteilen:"
      ]
    },
    {
      "cell_type": "code",
      "metadata": {
        "id": "gjpCEbvQ_lNv",
        "colab_type": "code",
        "colab": {}
      },
      "source": [
        "# Wir pflücken drei neue Schwertlilien, vermessen Ihre Blätter... \n",
        "iris_New = np.array([[5, 2.4, 6.2, 1.8],\n",
        "                     [3, 3, 4, 3],\n",
        "                     [4.2, 7, 4, 1.2]])\n",
        "\n",
        "#  und nutzen jetzt unser trainiertes Modell km zur Einordnung\n",
        "km.predict(iris_New)"
      ],
      "execution_count": 0,
      "outputs": []
    },
    {
      "cell_type": "code",
      "metadata": {
        "id": "nPXM6gQZ_lNy",
        "colab_type": "code",
        "colab": {}
      },
      "source": [
        ""
      ],
      "execution_count": 0,
      "outputs": []
    }
  ]
}