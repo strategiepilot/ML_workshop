{
 "cells": [
  {
   "cell_type": "markdown",
   "metadata": {},
   "source": [
    "... imports"
   ]
  },
  {
   "cell_type": "code",
   "execution_count": null,
   "metadata": {},
   "outputs": [],
   "source": [
    "import pandas as pd\n",
    "import numpy as np\n",
    "import os\n",
    "import spacy\n",
    "from spacy.lang.de import German\n",
    "from spacy.lang.en import English\n",
    "from spacy import displacy\n",
    "\n",
    "from spacy.lang.de.stop_words import STOP_WORDS\n",
    "nlp = spacy.load('de_core_news_sm')"
   ]
  },
  {
   "cell_type": "markdown",
   "metadata": {},
   "source": [
    "***\n",
    "## Text Preprocessing mit Spacy"
   ]
  },
  {
   "cell_type": "markdown",
   "metadata": {},
   "source": [
    "### Online-Artikel aus auto.motorsport einlesen und tokenizen"
   ]
  },
  {
   "cell_type": "code",
   "execution_count": null,
   "metadata": {},
   "outputs": [],
   "source": [
    "txt = open(\"Vierer.txt\", encoding=\"utf-8\").read()\n",
    "doc = nlp(txt); doc\n",
    "\n",
    "for i,sent in enumerate(doc.sents):\n",
    "    print(i,sent)\n",
    "    \n",
    "# print(txt)"
   ]
  },
  {
   "cell_type": "markdown",
   "metadata": {},
   "source": [
    "Beim Einlesen dem sog. \"Parsen\" wird ein vortrainiertes NLP-Modell auf die Daten angewandt.  \n",
    "Dadurch werden die einzelnen Elemente des Textes automatisch bereits klassifiziert:  "
   ]
  },
  {
   "cell_type": "code",
   "execution_count": null,
   "metadata": {},
   "outputs": [],
   "source": [
    "bspDisp = nlp(\"Die große vertikale Niere ist zurück.\")\n",
    "displacy.render(bspDisp, style=(\"dep\"))"
   ]
  },
  {
   "cell_type": "markdown",
   "metadata": {},
   "source": [
    "Natürlich liegen diese Informationen für jedes \"Token\" (hier jedes Wort) vor:"
   ]
  },
  {
   "cell_type": "code",
   "execution_count": null,
   "metadata": {},
   "outputs": [],
   "source": [
    "bmwToken = pd.DataFrame({\"TOKEN\":[], \"LEMMA\":[], \"POS\":[], \"TAG\":[], \"DEP\":[], \"SHAPE\":[], \"ALPHA\":[],  \"STOP\":[],})\n",
    "for i,token in enumerate(doc):\n",
    "    tokenFeatures = [token.text,\ttoken.lemma_, token.pos_, token.tag_, token.dep_, token.shape_, token.is_alpha, token.is_stop,]\n",
    "    bmwToken.loc[i,:] = tokenFeatures\n",
    "\n",
    "bmwToken.drop_duplicates(subset=\"TOKEN\", inplace=True)\n",
    "print(len(bmwToken))\n",
    "bmwToken.sample(20)"
   ]
  },
  {
   "cell_type": "code",
   "execution_count": null,
   "metadata": {},
   "outputs": [],
   "source": [
    "bmwToken.sample(20, random_state=111)"
   ]
  },
  {
   "cell_type": "markdown",
   "metadata": {},
   "source": [
    "### Stoppwörter rausfiltern"
   ]
  },
  {
   "cell_type": "markdown",
   "metadata": {},
   "source": [
    "Stoppwort Liste erstellen"
   ]
  },
  {
   "cell_type": "code",
   "execution_count": null,
   "metadata": {},
   "outputs": [],
   "source": [
    "stopwordsDE = list(STOP_WORDS)\n",
    "print(\"Anzahl: \",len(stopwordsDE)); print(stopwordsDE[:50])"
   ]
  },
  {
   "cell_type": "code",
   "execution_count": null,
   "metadata": {},
   "outputs": [],
   "source": [
    "bsp = nlp(\"Dieser Satz strotzt nur so vor lauter Stoppwörtern und es macht nicht nur Spaß sie alle zu finden \")\n",
    "for token in bsp:\n",
    "    if token.is_stop==True:\n",
    "        print(token.text, token.pos_, token.is_stop)"
   ]
  },
  {
   "cell_type": "code",
   "execution_count": null,
   "metadata": {},
   "outputs": [],
   "source": [
    "NoStopWordsDoc = [token for token in doc if token.is_stop == False]\n",
    "print(NoStopWordsDoc[:100])"
   ]
  },
  {
   "cell_type": "markdown",
   "metadata": {},
   "source": [
    "### Lemmatisieren"
   ]
  },
  {
   "cell_type": "code",
   "execution_count": null,
   "metadata": {},
   "outputs": [],
   "source": [
    "bspLemma = nlp('sehen gesehen sah sieht saht sahen seht siehste')\n",
    "for lem in bspLemma: print(lem.text, \"LEMMA ==> \", lem.lemma_)"
   ]
  },
  {
   "cell_type": "markdown",
   "metadata": {},
   "source": [
    "### Entity Detection"
   ]
  },
  {
   "cell_type": "code",
   "execution_count": null,
   "metadata": {},
   "outputs": [],
   "source": [
    "entities = pd.DataFrame({\"text\":[], \"start_char\":[],\"end_char\":[],\"label\":[]})\n",
    "for i, ent in enumerate(doc.ents):\n",
    "    vars = [ent.text, ent.start_char, ent.end_char, ent.label_]\n",
    "    # print(vars)\n",
    "    entities.loc[i,:] = vars\n",
    "    \n",
    "entities.drop_duplicates(subset=\"text\", inplace=True)\n",
    "print(len(entities))\n",
    "print(entities.label.unique())\n",
    "print(entities.text.unique())"
   ]
  },
  {
   "cell_type": "code",
   "execution_count": null,
   "metadata": {},
   "outputs": [],
   "source": [
    "displacy.render(doc, style=\"ent\", page=True,)"
   ]
  },
  {
   "cell_type": "markdown",
   "metadata": {},
   "source": [
    "***\n",
    "## Text Classification auf Basis von YELP, amazon & IMDB Reviews"
   ]
  },
  {
   "cell_type": "code",
   "execution_count": null,
   "metadata": {},
   "outputs": [],
   "source": [
    "from sklearn.feature_extraction.text import TfidfVectorizer\n",
    "from sklearn.pipeline import Pipeline\n",
    "from sklearn.model_selection import train_test_split\n",
    "from sklearn.metrics import accuracy_score, classification_report, confusion_matrix "
   ]
  },
  {
   "cell_type": "markdown",
   "metadata": {},
   "source": [
    "Daten laden"
   ]
  },
  {
   "cell_type": "code",
   "execution_count": null,
   "metadata": {},
   "outputs": [],
   "source": [
    "pd.set_option('display.max_colwidth', -1)\n",
    "data = pd.read_csv(\"amazonYelpImdb.csv\")\n",
    "data.sample(10)"
   ]
  },
  {
   "cell_type": "code",
   "execution_count": null,
   "metadata": {},
   "outputs": [],
   "source": [
    "data.Sentiment.value_counts()"
   ]
  },
  {
   "cell_type": "markdown",
   "metadata": {},
   "source": [
    "Preprocessing Function, die jeden einzelnen Review bearbeitet"
   ]
  },
  {
   "cell_type": "code",
   "execution_count": null,
   "metadata": {},
   "outputs": [],
   "source": [
    "from spacy.lang.en.stop_words import STOP_WORDS\n",
    "import string\n",
    "punct = string.punctuation\n",
    "stopwords = list(STOP_WORDS)\n",
    "\n",
    "def text_data_cleaning(sentence):\n",
    "    doc = nlp(sentence)\n",
    "    \n",
    "    tokens = []\n",
    "    for token in doc:\n",
    "        if token.lemma_ != \"-PRON-\":\n",
    "            temp = token.lemma_.lower().strip()\n",
    "        else:\n",
    "            temp = token.lower_\n",
    "        tokens.append(temp)\n",
    "    \n",
    "    cleaned_tokens = []\n",
    "    for token in tokens:\n",
    "        if token not in stopwords and token not in punct:\n",
    "            cleaned_tokens.append(token)\n",
    "    return cleaned_tokens"
   ]
  },
  {
   "cell_type": "code",
   "execution_count": null,
   "metadata": {},
   "outputs": [],
   "source": [
    "text_data_cleaning(\"Martin, Herbert & Susanne are going to enjoy this afternoon at BMW after their heavy lunch break\")"
   ]
  },
  {
   "cell_type": "markdown",
   "metadata": {},
   "source": [
    "#### Vectorization Feature Engineering (TF-IDF)"
   ]
  },
  {
   "cell_type": "code",
   "execution_count": null,
   "metadata": {},
   "outputs": [],
   "source": [
    "from sklearn.svm import LinearSVC\n",
    "tfidf = TfidfVectorizer(tokenizer=text_data_cleaning)\n",
    "classifier = LinearSVC()\n",
    "\n",
    "X,y = data[\"Review\"], data[\"Sentiment\"]\n",
    "X_train, X_test, y_train, y_test = train_test_split(X, y, test_size = 0.2, random_state = 42)\n",
    "\n",
    "clf = Pipeline([('tfidf', tfidf), ('clf', classifier)])\n",
    "clf.fit(X_train, y_train)\n",
    "y_pred = clf.predict(X_test)\n",
    "print(classification_report(y_test,y_pred, target_names=[\"Negativ\", \"Positiv\"]))\n"
   ]
  },
  {
   "cell_type": "code",
   "execution_count": null,
   "metadata": {},
   "outputs": [],
   "source": [
    "newText_1 = \"Will not buy a Mercedes again\"\n",
    "newText_2 = \"The new BMW is an absolutely wonderful experience\"\n",
    "clf.predict([newText_1, newText_2,])"
   ]
  },
  {
   "cell_type": "code",
   "execution_count": null,
   "metadata": {},
   "outputs": [],
   "source": []
  },
  {
   "cell_type": "code",
   "execution_count": null,
   "metadata": {},
   "outputs": [],
   "source": []
  },
  {
   "cell_type": "code",
   "execution_count": null,
   "metadata": {},
   "outputs": [],
   "source": []
  },
  {
   "cell_type": "markdown",
   "metadata": {},
   "source": [
    "# Parkplatz"
   ]
  },
  {
   "cell_type": "code",
   "execution_count": null,
   "metadata": {
    "jupyter": {
     "source_hidden": true
    }
   },
   "outputs": [],
   "source": [
    "url = \"https://raw.githubusercontent.com/strategiepilot/NLP-Tutorial-8---Sentiment-Classification-using-SpaCy-for-IMDB-and-Amazon-Review-Dataset/master/datasets/\"\n",
    "columns_name = ['Review', 'Sentiment']\n",
    "data_yelp = pd.read_csv(url+\"yelp_labelled.txt\", sep='\\t', header = None, names=columns_name)            ; print(data_yelp.shape)\n",
    "data_amazon = pd.read_csv(url+\"amazon_cells_labelled.txt\", sep='\\t', header = None, names=columns_name)  ; print(data_amazon.shape)\n",
    "data_imdb = pd.read_csv(url+\"imdb_labelled.txt\", sep='\\t', header = None, names=columns_name)            ; print(data_imdb.shape)\n",
    "data = pd.concat([data_yelp, data_amazon, data_imdb], axis=0, ignore_index=True, )                       ; print(data.shape)\n",
    "data.head()"
   ]
  }
 ],
 "metadata": {
  "kernelspec": {
   "display_name": "Python 3",
   "language": "python",
   "name": "python3"
  },
  "language_info": {
   "codemirror_mode": {
    "name": "ipython",
    "version": 3
   },
   "file_extension": ".py",
   "mimetype": "text/x-python",
   "name": "python",
   "nbconvert_exporter": "python",
   "pygments_lexer": "ipython3",
   "version": "3.7.4"
  }
 },
 "nbformat": 4,
 "nbformat_minor": 4
}
